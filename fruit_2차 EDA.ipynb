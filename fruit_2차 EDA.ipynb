{
 "cells": [
  {
   "cell_type": "markdown",
   "id": "aeb78b14",
   "metadata": {},
   "source": [
    "# 농식품 구매정보 데이터"
   ]
  },
  {
   "cell_type": "markdown",
   "id": "3e711ce9",
   "metadata": {},
   "source": [
    "## 1. EDA"
   ]
  },
  {
   "cell_type": "code",
   "execution_count": 62,
   "id": "a33cbe83",
   "metadata": {},
   "outputs": [
    {
     "name": "stderr",
     "output_type": "stream",
     "text": [
      "C:\\Users\\kuy20\\AppData\\Local\\Temp\\ipykernel_28084\\3762413277.py:2: FutureWarning: Inferring datetime64[ns] from data containing strings is deprecated and will be removed in a future version. To retain the old behavior explicitly pass Series(data, dtype=datetime64[ns])\n",
      "  data=pd.read_excel('C:/Users/kuy20/Desktop/실습/sql/fruits.xlsx')\n"
     ]
    },
    {
     "name": "stdout",
     "output_type": "stream",
     "text": [
      "<class 'pandas.core.frame.DataFrame'>\n",
      "RangeIndex: 538382 entries, 0 to 538381\n",
      "Data columns (total 49 columns):\n",
      " #   Column            Non-Null Count   Dtype         \n",
      "---  ------            --------------   -----         \n",
      " 0   year              538382 non-null  int64         \n",
      " 1   month             538382 non-null  int64         \n",
      " 2   panel_code        538382 non-null  object        \n",
      " 3   panel_code_new    491529 non-null  object        \n",
      " 4   type_method       47699 non-null   object        \n",
      " 5   type_method_etc   18 non-null      object        \n",
      " 6   type_channel_new  538382 non-null  object        \n",
      " 7   type_channel      530370 non-null  object        \n",
      " 8   type_channel_etc  33 non-null      object        \n",
      " 9   shop_day          538382 non-null  datetime64[ns]\n",
      " 10  shop_week         538382 non-null  object        \n",
      " 11  store             538353 non-null  object        \n",
      " 12  store_code        35906 non-null   object        \n",
      " 13  store_region      534267 non-null  object        \n",
      " 14  product           538381 non-null  object        \n",
      " 15  product_code      123707 non-null  object        \n",
      " 16  wide              538382 non-null  object        \n",
      " 17  middle            538382 non-null  object        \n",
      " 18  detail            538382 non-null  object        \n",
      " 19  country           23821 non-null   object        \n",
      " 20  purchase          538382 non-null  float64       \n",
      " 21  discount          333265 non-null  object        \n",
      " 22  quantity          538382 non-null  object        \n",
      " 23  q_unit            429619 non-null  object        \n",
      " 24  weight_quantity   523671 non-null  object        \n",
      " 25  w_q_unit          160988 non-null  object        \n",
      " 26  multi_quantity    502330 non-null  object        \n",
      " 27  m_unit            112491 non-null  object        \n",
      " 28  w_multi_quantity  80969 non-null   object        \n",
      " 29  w_multi_unit      33261 non-null   object        \n",
      " 30  w_q_kg            437922 non-null  object        \n",
      " 31  w_q_kg_unit       96541 non-null   object        \n",
      " 32  unit_cost         105220 non-null  object        \n",
      " 33  special_diary     25481 non-null   object        \n",
      " 34  bill              55161 non-null   object        \n",
      " 35  bundle            35396 non-null   object        \n",
      " 36  payment           1409 non-null    object        \n",
      " 37  retail            0 non-null       float64       \n",
      " 38  retail_8          440731 non-null  object        \n",
      " 39  retail_new        440731 non-null  object        \n",
      " 40  shop_time         366184 non-null  object        \n",
      " 41  take_out          440731 non-null  object        \n",
      " 42  transport_pre     0 non-null       float64       \n",
      " 43  transport_post    0 non-null       float64       \n",
      " 44  panel_type        538369 non-null  float64       \n",
      " 45  edit              538382 non-null  object        \n",
      " 46  family_num_level  538382 non-null  int64         \n",
      " 47  age1_group        538382 non-null  int64         \n",
      " 48  income_v2         538382 non-null  object        \n",
      "dtypes: datetime64[ns](1), float64(5), int64(4), object(39)\n",
      "memory usage: 201.3+ MB\n"
     ]
    }
   ],
   "source": [
    "import pandas as pd\n",
    "data=pd.read_excel('C:/Users/kuy20/Desktop/실습/sql/fruits.xlsx')\n",
    "data.info()"
   ]
  },
  {
   "cell_type": "markdown",
   "id": "953932e0",
   "metadata": {},
   "source": [
    "##  (1) 필요 없는 열 제거 & 중복 행 제거"
   ]
  },
  {
   "cell_type": "code",
   "execution_count": 63,
   "id": "c721b179",
   "metadata": {},
   "outputs": [],
   "source": [
    "# 총 22개 제거 axis=1 열 제거\n",
    "df=data.drop(['panel_code_new','type_method','type_method_etc','type_channel','type_channel_etc','store_code','product_code','country','discount','special_diary','bill','bundle','payment','retail','retail_8','retail_new','shop_time','take_out','transport_pre','transport_post','panel_type','edit','weight_quantity','w_q_unit','multi_quantity','w_multi_unit','w_q_kg','w_q_kg_unit','unit_cost','w_multi_quantity','m_unit'],axis=1)\n",
    "\n",
    "df.head(5)\n",
    "df=pd.DataFrame(df)"
   ]
  },
  {
   "cell_type": "code",
   "execution_count": 64,
   "id": "fae67c72",
   "metadata": {},
   "outputs": [],
   "source": [
    "# 중복 행 제거\n",
    "df2=df.drop_duplicates()"
   ]
  },
  {
   "cell_type": "markdown",
   "id": "9b447b88",
   "metadata": {},
   "source": [
    "## (2) 결측값 처리"
   ]
  },
  {
   "cell_type": "markdown",
   "id": "9b391ef7",
   "metadata": {},
   "source": [
    "### @ store_region, product의 결측값 처리"
   ]
  },
  {
   "cell_type": "markdown",
   "id": "c7e4b2cd",
   "metadata": {},
   "source": [
    "### @ store 의 결측값은 전체의 약 0.01%을 차지하므로 그냥 제거"
   ]
  },
  {
   "cell_type": "code",
   "execution_count": 65,
   "id": "291716db",
   "metadata": {},
   "outputs": [
    {
     "data": {
      "text/plain": [
       "경기    232584\n",
       "서울    175783\n",
       "인천     48017\n",
       "강원       969\n",
       "충남       720\n",
       "제주       699\n",
       "부산       679\n",
       "경북       570\n",
       "충북       354\n",
       "전남       331\n",
       "전북       243\n",
       "경남       207\n",
       "대전       151\n",
       "광주       136\n",
       "울산       133\n",
       "대구        97\n",
       "세종        29\n",
       "기타         2\n",
       "Name: store_region, dtype: int64"
      ]
     },
     "execution_count": 65,
     "metadata": {},
     "output_type": "execute_result"
    }
   ],
   "source": [
    "import pandas as pd\n",
    "import numpy as np\n",
    "import sys\n",
    "df2.loc[df2['store_region']== '없음','store_region']=np.nan\n",
    "df2['store_region'].value_counts()"
   ]
  },
  {
   "cell_type": "code",
   "execution_count": 66,
   "id": "fd5758a7",
   "metadata": {},
   "outputs": [],
   "source": [
    "df=df2.dropna(subset=['store'])"
   ]
  },
  {
   "cell_type": "code",
   "execution_count": 67,
   "id": "4349a5d1",
   "metadata": {},
   "outputs": [],
   "source": [
    "df=df.drop(df[(df['store'] == '없음')&(df['store_region'].isna())].index,axis=0)"
   ]
  },
  {
   "cell_type": "code",
   "execution_count": 68,
   "id": "6db5ab88",
   "metadata": {},
   "outputs": [],
   "source": [
    "df=df.drop(df[(df['store'] == '기타')&(df['store_region'].isna())].index,axis=0)"
   ]
  },
  {
   "cell_type": "code",
   "execution_count": 69,
   "id": "054b350c",
   "metadata": {},
   "outputs": [
    {
     "data": {
      "text/plain": [
       "year                     0\n",
       "month                    0\n",
       "panel_code               0\n",
       "type_channel_new         0\n",
       "shop_day                 0\n",
       "shop_week                0\n",
       "store                    0\n",
       "store_region         52451\n",
       "product                  1\n",
       "wide                     0\n",
       "middle                   0\n",
       "detail                   0\n",
       "purchase                 0\n",
       "quantity                 0\n",
       "q_unit              103707\n",
       "family_num_level         0\n",
       "age1_group               0\n",
       "income_v2                0\n",
       "dtype: int64"
      ]
     },
     "execution_count": 69,
     "metadata": {},
     "output_type": "execute_result"
    }
   ],
   "source": [
    "df.isna().sum()"
   ]
  },
  {
   "cell_type": "markdown",
   "id": "410a367f",
   "metadata": {},
   "source": [
    "### @ type_channel_new가 '온라인몰' 인 것을 store_region가 '온라인'이 되도록 처리 (1064개의 행 처리)"
   ]
  },
  {
   "cell_type": "code",
   "execution_count": 70,
   "id": "de551c80",
   "metadata": {},
   "outputs": [
    {
     "data": {
      "text/plain": [
       "year                     0\n",
       "month                    0\n",
       "panel_code               0\n",
       "type_channel_new         0\n",
       "shop_day                 0\n",
       "shop_week                0\n",
       "store                    0\n",
       "store_region         52451\n",
       "product                  1\n",
       "wide                     0\n",
       "middle                   0\n",
       "detail                   0\n",
       "purchase                 0\n",
       "quantity                 0\n",
       "q_unit              103707\n",
       "family_num_level         0\n",
       "age1_group               0\n",
       "income_v2                0\n",
       "dtype: int64"
      ]
     },
     "execution_count": 70,
     "metadata": {},
     "output_type": "execute_result"
    }
   ],
   "source": [
    "df.isna().sum()"
   ]
  },
  {
   "cell_type": "code",
   "execution_count": 71,
   "id": "02f36eb2",
   "metadata": {},
   "outputs": [],
   "source": [
    "df.loc[(df['type_channel_new']=='온라인몰')&(df['store_region'].isna()),'store_region']='온라인' # 특정"
   ]
  },
  {
   "cell_type": "markdown",
   "id": "486b8815",
   "metadata": {},
   "source": [
    "### @ product 의 결측값 1개도 '부사'로 대체"
   ]
  },
  {
   "cell_type": "code",
   "execution_count": 72,
   "id": "681d6efc",
   "metadata": {},
   "outputs": [
    {
     "data": {
      "text/html": [
       "<div>\n",
       "<style scoped>\n",
       "    .dataframe tbody tr th:only-of-type {\n",
       "        vertical-align: middle;\n",
       "    }\n",
       "\n",
       "    .dataframe tbody tr th {\n",
       "        vertical-align: top;\n",
       "    }\n",
       "\n",
       "    .dataframe thead th {\n",
       "        text-align: right;\n",
       "    }\n",
       "</style>\n",
       "<table border=\"1\" class=\"dataframe\">\n",
       "  <thead>\n",
       "    <tr style=\"text-align: right;\">\n",
       "      <th></th>\n",
       "      <th>year</th>\n",
       "      <th>month</th>\n",
       "      <th>panel_code</th>\n",
       "      <th>type_channel_new</th>\n",
       "      <th>shop_day</th>\n",
       "      <th>shop_week</th>\n",
       "      <th>store</th>\n",
       "      <th>store_region</th>\n",
       "      <th>product</th>\n",
       "      <th>wide</th>\n",
       "      <th>middle</th>\n",
       "      <th>detail</th>\n",
       "      <th>purchase</th>\n",
       "      <th>quantity</th>\n",
       "      <th>q_unit</th>\n",
       "      <th>family_num_level</th>\n",
       "      <th>age1_group</th>\n",
       "      <th>income_v2</th>\n",
       "    </tr>\n",
       "  </thead>\n",
       "  <tbody>\n",
       "    <tr>\n",
       "      <th>415122</th>\n",
       "      <td>2021</td>\n",
       "      <td>1</td>\n",
       "      <td>PN00000326</td>\n",
       "      <td>홈쇼핑</td>\n",
       "      <td>2021-01-23</td>\n",
       "      <td>7</td>\n",
       "      <td>공영홈쇼핑-해빛의성세척사과</td>\n",
       "      <td>NaN</td>\n",
       "      <td>부사</td>\n",
       "      <td>과일류</td>\n",
       "      <td>사과</td>\n",
       "      <td>후지</td>\n",
       "      <td>42900.0</td>\n",
       "      <td>3</td>\n",
       "      <td>박스</td>\n",
       "      <td>4</td>\n",
       "      <td>50</td>\n",
       "      <td>700만원 이상</td>\n",
       "    </tr>\n",
       "    <tr>\n",
       "      <th>490918</th>\n",
       "      <td>2022</td>\n",
       "      <td>12</td>\n",
       "      <td>PN20210781</td>\n",
       "      <td>온라인몰</td>\n",
       "      <td>2022-12-07</td>\n",
       "      <td>4</td>\n",
       "      <td>영농조합법인송원에이피씨</td>\n",
       "      <td>온라인</td>\n",
       "      <td>NaN</td>\n",
       "      <td>과일류</td>\n",
       "      <td>사과</td>\n",
       "      <td>후지</td>\n",
       "      <td>42900.0</td>\n",
       "      <td>1</td>\n",
       "      <td>NaN</td>\n",
       "      <td>3</td>\n",
       "      <td>60</td>\n",
       "      <td>700만원 이상</td>\n",
       "    </tr>\n",
       "  </tbody>\n",
       "</table>\n",
       "</div>"
      ],
      "text/plain": [
       "        year  month  panel_code type_channel_new   shop_day shop_week  \\\n",
       "415122  2021      1  PN00000326              홈쇼핑 2021-01-23         7   \n",
       "490918  2022     12  PN20210781             온라인몰 2022-12-07         4   \n",
       "\n",
       "                 store store_region product wide middle detail  purchase  \\\n",
       "415122  공영홈쇼핑-해빛의성세척사과          NaN      부사  과일류     사과     후지   42900.0   \n",
       "490918    영농조합법인송원에이피씨          온라인     NaN  과일류     사과     후지   42900.0   \n",
       "\n",
       "       quantity q_unit  family_num_level  age1_group income_v2  \n",
       "415122        3     박스                 4          50  700만원 이상  \n",
       "490918        1    NaN                 3          60  700만원 이상  "
      ]
     },
     "execution_count": 72,
     "metadata": {},
     "output_type": "execute_result"
    }
   ],
   "source": [
    "df[(df['middle'] == '사과') & (df['detail'] == '후지') & (df['purchase'] == 42900.0)]"
   ]
  },
  {
   "cell_type": "code",
   "execution_count": 73,
   "id": "5600a4a1",
   "metadata": {},
   "outputs": [],
   "source": [
    "df.loc[df['product'].isna(), 'product'] = '부사'"
   ]
  },
  {
   "cell_type": "markdown",
   "id": "5706de94",
   "metadata": {},
   "source": [
    "### @ store_region 결측값 처리"
   ]
  },
  {
   "cell_type": "markdown",
   "id": "2b3c9768",
   "metadata": {},
   "source": [
    "#### '기타' 2개 '없음' 44265개 존재"
   ]
  },
  {
   "cell_type": "markdown",
   "id": "301f9837",
   "metadata": {},
   "source": [
    "#### '기타'는 모두 경기로 교체/ '없음'은 고려 대상"
   ]
  },
  {
   "cell_type": "code",
   "execution_count": 74,
   "id": "32028bc1",
   "metadata": {
    "scrolled": true
   },
   "outputs": [
    {
     "data": {
      "text/plain": [
       "경기     232568\n",
       "서울     175774\n",
       "인천      48017\n",
       "온라인     21995\n",
       "강원        967\n",
       "충남        720\n",
       "제주        699\n",
       "부산        679\n",
       "경북        570\n",
       "충북        354\n",
       "전남        331\n",
       "전북        243\n",
       "경남        207\n",
       "대전        151\n",
       "광주        136\n",
       "울산        133\n",
       "대구         97\n",
       "세종         29\n",
       "기타          2\n",
       "Name: store_region, dtype: int64"
      ]
     },
     "execution_count": 74,
     "metadata": {},
     "output_type": "execute_result"
    }
   ],
   "source": [
    "df['store_region'].value_counts()"
   ]
  },
  {
   "cell_type": "code",
   "execution_count": null,
   "id": "f2417c23",
   "metadata": {},
   "outputs": [],
   "source": []
  },
  {
   "cell_type": "code",
   "execution_count": 75,
   "id": "8b1b4b87",
   "metadata": {},
   "outputs": [
    {
     "data": {
      "text/html": [
       "<div>\n",
       "<style scoped>\n",
       "    .dataframe tbody tr th:only-of-type {\n",
       "        vertical-align: middle;\n",
       "    }\n",
       "\n",
       "    .dataframe tbody tr th {\n",
       "        vertical-align: top;\n",
       "    }\n",
       "\n",
       "    .dataframe thead th {\n",
       "        text-align: right;\n",
       "    }\n",
       "</style>\n",
       "<table border=\"1\" class=\"dataframe\">\n",
       "  <thead>\n",
       "    <tr style=\"text-align: right;\">\n",
       "      <th></th>\n",
       "      <th>year</th>\n",
       "      <th>month</th>\n",
       "      <th>panel_code</th>\n",
       "      <th>type_channel_new</th>\n",
       "      <th>shop_day</th>\n",
       "      <th>shop_week</th>\n",
       "      <th>store</th>\n",
       "      <th>store_region</th>\n",
       "      <th>product</th>\n",
       "      <th>wide</th>\n",
       "      <th>middle</th>\n",
       "      <th>detail</th>\n",
       "      <th>purchase</th>\n",
       "      <th>quantity</th>\n",
       "      <th>q_unit</th>\n",
       "      <th>family_num_level</th>\n",
       "      <th>age1_group</th>\n",
       "      <th>income_v2</th>\n",
       "    </tr>\n",
       "  </thead>\n",
       "  <tbody>\n",
       "    <tr>\n",
       "      <th>393363</th>\n",
       "      <td>2020</td>\n",
       "      <td>4</td>\n",
       "      <td>PN00001188</td>\n",
       "      <td>대형마트</td>\n",
       "      <td>2020-04-30</td>\n",
       "      <td>5</td>\n",
       "      <td>이마트트레이더스</td>\n",
       "      <td>기타</td>\n",
       "      <td>호주산_어텀크리스피</td>\n",
       "      <td>과일류</td>\n",
       "      <td>포도</td>\n",
       "      <td>청포도</td>\n",
       "      <td>10380.0</td>\n",
       "      <td>1</td>\n",
       "      <td>NaN</td>\n",
       "      <td>3</td>\n",
       "      <td>50</td>\n",
       "      <td>300~399만원</td>\n",
       "    </tr>\n",
       "    <tr>\n",
       "      <th>393364</th>\n",
       "      <td>2020</td>\n",
       "      <td>4</td>\n",
       "      <td>PN00001188</td>\n",
       "      <td>대형마트</td>\n",
       "      <td>2020-04-30</td>\n",
       "      <td>5</td>\n",
       "      <td>이마트트레이더스</td>\n",
       "      <td>기타</td>\n",
       "      <td>프리미엄바나나</td>\n",
       "      <td>과일류</td>\n",
       "      <td>바나나</td>\n",
       "      <td>일반바나나</td>\n",
       "      <td>3980.0</td>\n",
       "      <td>1</td>\n",
       "      <td>봉</td>\n",
       "      <td>3</td>\n",
       "      <td>50</td>\n",
       "      <td>300~399만원</td>\n",
       "    </tr>\n",
       "  </tbody>\n",
       "</table>\n",
       "</div>"
      ],
      "text/plain": [
       "        year  month  panel_code type_channel_new   shop_day shop_week  \\\n",
       "393363  2020      4  PN00001188             대형마트 2020-04-30         5   \n",
       "393364  2020      4  PN00001188             대형마트 2020-04-30         5   \n",
       "\n",
       "           store store_region     product wide middle detail  purchase  \\\n",
       "393363  이마트트레이더스           기타  호주산_어텀크리스피  과일류     포도    청포도   10380.0   \n",
       "393364  이마트트레이더스           기타     프리미엄바나나  과일류    바나나  일반바나나    3980.0   \n",
       "\n",
       "       quantity q_unit  family_num_level  age1_group  income_v2  \n",
       "393363        1    NaN                 3          50  300~399만원  \n",
       "393364        1      봉                 3          50  300~399만원  "
      ]
     },
     "execution_count": 75,
     "metadata": {},
     "output_type": "execute_result"
    }
   ],
   "source": [
    "# 기타 전부 대형마트 출신\n",
    "df[df['store_region']=='기타']"
   ]
  },
  {
   "cell_type": "code",
   "execution_count": 76,
   "id": "44a5f141",
   "metadata": {},
   "outputs": [
    {
     "data": {
      "text/plain": [
       "경기    50351\n",
       "서울    32767\n",
       "인천     9274\n",
       "충남      207\n",
       "강원      170\n",
       "부산       84\n",
       "전남       75\n",
       "제주       72\n",
       "충북       69\n",
       "대전       65\n",
       "전북       57\n",
       "경북       55\n",
       "광주       28\n",
       "경남       27\n",
       "울산       25\n",
       "세종       18\n",
       "대구       18\n",
       "기타        2\n",
       "Name: store_region, dtype: int64"
      ]
     },
     "execution_count": 76,
     "metadata": {},
     "output_type": "execute_result"
    }
   ],
   "source": [
    "# 대형마트의 store_region 분포 살펴보기\n",
    "# 경기가 현저히 많음 즉, 기타를 경기로 바꾸기\n",
    "df_mart=df[df['type_channel_new']=='대형마트']\n",
    "df_mart['store_region'].value_counts()"
   ]
  },
  {
   "cell_type": "code",
   "execution_count": 77,
   "id": "a407cd54",
   "metadata": {},
   "outputs": [
    {
     "data": {
      "text/plain": [
       "경기     232570\n",
       "서울     175774\n",
       "인천      48017\n",
       "온라인     21995\n",
       "강원        967\n",
       "충남        720\n",
       "제주        699\n",
       "부산        679\n",
       "경북        570\n",
       "충북        354\n",
       "전남        331\n",
       "전북        243\n",
       "경남        207\n",
       "대전        151\n",
       "광주        136\n",
       "울산        133\n",
       "대구         97\n",
       "세종         29\n",
       "Name: store_region, dtype: int64"
      ]
     },
     "execution_count": 77,
     "metadata": {},
     "output_type": "execute_result"
    }
   ],
   "source": [
    "# 기타를 모두 경기로 바꾸기\n",
    "df.loc[df['store_region']== '기타','store_region']='경기'\n",
    "df['store_region'].value_counts()"
   ]
  },
  {
   "cell_type": "code",
   "execution_count": 78,
   "id": "f8a8ffd5",
   "metadata": {},
   "outputs": [
    {
     "data": {
      "text/plain": [
       "노점                 13182\n",
       "산지직거래               2823\n",
       "농가직거래(방문,기타)        1346\n",
       "재래시장                 868\n",
       "소형슈퍼마켓               637\n",
       "                   ...  \n",
       "송탄오일장                  1\n",
       "선경마트주식회사성경기업마트         1\n",
       "(주)원플러스마트동부평택신장        1\n",
       "덕보네미미마켓                1\n",
       "총각네가게                  1\n",
       "Name: store, Length: 2400, dtype: int64"
      ]
     },
     "execution_count": 78,
     "metadata": {},
     "output_type": "execute_result"
    }
   ],
   "source": [
    "np.set_printoptions(threshold=sys.maxsize)\n",
    "df[df['store_region'].isna()]['store'].value_counts()"
   ]
  },
  {
   "cell_type": "code",
   "execution_count": 79,
   "id": "f0dcb52b",
   "metadata": {},
   "outputs": [],
   "source": [
    "df_place=df[df['store_region'].isna()]['store'].value_counts()\n",
    "df_place=pd.DataFrame(df_place)\n",
    "locations=df_place.index"
   ]
  },
  {
   "cell_type": "code",
   "execution_count": 80,
   "id": "45165e8c",
   "metadata": {},
   "outputs": [
    {
     "data": {
      "text/plain": [
       "Index(['노점', '산지직거래', '농가직거래(방문,기타)', '재래시장', '소형슈퍼마켓', '아파트내임시장', '무점포',\n",
       "       '진로마트', '전문점', '대형슈퍼마켓',\n",
       "       ...\n",
       "       '태안농협하나로마트병점역점', '이마트이마트화성봉담점', '로컬푸드태안농협로컬푸드직매장', '송북시장', '슈퍼킹주식회사',\n",
       "       '송탄오일장', '선경마트주식회사성경기업마트', '(주)원플러스마트동부평택신장', '덕보네미미마켓', '총각네가게'],\n",
       "      dtype='object', length=2400)"
      ]
     },
     "execution_count": 80,
     "metadata": {},
     "output_type": "execute_result"
    }
   ],
   "source": [
    "locations"
   ]
  },
  {
   "cell_type": "code",
   "execution_count": 56,
   "id": "f7ed833c",
   "metadata": {},
   "outputs": [
    {
     "data": {
      "text/plain": [
       "[{'address_name': '인천 미추홀구 주안동 919-15',\n",
       "  'category_group_code': '',\n",
       "  'category_group_name': '',\n",
       "  'category_name': '가정,생활 > 식품판매 > 과일,채소가게',\n",
       "  'distance': '',\n",
       "  'id': '18212335',\n",
       "  'phone': '032-437-3955',\n",
       "  'place_name': '쌍둥이네과일백화점',\n",
       "  'place_url': 'http://place.map.kakao.com/18212335',\n",
       "  'road_address_name': '인천 미추홀구 경인로485번길 10',\n",
       "  'x': '126.693283912444',\n",
       "  'y': '37.4600033082964'}]"
      ]
     },
     "execution_count": 56,
     "metadata": {},
     "output_type": "execute_result"
    }
   ],
   "source": [
    "import requests\n",
    "searching='석바위시장쌍둥이네과일백화점'\n",
    "url='https://dapi.kakao.com/v2/local/search/keyword.json?query={}'.format(searching)\n",
    "    \n",
    "headers={\"Authorization\" : \"KakaoAK bffb96920e389d2640a20bb8e5ed8981\"}\n",
    "    \n",
    "\n",
    "places=requests.get(url, headers=headers).json()['documents']\n",
    "places"
   ]
  },
  {
   "cell_type": "code",
   "execution_count": 81,
   "id": "302ee7cd",
   "metadata": {},
   "outputs": [],
   "source": [
    "def ind_places(searching):\n",
    "    url='https://dapi.kakao.com/v2/local/search/keyword.json?query={}'.format(searching)\n",
    "    headers={\"Authorization\" : \"KakaoAK bffb96920e389d2640a20bb8e5ed8981\"}\n",
    "    places=requests.get(url, headers=headers).json()['documents']\n",
    "    place=places[0]\n",
    "    name=place['place_name']\n",
    "    address=place['address_name']\n",
    "    region=place['address_name'][0:2]\n",
    "    \n",
    "    data_place=[name,address,region,searching]\n",
    "    return data_place"
   ]
  },
  {
   "cell_type": "code",
   "execution_count": null,
   "id": "f9d8d6cd",
   "metadata": {},
   "outputs": [],
   "source": [
    "ind_places('석바위시장쌍둥이네과일백화점')"
   ]
  },
  {
   "cell_type": "code",
   "execution_count": 87,
   "id": "c82e42fa",
   "metadata": {},
   "outputs": [
    {
     "name": "stderr",
     "output_type": "stream",
     "text": [
      "100%|██████████| 2400/2400 [17:16<00:00,  2.32it/s]\n"
     ]
    },
    {
     "data": {
      "text/plain": [
       "[['노점', '인천 부평구 부평동 229-28', '인천', '노점'],\n",
       " ['과일산지직거래장터', '서울 송파구 마천동 301-9', '서울', '산지직거래'],\n",
       " ['망원시장', '서울 마포구 망원동 414-109', '서울', '재래시장'],\n",
       " ['진로마트', '경남 김해시 삼정동 659-4', '경남', '진로마트'],\n",
       " ['마포양고기전문점 램랜드', '서울 마포구 용강동 494-32', '서울', '전문점'],\n",
       " ['대영슈퍼', '경남 창원시 성산구 대방동 357', '경남', '대형슈퍼마켓'],\n",
       " ['로컬푸드대야농산물직거래장터', '전북특별자치도 군산시 대야면 지경리 9-1', '전북', '직거래(로컬푸드)'],\n",
       " ['이마트 은평점', '서울 은평구 응암동 90-1', '서울', '이마트'],\n",
       " ['이마트에브리데이 이수점', '서울 동작구 사당동 147-29', '서울', '이마트에브리데이'],\n",
       " ['럭키할인마트', '서울 마포구 연남동 565-15', '서울', '럭키할인마트'],\n",
       " ['현대홈쇼핑', '서울 강동구 천호동 454-2', '서울', '홈쇼핑'],\n",
       " ['한국유통', '경기 군포시 당동 919', '경기', '한국유통'],\n",
       " ['홈마트', '경기 가평군 설악면 신천리 665-2', '경기', '홈마트'],\n",
       " ['이마트 천안서북점', '충남 천안시 서북구 백석동 1047', '충남', '대형마트일반'],\n",
       " ['롯데슈퍼프레시 수성점', '대구 수성구 중동 333-7', '대구', '롯데슈퍼'],\n",
       " ['프라임마트', '대구 달서구 송현동 166-2', '대구', '프라임마트'],\n",
       " ['홈플러스익스프레스 광안점', '부산 수영구 광안동 491-1', '부산', '홈플러스익스프레스'],\n",
       " ['하모니마트', '서울 종로구 관훈동 198-42', '서울', '하모니마트'],\n",
       " ['없음 upsm', '서울 용산구 남영동 80-1', '서울', '없음없음'],\n",
       " ['월드할인마트', '서울 관악구 신림동 1535-14', '서울', '월드할인마트'],\n",
       " ['한국마트', '충북 청주시 청원구 사천동 233-197', '충북', '한국마트'],\n",
       " ['원당농협로컬푸드직매장', '경기 고양시 덕양구 성사동 505', '경기', '로컬푸드매장'],\n",
       " ['우리마트', '충북 청주시 흥덕구 운천동 550', '충북', '우리마트'],\n",
       " ['아프로마트 강북점', '서울 강북구 미아동 688-5', '서울', '아프로마트'],\n",
       " ['가락시장', '서울 송파구 가락동 600', '서울', '가락시장'],\n",
       " ['롯데마트 서초점', '서울 서초구 서초동 1498-5', '서울', '롯데마트'],\n",
       " ['웰빙마트', '인천 남동구 논현동 645-3', '인천', '웰빙마트'],\n",
       " ['현대그린마트', '경기 성남시 분당구 구미동 221', '경기', '현대그린마트'],\n",
       " ['두리식자재마트', '인천 부평구 부평동 126-8', '인천', '두리마트'],\n",
       " ['그랜드마트', '제주특별자치도 제주시 노형동 728', '제주', '그랜드마트'],\n",
       " ['이마트 은평점', '서울 은평구 응암동 90-1', '서울', '대형마트'],\n",
       " ['안동마직거래농장(부모님농가상시)', '경북 영주시 평은면 지곡리 507-2', '경북', '농가직거래'],\n",
       " ['진로할인마트', '인천 남동구 구월동 1263-3', '인천', '진로할인마트'],\n",
       " ['코스트코 양재점', '서울 서초구 양재동 217-6', '서울', '코스트코코리아'],\n",
       " ['초록비타민', '경기 부천시 원미구 상동 318-4', '경기', '초록비타민'],\n",
       " ['홈플러스 메가푸드마켓 강서점', '서울 강서구 등촌동 639-11', '서울', '홈플러스'],\n",
       " ['모닝마트', '부산 기장군 장안읍 좌천리 68-1', '부산', '모닝마트'],\n",
       " ['싱싱마트', '경기 김포시 월곶면 군하리 38-2', '경기', '싱싱마트'],\n",
       " ['하나로마트 양재점', '서울 서초구 양재동 230', '서울', '농협하나로클럽'],\n",
       " ['우리농산', '경북 경산시 진량읍 신상리 965-2', '경북', '우리농산'],\n",
       " ['에스엠마트 소촌점', '광주 광산구 소촌동 245', '광주', '에스엠마트'],\n",
       " ['NS홈쇼핑', '경기 성남시 분당구 삼평동 625', '경기', 'NS홈쇼핑'],\n",
       " ['두성청과', '경기 구리시 인창동 127', '경기', '두성청과'],\n",
       " ['코리아마트', '제주특별자치도 서귀포시 동홍동 645-4', '제주', '코리아마트'],\n",
       " ['예스마트', '울산 남구 달동 1304-1', '울산', '예스마트'],\n",
       " ['오렌지마트', '경기 고양시 일산서구 일산동 633', '경기', '오렌지마트'],\n",
       " ['우리농산물', '대전 유성구 장대동 276-3', '대전', '우리농산물'],\n",
       " ['초록마을 마포점', '서울 마포구 도화동 205-14', '서울', '초록마을'],\n",
       " ['G마트', '서울 동작구 상도동 320-21', '서울', 'G마트'],\n",
       " ['경동시장', '서울 동대문구 제기동 1019', '서울', '경동시장'],\n",
       " ['한림마트', '제주특별자치도 제주시 한림읍 동명리 1614-1', '제주', '한림마트'],\n",
       " ['하이웨이마트 방배점', '서울 서초구 방배동 937-1', '서울', '하이웨이마트'],\n",
       " ['망원시장', '서울 마포구 망원동 414-109', '서울', '전통시장'],\n",
       " ['막퍼주는집', '경기 안산시 상록구 수암동 465-3', '경기', '막퍼주는집'],\n",
       " ['우리할인마트', '경기 부천시 원미구 심곡동 93-1', '경기', '우리할인마트'],\n",
       " ['케이알마트', '서울 노원구 상계동 366-4', '서울', '케이알마트'],\n",
       " ['빅마트', '경북 구미시 옥계동 841-1', '경북', '빅마트'],\n",
       " ['야채랑과일이랑', '충북 제천시 청전동 626-1', '충북', '야채랑과일이랑'],\n",
       " ['한샘마트', '경기 수원시 장안구 영화동 308-1', '경기', '한샘마트'],\n",
       " ['제로마트', '경기 수원시 장안구 연무동 230', '경기', '제로마트'],\n",
       " ['GS홈쇼핑', '서울 영등포구 양평동1가 5-1', '서울', 'GS홈쇼핑'],\n",
       " ['한마음마트', '충남 천안시 서북구 성환읍 매주리 316', '충남', '한마음마트'],\n",
       " ['홈앤쇼핑', '서울 강서구 마곡동 728-174', '서울', '홈앤쇼핑'],\n",
       " ['중문농협하나로마트 본점', '제주특별자치도 서귀포시 중문동 1928', '제주', '하나로마트'],\n",
       " ['대박집', '충북 옥천군 옥천읍 죽향리 214', '충북', '대박집'],\n",
       " ['공영홈쇼핑', '서울 마포구 상암동 1647', '서울', '공영홈쇼핑'],\n",
       " ['은하특수일반조명', '대전 동구 인동 27-2', '대전', '백화점일반'],\n",
       " ['월드마트', '서울 중랑구 중화동 307-1', '서울', '월드마트'],\n",
       " ['GS더프레시 관악점', '서울 관악구 봉천동 878-6', '서울', 'GS슈퍼마켓'],\n",
       " ['OK포인트마트 달성점', '대구 달성군 유가읍 봉리 619', '대구', '포인트마트'],\n",
       " ['홈플러스 인천논현점', '인천 남동구 논현동 650-1', '인천', '홈플러스인천논현점'],\n",
       " ['아울렛마트', '인천 미추홀구 숭의동 164-1', '인천', '아울렛마트'],\n",
       " ['우리농산물마트', '경기 용인시 처인구 역북동 465', '경기', '우리농산물마트'],\n",
       " ['GS25 남양주금곡점', '경기 남양주시 금곡동 416-1', '경기', '편의점'],\n",
       " ['홈', '강원특별자치도 춘천시 퇴계동 1171-1', '강원', '홈&쇼핑'],\n",
       " ['굿모닝마트', '서울 서초구 방배동 456-1', '서울', '굿모닝마트'],\n",
       " ['중문농협하나로마트 본점', '제주특별자치도 서귀포시 중문동 1928', '제주', '농협하나로마트'],\n",
       " ['코스트코 양재점', '서울 서초구 양재동 217-6', '서울', '코스트코'],\n",
       " ['능동할인마트', '서울 광진구 능동 234-1', '서울', '능동할인마트'],\n",
       " ['엄가네막퍼주는집', '서울 강동구 길동 399-2', '서울', '막퍼주는엄가네'],\n",
       " ['그린유통', '경남 김해시 삼정동 20-13', '경남', '㈜그린유통'],\n",
       " ['우성마트', '충북 청주시 청원구 우암동 374-10', '충북', '우성마트'],\n",
       " ['우리동네과일야채', '서울 광진구 중곡동 341-29', '서울', '우리동네과일야채'],\n",
       " ['홈플러스 메가푸드마켓 간석점', '인천 남동구 간석동 616-3', '인천', '홈플러스간석점'],\n",
       " ['케이알마트', '서울 노원구 상계동 366-4', '서울', '케이알마트㈜'],\n",
       " ['하이웨이마트 송탄지산점', '경기 평택시 지산동 687', '경기', '하이웨이마트송탄지산점'],\n",
       " ['홈플러스 메가푸드마켓 2.0 강동점', '서울 강동구 천호동 42', '서울', '홈플러스강동점'],\n",
       " ['다농마트', '경기 안산시 상록구 월피동 445', '경기', '다농마트'],\n",
       " ['플러스마트', '경기 파주시 문산읍 당동리 902-1', '경기', '플러스마트'],\n",
       " ['엄가네막퍼주는집', '서울 강동구 길동 399-2', '서울', '엄가네막퍼주는집'],\n",
       " ['망원시장', '서울 마포구 망원동 414-109', '서울', '망원시장'],\n",
       " ['하나마트', '제주특별자치도 제주시 이도이동 1059-20', '제주', '하나마트'],\n",
       " ['코스트코 광명점', '경기 광명시 일직동 163-3', '경기', '(주)코스트코코리아광명점'],\n",
       " ['남성사계시장', '서울 동작구 사당동 128-41', '서울', '남성시장'],\n",
       " ['쌍둥이네과일백화점', '인천 미추홀구 주안동 919-15', '인천', '석바위시장쌍둥이네과일백화점'],\n",
       " ['뉴월드마트', '경기 김포시 대곶면 초원지리 524-1', '경기', '뉴월드마트'],\n",
       " ['이마트 연수점', '인천 연수구 동춘동 926-9', '인천', '이마트연수점'],\n",
       " ['신기시장', '인천 미추홀구 주안동 1340-60', '인천', '신기시장'],\n",
       " ['오아시스마켓 수원매탄점', '경기 수원시 영통구 매탄동 1156-4', '경기', '우리생협오아시스우리생협오아시스수원매탄점'],\n",
       " ['제일청과', '경남 진주시 수정동 26-14', '경남', '제일청과'],\n",
       " ['제일시장', '경기 여주시 하동 180-11', '경기', '제일시장'],\n",
       " ['맛나청과', '서울 강동구 암사동 500-27', '서울', '암사시장맛나청과'],\n",
       " ['이마트 명일점', '서울 강동구 명일동 46-4', '서울', '이마트명일점'],\n",
       " ['드림마트', '대구 북구 태전동 615', '대구', '드림마트'],\n",
       " ['서울청과', '서울 송파구 가락동 600', '서울', '서울청과'],\n",
       " ['민팃ATM 이마트성수점', '서울 성동구 성수동2가 333-131', '서울', '이마트성수점'],\n",
       " ['뉴모닝마트', '부산 서구 아미동2가 96-11', '부산', '주식회사뉴모닝마트'],\n",
       " ['나이스할인마트', '대구 수성구 파동 203-1', '대구', '나이스할인마트'],\n",
       " ['럭키마트', '인천 서구 검암동 625-1', '인천', '럭키마트'],\n",
       " ['노브랜드 수원호매실점', '경기 수원시 권선구 금곡동 1082-1', '경기', '노브랜드수원호매실점'],\n",
       " ['코스트코 양재점', '서울 서초구 양재동 217-6', '서울', '(주)코스트코코리아양재점'],\n",
       " ['아람청과', '서울 서초구 양재동 316-4', '서울', '아람청과'],\n",
       " ['진흥마켓', '서울 은평구 녹번동 79-2', '서울', '진흥마켓'],\n",
       " ['정동마트', '경기 용인시 처인구 고림동 599-8', '경기', '정동마트'],\n",
       " ['수협바다마트', '경북 경주시 감포읍 감포리 369-3', '경북', '수협바다마트'],\n",
       " ['모래내시장', '인천 남동구 구월동 1323-5', '인천', '모래내시장'],\n",
       " ['세계로커머스', '서울 서대문구 홍제동 301-2', '서울', '주식회사세계로커머스'],\n",
       " ['신세기마트', '서울 동작구 사당동 318-8', '서울', '신세기마트'],\n",
       " ['GS25 남양주금곡점', '경기 남양주시 금곡동 416-1', '경기', 'GS25'],\n",
       " ['청량리청과물시장', '서울 동대문구 제기동 635-35', '서울', '청량리청과시장'],\n",
       " ['자연드림 괴산자연드림파크점', '충북 괴산군 칠성면 율원리 산 2-12', '충북', '자연드림'],\n",
       " ['트레이더스 홀세일 클럽 김포점', '경기 김포시 풍무동 884', '경기', '이마트트레이더스김포점'],\n",
       " ['진로마트', '경기 안산시 상록구 사동 1318', '경기', '사동진로마트'],\n",
       " ['대풍청과', '경북 포항시 남구 해도동 435-31', '경북', '대풍청과'],\n",
       " ['대박야채', '경기 안산시 상록구 건건동 535-1', '경기', '대박야채'],\n",
       " ['대구축산농협 축산물프라자 침산점', '대구 북구 침산동 430-4', '대구', '정육점'],\n",
       " ['남성사계시장', '서울 동작구 사당동 128-41', '서울', '남성사계시장'],\n",
       " ['하나로마트 농협유통 성내점', '서울 강동구 성내동 451', '서울', '하나로마트성내점'],\n",
       " ['유기농카페', '강원특별자치도 춘천시 신북읍 지내리 664-1', '강원', '유기농매장'],\n",
       " ['산들해', '광주 광산구 쌍암동 686-6', '광주', '산들해'],\n",
       " ['한국유통 슈퍼센타 도평점', '경기 광주시 초월읍 도평리 230-5', '경기', '한국유통슈퍼센타'],\n",
       " ['트레이더스홀세일클럽 킨텍스점', '경기 고양시 일산서구 대화동 2703', '경기', '이마트트레이더스킨텍스점'],\n",
       " ['KB국민은행 이마트트레이더스월계점 ATM', '서울 노원구 월계동 333-1', '서울', '이마트트레이더스월계점'],\n",
       " ['대박집야채과일 영통점', '경기 수원시 영통구 영통동 995-2', '경기', '야채과일대박집'],\n",
       " ['에이스마트', '서울 양천구 목동 736-3', '서울', '에이스마트'],\n",
       " ['컬리 평택물류센터', '경기 평택시 청북읍 고렴리 1137', '경기', '마켓컬리'],\n",
       " ['이마트 구로점', '서울 구로구 구로동 188-26', '서울', '이마트구로점'],\n",
       " ['명일전통시장 청춘마켓', '서울 강동구 명일동 324-20', '서울', '명일시장'],\n",
       " ['과일향기', '광주 광산구 쌍암동 686-3', '광주', '과일향기'],\n",
       " ['이마트 서수원점', '경기 수원시 권선구 구운동 925', '경기', '이마트서수원점'],\n",
       " ['이마트 왕십리점', '서울 성동구 행당동 168-151', '서울', '이마트왕십리점'],\n",
       " ['애플마트', '경북 경산시 중방동 825-1', '경북', '애플마트'],\n",
       " ['그린마트', '충북 청주시 청원구 오창읍 각리 651-1', '충북', '그린마트'],\n",
       " ['도림할인마트', '서울 영등포구 도림동 176-9', '서울', '도림할인마트'],\n",
       " ['착한농부', '충북 진천군 초평면 은암리 378', '충북', '착한농부'],\n",
       " ['레인보우 스카이하늘마트', '부산 해운대구 반송동 40-570', '부산', '레인보우마트'],\n",
       " ['홈플러스 신도림점', '서울 구로구 신도림동 337', '서울', '홈플러스신도림점'],\n",
       " ['농부의아들', '경북 구미시 산동읍 신당리 1449', '경북', '농부의아들'],\n",
       " ['진로우성물산', '서울 도봉구 창동 632-39', '서울', '㈜진로우성물산'],\n",
       " ['시장슈퍼', '인천 남동구 만수동 73-18', '인천', '재래시장(슈퍼)'],\n",
       " ['이마트 수원점', '경기 수원시 권선구 권선동 1189', '경기', '이마트수원점'],\n",
       " ['중산농수축산할인매장', '경기 고양시 일산동구 중산동 1556', '경기', '중산농수축산할인매장'],\n",
       " ['이마트24 R지엘메트로향동점', '경기 고양시 덕양구 향동동 394', '경기', '이마트메트로'],\n",
       " ['진로식자재마트', '경기 화성시 향남읍 하길리 1455-4', '경기', '진로식자재마트'],\n",
       " ['상록프라자', '경기 화성시 병점동 844-7', '경기', '상록플라자'],\n",
       " ['마트킹 북수원점', '경기 수원시 장안구 파장동 474', '경기', '(주)마트킹북수원'],\n",
       " ['올스타마트 광장점', '서울 광진구 광장동 571-1', '서울', '올스타마트광장점'],\n",
       " ['황금마트', '제주특별자치도 제주시 노형동 2529-7', '제주', '황금마트'],\n",
       " ['명성유통', '경남 창원시 의창구 동읍 월잠리 119', '경남', '명성유통'],\n",
       " ['장날', '전북특별자치도 익산시 낭산면 삼담리 986-3', '전북', '장날'],\n",
       " ['이마트 신월점', '서울 양천구 신월동 26', '서울', '이마트신월점'],\n",
       " ['코스트코 양평점', '서울 영등포구 양평동3가 65', '서울', '(주)코스트코코리아양평점'],\n",
       " ['식자재유통센터', '서울 성북구 삼선동4가 343', '서울', '식자재유통센타'],\n",
       " ['우리농산물유통센터', '서울 강남구 신사동 640-2', '서울', '우리농산물유통센터'],\n",
       " ['콜마트', '경북 포항시 남구 대도동 89-5', '경북', '콜마트'],\n",
       " ['강남홈식자재마트', '서울 강남구 논현동 158', '서울', '홈식자재마트'],\n",
       " ['뉴코아아울렛 부천점', '경기 부천시 원미구 상동 539-1', '경기', '뉴코아부천점'],\n",
       " ['지동시장', '경기 수원시 팔달구 지동 402-2', '경기', '지동시장'],\n",
       " ['케이쇼핑', '서울 동작구 신대방동 395-62', '서울', 'K쇼핑'],\n",
       " ['코끼리마트', '제주특별자치도 서귀포시 표선면 표선리 604', '제주', '코끼리마트'],\n",
       " ['장날', '경기 의정부시 가능동 697-19', '경기', '동두천장날'],\n",
       " ['현대홈마트', '울산 남구 무거동 1547-1', '울산', '현대홈마트'],\n",
       " ['싱싱청과', '부산 수영구 민락동 190-1', '부산', '싱싱청과'],\n",
       " ['코스트코 공세점', '경기 용인시 기흥구 공세동 734-1', '경기', '(주)코스트코코리아공세점'],\n",
       " ['트레이더스홀세일클럽 송림점', '인천 동구 송림동 296-2', '인천', '이마트트레이더스'],\n",
       " ['대농식자재마트', '경기 김포시 통진읍 서암리 432-18', '경기', '대농식자재마트'],\n",
       " ['이마트 화성봉담점', '경기 화성시 봉담읍 동화리 133-1', '경기', '이마트화성봉담점'],\n",
       " ['한국유통식자재마트', '충남 예산군 예산읍 산성리 762', '충남', '(주)한국유통마트'],\n",
       " ['홈플러스 메가푸드마켓 북수원점', '경기 수원시 장안구 조원동 896', '경기', '홈플러스북수원점'],\n",
       " ['제이엠마트 지행점', '경기 동두천시 지행동 691-5', '경기', '제이엠마트'],\n",
       " ['코스트코 양재점', '서울 서초구 양재동 217-6', '서울', '코스트코코리아양재점'],\n",
       " ['콜할인마트', '전남 순천시 조례동 1594', '전남', '콜할인마트'],\n",
       " ['장원할인마트 진교점', '경남 하동군 진교면 진교리 428-35', '경남', '장원할인마트'],\n",
       " ['하나로마트 양재점', '서울 서초구 양재동 230', '서울', '하나로마트양재점'],\n",
       " ['제주향기', '충북 청주시 상당구 용암동 3071', '충북', '제주향기'],\n",
       " ['한살림 사직매장', '부산 동래구 사직동 115-4', '부산', '한살림'],\n",
       " ['더브러마트', '경기 고양시 일산동구 마두동 842-6', '경기', '더브러마트'],\n",
       " ['대진식자재마트', '경기 시흥시 정왕동 1878-2', '경기', '대진마트'],\n",
       " ['하나로마트 광교점', '경기 용인시 수지구 상현동 1118', '경기', '하나로마트광교점'],\n",
       " ['쿠팡 본사', '서울 송파구 신천동 7-30', '서울', '쿠팡'],\n",
       " ['싱싱야채', '서울 강동구 성내동 284-3', '서울', '암사시장싱싱야채'],\n",
       " ['광명전통시장', '경기 광명시 광명동 158-44', '경기', '광명시장'],\n",
       " ['롯데홈쇼핑 서울본사', '서울 영등포구 양평동5가 21', '서울', '롯데홈쇼핑'],\n",
       " ['중동시장', '대구 수성구 중동 417-56', '대구', '중동시장'],\n",
       " ['강동홈마트', '서울 강동구 명일동 346-2', '서울', '(주)강동홈마트'],\n",
       " ['월드식자재마트', '경기 화성시 향남읍 행정리 396-11', '경기', '(주)월드식자재마트'],\n",
       " ['하나로마트 삼송점', '경기 고양시 덕양구 동산동 373', '경기', '농협하나로마트삼송점'],\n",
       " ['이마트 부천점', '경기 부천시 소사구 심곡본동 316-2', '경기', '이마트부천점'],\n",
       " ['현대할인마트', '경남 창원시 마산회원구 회원동 64-4', '경남', '현대할인마트'],\n",
       " ['싱싱할인마트', '서울 광진구 자양동 553-314', '서울', '싱싱할인마트'],\n",
       " ['야채가게', '서울 종로구 창신동 559', '서울', '야채가게'],\n",
       " ['도깨비시장', '서울 관악구 신림동 1563-85', '서울', '도깨비시장'],\n",
       " ['과일나라테마공원', '충북 영동군 영동읍 매천리 34', '충북', '과일나라'],\n",
       " ['이마트 산본점', '경기 군포시 산본동 1123', '경기', '이마트산본점'],\n",
       " ['중앙시장', '부산 부산진구 범천동 946-18', '부산', '중앙시장'],\n",
       " ['이마트 분당점', '경기 성남시 분당구 정자동 211', '경기', '이마트분당점'],\n",
       " ['롯데마트 의왕점', '경기 의왕시 내손동 743', '경기', '롯데쇼핑(주)롯데마트의왕점'],\n",
       " ['하모니마트', '경기 성남시 분당구 백현동 553', '경기', '하모니마트(수내)'],\n",
       " ['대지시장길 공영주차장', '서울 강북구 미아동 703-8', '서울', '대지시장'],\n",
       " ['베스트식자재마트', '서울 양천구 목동 739-1', '서울', '베스트식자재마트'],\n",
       " ['올스타마트 문정점', '서울 송파구 문정동 9-1', '서울', '올스타마트문정점'],\n",
       " ['사러가', '서울 서대문구 연희동 131-1', '서울', '사러가'],\n",
       " ['합정마트', '서울 마포구 합정동 375-1', '서울', '합정마트(합정)'],\n",
       " ['하나로내과', '대전 대덕구 중리동 121-1', '대전', '대덕하나로'],\n",
       " ['이마트에브리데이 월피동점', '경기 안산시 상록구 월피동 508-5', '경기', '(주)이마트에브리데이월피동점'],\n",
       " ['유마트', '경북 경산시 백천동 115-66', '경북', '유마트'],\n",
       " ['코스트코 일산점', '경기 고양시 일산동구 백석동 1312', '경기', '(주)코스트코코리아일산점'],\n",
       " ['싱싱야채', '서울 강동구 성내동 284-3', '서울', '싱싱야채'],\n",
       " ['웰빙왕식자재마트', '서울 영등포구 신길동 2365', '서울', '웰빙왕식자재마트'],\n",
       " ['농민마트', '경기 화성시 향남읍 행정리 462-3', '경기', '농민마트'],\n",
       " ['월드컵마트', '서울 마포구 망원동 473-36', '서울', '월드컵마트'],\n",
       " ['GS수퍼마켓 의왕점 주차장', '경기 의왕시 왕곡동 598-1', '경기', 'GS슈퍼마켓의왕점'],\n",
       " ['이마트에브리데이 동탄호수점', '경기 화성시 송동 694', '경기', '(주)이마트에브리데이동탄호수점'],\n",
       " ['이마트 용산점', '서울 용산구 한강로3가 40-999', '서울', '이마트용산점'],\n",
       " ['롯데슈퍼프레시 부천옥길점', '경기 부천시 소사구 옥길동 744-1', '경기', '롯데슈퍼부천옥길점'],\n",
       " ['베스트마트', '제주특별자치도 제주시 노형동 2513-1', '제주', '베스트마트'],\n",
       " ['성경기업마트', '경기 남양주시 오남읍 오남리 318-2', '경기', '주식회사성경기업마트'],\n",
       " ['이마트트레이더스 송림점 푸드코트', '인천 동구 송림동 296-2', '인천', '이마트트레이더스송림점'],\n",
       " ['동천안농협하나로마트 성남점', '충남 천안시 동남구 성남면 신사리 422-1', '충남', '농협하나로마트성남점'],\n",
       " ['현대백화점 디큐브시티점', '서울 구로구 신도림동 692', '서울', '(주)현대백화점디큐브시티'],\n",
       " ['명성마트', '경기 화성시 우정읍 화산리 836', '경기', '명성마트'],\n",
       " ['천관농협 하나로마트', '전남 장흥군 대덕읍 신월리 102-1', '전남', '대덕하나로마트'],\n",
       " ['우리홈마트', '강원특별자치도 속초시 조양동 1196-1', '강원', '우리홈마트'],\n",
       " ['더제이마켓 동탄', '경기 화성시 산척동 728-1', '경기', '더제이마켓'],\n",
       " ['영신마트', '경남 통영시 태평동 514-2', '경남', '영신마트'],\n",
       " ['조천농협하나로마트 신촌점', '제주특별자치도 제주시 조천읍 신촌리 2220-3', '제주', '농협하나로마트신촌점'],\n",
       " ['하모니마트 여수성남시청점', '경기 성남시 중원구 여수동 194', '경기', '하모니마트(성남시청)'],\n",
       " ['대명상회', '서울 송파구 가락동 99-3', '서울', '가락시장대명상회'],\n",
       " ['우리농산물할인마트', '서울 중랑구 중화동 320-54', '서울', '우리농산물할인매장'],\n",
       " ['남문시장', '대구 중구 남산동 611-2', '대구', '남문시장'],\n",
       " ['싱싱청과', '서울 동작구 사당동 128-7', '서울', '남성시장싱싱청과'],\n",
       " ['세계로할인마트 연수점', '인천 연수구 연수동 633', '인천', '㈜세계로할인마트'],\n",
       " ['H마트', '경기 하남시 망월동 1131-1', '경기', '(주)에이치마트'],\n",
       " ['가락알파마트', '서울 송파구 석촌동 254-1', '서울', '가락알파마트'],\n",
       " ['KB국민은행 이마트트레이더스군포점 ATM', '경기 군포시 부곡동 1227-1', '경기', '이마트트레이더스군포점'],\n",
       " ['박달시장', '경기 안양시 만안구 박달동 52-1', '경기', '안양박달시장'],\n",
       " ['젊은농부', '인천 남동구 구월동 1144-5', '인천', '젊은농부'],\n",
       " ['나예착한과일', '경기 평택시 비전동 990-1', '경기', '과일가게'],\n",
       " ['부광할인마트', '서울 은평구 진관동 12', '서울', '부광할인마트'],\n",
       " ['이마트 미아점', '서울 성북구 길음동 25-2', '서울', '이마트미아점'],\n",
       " ['현대홈쇼핑', '서울 강동구 천호동 454-2', '서울', '현대홈쇼핑'],\n",
       " ['서부트럭터미널', '서울 양천구 신정동 1315', '서울', '트럭'],\n",
       " ['대림시장', '서울 은평구 응암동 754-1', '서울', '대림시장'],\n",
       " ['공영쇼핑 C스튜디오', '서울 마포구 상암동 1650', '서울', '공영쇼핑'],\n",
       " ['원마트', '충남 천안시 서북구 백석동 604-19', '충남', '원마트'],\n",
       " ['월드할인마트', '서울 관악구 신림동 1535-14', '서울', '주식회사월드할인마트'],\n",
       " ['CU 화양사랑점', '서울 광진구 화양동 44-20', '서울', 'CU화양사랑점'],\n",
       " ['중앙청과', '인천 계양구 병방동 381', '인천', '병방시장중앙청과'],\n",
       " ['홈플러스 화성향남점', '경기 화성시 향남읍 행정리 487-1', '경기', '홈플러스화성향남점'],\n",
       " ['킴스클럽 강남점', '서울 서초구 잠원동 70-2', '서울', '뉴코아강남점킴스클럽'],\n",
       " ['올스타푸드마켓', '서울 송파구 오금동 18', '서울', '올스타푸드마켓오금'],\n",
       " ['제일소비자유통', '서울 영등포구 문래동6가 38-1', '서울', '제일소비자유통'],\n",
       " ['하나로마트 수원점', '경기 수원시 권선구 구운동 218-1', '경기', '농협수원유통센터'],\n",
       " ['이마트 하남점', '경기 하남시 덕풍동 736', '경기', '이마트하남점'],\n",
       " ['더마트 평택점', '경기 평택시 세교동 429-23', '경기', '주식회사더마트평택지점'],\n",
       " ['홈앤쇼핑', '서울 강서구 마곡동 728-174', '서울', '홈엔쇼핑'],\n",
       " ['방신전통시장', '서울 강서구 방화동 769-24', '서울', '방신시장'],\n",
       " ['이마트 목동점', '서울 양천구 목동 962', '서울', '이마트목동점'],\n",
       " ['농심가 마트', '경남 창원시 진해구 자은동 626-13', '경남', '농심마트'],\n",
       " ['후레쉬마트', '서울 도봉구 창동 581-65', '서울', '후레쉬마트'],\n",
       " ['경동슈퍼', '경남 양산시 삼호동 573-7', '경남', '경동슈퍼'],\n",
       " ['이마트 신촌점', '서울 마포구 노고산동 57-1', '서울', '이마트신촌점'],\n",
       " ['북구모듈화일반산업단지', '울산 북구 연암동 1391', '울산', '하나로클럽일반'],\n",
       " ['대하마트 파주점', '경기 파주시 금촌동 120-2', '경기', '대하마트'],\n",
       " ['강남시장', '서울 강남구 신사동 510-11', '서울', '강남시장'],\n",
       " ['GS더프레시 관악점', '서울 관악구 봉천동 878-6', '서울', 'GS수퍼마켓'],\n",
       " ['서안성농협하나로마트 본점', '경기 안성시 공도읍 만정리 381', '경기', '안성하나로마트'],\n",
       " ['트레이더스 홀세일 클럽 구성점', '경기 용인시 기흥구 보정동 1019-488', '경기', '이마트트레이더스구성점'],\n",
       " ['풍림할인마트', '서울 성북구 정릉동 239', '서울', '풍림할인마트'],\n",
       " ['홈세일마트', '인천 남동구 간석동 894', '인천', '홈세일마트'],\n",
       " ['영일네반찬가게 수유재래시장점', '서울 강북구 수유동 54-20', '서울', '재래시장가게'],\n",
       " ['NC백화점 신구로점', '서울 구로구 구로동 573', '서울', 'NC신구로점'],\n",
       " ['역곡상상시장', '경기 부천시 원미구 역곡동 268', '경기', '역곡상상시장'],\n",
       " ['더드림병원', '서울 강남구 대치동 907-16', '서울', '더드림'],\n",
       " ['이마트 월계점', '서울 노원구 월계동 333-1', '서울', '이마트월계점'],\n",
       " ['한살림 산본매장', '경기 군포시 산본동 1145-4', '경기', '한살림한살림산본매장'],\n",
       " ['코스트코 송도점', '인천 연수구 송도동 98', '인천', '(주)코스트코코리아송도점'],\n",
       " ['JS유통', '경기 용인시 처인구 남사읍 봉무리 273', '경기', 'JS유통'],\n",
       " ['뉴코아아울렛 부천점', '경기 부천시 원미구 상동 539-1', '경기', '뉴코아아울렛'],\n",
       " ['GS더프레시 의왕점', '경기 의왕시 왕곡동 598', '경기', 'GS슈퍼GS슈퍼마켓의왕점'],\n",
       " ['CU 뉴화양본점', '서울 광진구 화양동 45-1', '서울', 'CU뉴화양본점'],\n",
       " ['아현식자재마트', '서울 마포구 아현동 618-19', '서울', '아현식자재마트'],\n",
       " ['하나로마트 삼송점', '경기 고양시 덕양구 동산동 373', '경기', '농협하나로식자재삼송점'],\n",
       " ['형제청과', '경북 김천시 감호동 191', '경북', '형제청과'],\n",
       " ['성호 임시시장', '경기 성남시 중원구 성남동 2099', '경기', '성호시장'],\n",
       " ['고리울동굴시장', '경기 부천시 오정구 고강동 407', '경기', '고리울동굴시장'],\n",
       " ['창고형농산물왕도매', '경기 광명시 광명동 158', '경기', '광명시장창고형농산물왕도매'],\n",
       " ['발안농협하나로마트 평리점', '경기 화성시 향남읍 평리 152', '경기', '하나로마트발안농협하나로마트'],\n",
       " ['우리농수산', '인천 남동구 간석동 194', '인천', '우리농수산'],\n",
       " ['아낌없이주는총각네', '서울 동작구 상도동 536', '서울', '아낌없이주는총각네'],\n",
       " ['하나로마트 고양점', '경기 고양시 일산서구 대화동 2324', '경기', '농협하나로마트고양점'],\n",
       " ['샐리의과일', '경기 광명시 소하동 1381-1', '경기', '샐리의과일'],\n",
       " ['암사종합시장', '서울 강동구 암사동 501-17', '서울', '암사시장'],\n",
       " ['나이스파크 롯데슈퍼 개화산점 주차장', '서울 강서구 방화동 533-9', '서울', '롯데슈퍼개화산점'],\n",
       " ['금릉할인마트', '경기 광주시 신현동 586-1', '경기', '금릉할인마트'],\n",
       " ['황가네촌놈과일야채', '인천 부평구 십정동 467-7', '인천', '촌놈과일야채'],\n",
       " ['킴스클럽 뉴코아평촌점', '경기 안양시 동안구 호계동 1039-3', '경기', '뉴코아아울렛_뉴코아평촌2점'],\n",
       " ['롯데마트 청량리점', '서울 동대문구 전농동 588-1', '서울', '롯데마트청량리점'],\n",
       " ['풍성상회', '서울 영등포구 당산동1가 100-2', '서울', '풍성상회'],\n",
       " ['스타필드마켓 이마트 죽전점', '경기 용인시 수지구 죽전동 1282', '경기', '이마트죽전점'],\n",
       " ['일산시장', '경기 고양시 일산서구 일산동 617-22', '경기', '일산시장'],\n",
       " ['논현빅마트', '인천 남동구 논현동 109-176', '인천', '(주)논현빅마트'],\n",
       " ['이마트 풍산점', '경기 고양시 일산동구 중산동 1809', '경기', '이마트풍산점'],\n",
       " ['CU 과천래미안점', '경기 과천시 중앙동 74', '경기', 'CU과천래미안점'],\n",
       " ['송탄식자재마트', '경기 평택시 이충동 367', '경기', '송탄식자재마트'],\n",
       " ['바로이마트', '경기 평택시 독곡동 394-8', '경기', '바로이마트'],\n",
       " ['야채과일', '경기 안양시 만안구 박달동 74-17', '경기', '야채과일'],\n",
       " ['오아시스', '강원특별자치도 강릉시 교동 1882-5', '강원', '오아시스'],\n",
       " ['큐마트', '서울 동작구 노량진동 236-13', '서울', '큐마트'],\n",
       " ['하동축산농협 하나로마트', '경남 하동군 하동읍 읍내리 161-5', '경남', '주식회사하동마트'],\n",
       " ['발안농협하나로마트 평리점', '경기 화성시 향남읍 평리 152', '경기', '발안농협하나로마트'],\n",
       " ['늘푸른마트', '인천 남동구 간석동 269-2', '인천', '늘푸른마트'],\n",
       " ['대진할인마트', '서울 강서구 마곡동 743', '서울', '대진할인마트'],\n",
       " ['K식자재마트 군포점', '경기 군포시 당정동 126-13', '경기', 'K-식자재마트'],\n",
       " ['세이브마트 논현점', '인천 남동구 논현동 747-1', '인천', '세이브마트논현'],\n",
       " ['박달라운지', '경기 안양시 만안구 박달동 58-1', '경기', '박달라운지'],\n",
       " ['남산유통', '부산 금정구 남산동 101-17', '부산', '남산유통'],\n",
       " ['이마트 오산점', '경기 오산시 원동 360-6', '경기', '이마트오산점'],\n",
       " ['우리마트 농수산물유통센터 웅상점', '경남 양산시 주진동 281', '경남', '우리농수산물'],\n",
       " ['홈플러스익스프레스 중계점', '서울 노원구 중계동 360-2', '서울', '홈플러스익스프레스중계점'],\n",
       " ['올웨이즈 유마트', '서울 송파구 거여동 290-2', '서울', '(주)올웨이즈유마트'],\n",
       " ['A마트 구갈점', '경기 용인시 기흥구 구갈동 388-1', '경기', '에이마트구갈점'],\n",
       " ['향남월드마트', '경기 화성시 향남읍 행정리 396-1', '경기', '향남월드마트'],\n",
       " ['이마트에브리데이 면목동점', '서울 중랑구 면목동 650', '서울', '(주)이마트에브리데이면목동점'],\n",
       " ['현대직판장', '서울 관악구 봉천동 502-4', '서울', '현대직판장'],\n",
       " ['홈플러스 부천소사점', '경기 부천시 소사구 괴안동 129-1', '경기', '홈플러스부천소사점'],\n",
       " ['재래시장 회룡점', '경기 의정부시 호원동 51-2', '경기', '재래시장회룡점'],\n",
       " ['파워식자재마트', '경북 경주시 황오동 127-3', '경북', '파워마트'],\n",
       " ['홈플러스익스프레스 인천논현2점', '인천 남동구 논현동 601-1', '인천', '홈플러스익스프레스인천논현2점'],\n",
       " ['남촌농산물도매시장', '인천 남동구 남촌동 652', '인천', '남촌농산물도매시장'],\n",
       " ['하늘야채과일', '서울 강남구 수서동 595-18', '서울', '하늘야채과일'],\n",
       " ['이마트 은평점', '서울 은평구 응암동 90-1', '서울', '이마트은평점'],\n",
       " ['트레이더스홀세일클럽 안산점', '경기 안산시 단원구 신길동 1687', '경기', '이마트트레이더스안산점'],\n",
       " ['이마트에브리데이 동탄카림점', '경기 화성시 청계동 536', '경기', '(주)이마트에브리데이동탄카림점'],\n",
       " ['이마트 에브리데이 경서점', '인천 서구 청라동 105-60', '인천', '(주)이마트에브리데이경서점'],\n",
       " ['홈플러스익스프레스 안산사동점', '경기 안산시 상록구 사동 1346', '경기', '홈플러스익스프레스안산사동점'],\n",
       " ['이마트 광교점', '경기 수원시 영통구 이의동 1240', '경기', '이마트광교점'],\n",
       " ['선우마트 월피동점', '경기 안산시 상록구 월피동 466-5', '경기', '(주)선우마트월피점'],\n",
       " ['홈플러스익스프레스 인천논현점', '인천 남동구 논현동 636-1', '인천', '홈플러스익스프레스논현점'],\n",
       " ['노브랜드 동대문장안점', '서울 동대문구 장안동 580', '서울', '노브랜드'],\n",
       " ['홈마트 동두천점', '경기 동두천시 생연동 700-7', '경기', '(주)주양쇼핑동두천지점'],\n",
       " ['코스트코 하남점', '경기 하남시 풍산동 609-1', '경기', '코스트코코리아하남점'],\n",
       " ['GS더프레시 강동고덕점', '서울 강동구 상일동 124', '서울', 'GSTHEFRESH강동고덕점'],\n",
       " ['홈플러스메가푸드마켓 인천연수점', '인천 연수구 동춘동 926', '인천', '홈플러스인천연수점'],\n",
       " ['식자재유통센터', '서울 성북구 삼선동4가 343', '서울', '식자재유통센터'],\n",
       " ['오일장', '경기 여주시 천송동 125-2', '경기', '여주오일장'],\n",
       " ['현대백화점 미아점', '서울 성북구 길음동 20-1', '서울', '현대백화점미아점'],\n",
       " ['11번가', '경기 광명시 일직동 512-3', '경기', '11번가'],\n",
       " ['트레이더스홀세일클럽 동탄점', '경기 화성시 오산동 1022', '경기', '트레이더스동탄점'],\n",
       " ['양지상회', '강원특별자치도 원주시 반곡동 1866-4', '강원', '양지상회'],\n",
       " ['세계로마트 시화점', '경기 시흥시 정왕동 1734-2', '경기', '세계로마트'],\n",
       " ['이마트 마포점', '서울 마포구 신공덕동 173', '서울', '이마트이마트마포점'],\n",
       " ['동서울농협하나로마트 망우점', '서울 중랑구 망우동 147-9', '서울', '하나로마트동서울농협망우점'],\n",
       " ['오정농수산물도매시장', '대전 대덕구 오정동 44-1', '대전', '농수산물'],\n",
       " ['청량리청과물시장', '서울 동대문구 제기동 635-35', '서울', '청량리시장'],\n",
       " ['우성할인마트', '인천 남동구 간석동 135-1', '인천', '우성할인마트'],\n",
       " ['뚱청과', '경기 가평군 가평읍 읍내리 476-9', '경기', '뚱청과'],\n",
       " ['홈플러스익스프레스 인창점', '경기 구리시 인창동 666-2', '경기', '홈플러스익스프레스인창점'],\n",
       " ['에덴마트 선수촌점', '인천 남동구 구월동 1512-1', '인천', '에덴마트'],\n",
       " ['현대그린마트', '인천 부평구 십정동 520-15', '인천', '현대그린마트동암'],\n",
       " ['동양홈마트', '인천 남동구 만수동 1114', '인천', '동양홈마트'],\n",
       " ['홈플러스익스프레스 인천주안점', '인천 미추홀구 주안동 892-1', '인천', '홈플러스익스프레스주안점'],\n",
       " ['싱싱과일', '대전 유성구 봉명동 559-10', '대전', '싱싱과일'],\n",
       " ['정왕시장', '경기 시흥시 정왕동 1203', '경기', '정왕시장'],\n",
       " ['서림유통', '서울 은평구 갈현동 404-25', '서울', '주식회사서림유통'],\n",
       " ['풍성마트', '서울 구로구 오류동 208', '서울', '(주)풍성마트'],\n",
       " ['홈플러스 구월점', '인천 남동구 구월동 1130', '인천', '홈플러스구월점'],\n",
       " ['송탄농수산물도매시장', '경기 평택시 신장동 503', '경기', '남촌농수산물시장'],\n",
       " ['마트킹 평택점', '경기 평택시 죽백동 484', '경기', '킹마트(고덕점)'],\n",
       " ['재인쇼핑', '서울 도봉구 쌍문동 120-60', '서울', '재인쇼핑'],\n",
       " ['리치식자재마트', '경기 광주시 능평동 146-16', '경기', '(주)다인유통'],\n",
       " ['롯데프레시&델리 신도림점', '서울 구로구 신도림동 388-5', '서울', '롯데슈퍼신도림점'],\n",
       " ['이마트', '서울 중구 순화동 53', '서울', '이마트쇼핑몰'],\n",
       " ['신철원시장', '강원특별자치도 철원군 갈말읍 신철원리 697', '강원', '신철원5일장'],\n",
       " ['찾아가는 과일', '경기 군포시 도마교동 479', '경기', '찾아가는과일'],\n",
       " ['SK할인마트', '서울 강북구 미아동 1353-5', '서울', '(주)에스케이할인마트'],\n",
       " ['코스트코 하남점', '경기 하남시 풍산동 609-1', '경기', '(주)코스트코코리아하남점'],\n",
       " ['태호아저씨네', '경기 안산시 단원구 고잔동 665', '경기', '태호아저씨네'],\n",
       " ['노브랜드 판교운중점', '경기 성남시 분당구 운중동 1018', '경기', '노브랜드판교운중점'],\n",
       " ['더드림식자재마트', '서울 동대문구 장안동 462', '서울', '더드림마트'],\n",
       " ['조은야채', '서울 강동구 명일동 15', '서울', '조은야채'],\n",
       " ['현대그린마트', '인천 부평구 십정동 520-15', '인천', '현대그린마트(동암)'],\n",
       " ['우리농산물할인마트', '서울 중랑구 중화동 320-54', '서울', '우리농산물할인마트'],\n",
       " ['k마트 식자재마트', '전북특별자치도 군산시 나운동 1183-2', '전북', 'K마트K-식자재마트'],\n",
       " ['제주머슴네 제주본점', '제주특별자치도 제주시 한림읍 협재리 1406', '제주', '머슴네'],\n",
       " ['트레이더스홀세일클럽 수원점', '경기 수원시 영통구 신동 941', '경기', '이마트트레이더스수원점'],\n",
       " ['이마트 청계천점', '서울 중구 황학동 2545', '서울', '이마트청계천점'],\n",
       " ['롯데백화점 부산본점', '부산 부산진구 부전동 503-15', '부산', '롯데백화점'],\n",
       " ['하나로마트 동탄2신도시점', '경기 화성시 영천동 603-1', '경기', '농협하나로마트동탄점'],\n",
       " ['찡오랑', '경남 거제시 장평동 1211', '경남', '찡오랑'],\n",
       " ['GS SHOP', '서울 강남구 역삼동 679', '서울', 'GSSHOP'],\n",
       " ['대단한청과', '경기 평택시 통복동 86-12', '경기', '대단한청과'],\n",
       " ['행복촌시장', '인천 남동구 서창동 688', '인천', '행복촌시장'],\n",
       " ['대박집', '경기 용인시 처인구 김량장동 142-21', '경기', '대박집채소가게'],\n",
       " ['대박과일', '경기 수원시 장안구 조원동 883', '경기', '대박이네과일'],\n",
       " ['하나로마트 상계점', '서울 노원구 상계동 649', '서울', '하나로마트상계점'],\n",
       " ['용인축산농협 하나로마트', '경기 용인시 처인구 고림동 761', '경기', '용인마트'],\n",
       " ['안성농협하나로마트', '경기 안성시 석정동 278-1', '경기', '안성하나로'],\n",
       " ['이마트24 중랑상봉점', '서울 중랑구 상봉동 276-88', '서울', '이마트상봉점'],\n",
       " ['진접농협하나로마트 연평점 주차장', '경기 남양주시 진접읍 연평리 56', '경기', '진접농협하나로마트연평점'],\n",
       " ['롯데슈퍼프레시 언남점', '경기 용인시 기흥구 언남동 419-1', '경기', '롯데슈퍼언남점'],\n",
       " ['세계로마트 장기점', '경기 김포시 장기동 1858', '경기', '(주)세계로마트장기점'],\n",
       " ['왕대박', '대구 북구 칠성동2가 498-2', '대구', '왕대박'],\n",
       " ['대박이네', '광주 동구 서석동 50-4', '광주', '대박이네'],\n",
       " ['노브랜드 구리갈매점', '경기 구리시 갈매동 596', '경기', '노브랜드구리갈매점'],\n",
       " ['우리홈마트', '경기 부천시 원미구 중동 1092-3', '경기', '우리홈마트중동'],\n",
       " ['울산농수산물도매시장 건어물시장', '울산 남구 삼산동 904-10', '울산', '삼산동농수산물시장'],\n",
       " ['죽산농협 하나로마트', '경기 안성시 죽산면 죽산리 101-1', '경기', '죽산농협하나로마트'],\n",
       " ['새마을구판장', '서울 광진구 자양동 622-40', '서울', '새마을구판장'],\n",
       " ['빅할인마트', '경기 안산시 상록구 사동 1200-3', '경기', '빅할인마트'],\n",
       " ['신세계라이브쇼핑', '서울 성동구 성수동1가 656-1110', '서울', '신세계홈쇼핑'],\n",
       " ['하나로마트 고덕점', '서울 강동구 고덕동 494', '서울', '하나로마트고덕점'],\n",
       " ['마켓365', '서울 강동구 상일동 520', '서울', '마켓365'],\n",
       " ['서해청과', '인천 계양구 계산동 940-12', '인천', '서해청과'],\n",
       " ['행복촌시장 8호점', '경기 수원시 권선구 금곡동 1085', '경기', '시장행복촌시장'],\n",
       " ['은행나무마트', '서울 금천구 시흥동 831-6', '서울', '은행나무마트'],\n",
       " ['자연농원', '경남 창원시 의창구 북면 지개리 676-3', '경남', '자연농원'],\n",
       " ['트레이더스 홀세일 클럽 안성점', '경기 안성시 공도읍 진사리 354', '경기', '트레이더스스타필드안성점'],\n",
       " ['K마트', '경북 경주시 감포읍 감포리 625', '경북', 'K마트'],\n",
       " ['하나로마트 가좌점', '인천 서구 가좌동 11', '인천', '하나로마트가좌점'],\n",
       " ['과일야채', '인천 부평구 부평동 341-25', '인천', '과일야채'],\n",
       " ['웰빙식자재마트 시흥점', '경기 시흥시 은행동 646-4', '경기', '웰빙식자재마트(시흥)'],\n",
       " ['오색시장', '경기 오산시 오산동 862', '경기', '오산오색시장'],\n",
       " ['부곡 할인마트', '경기 의왕시 삼동 462-45', '경기', '부곡할인마트'],\n",
       " ['이마트 진접점', '경기 남양주시 진접읍 연평리 101-14', '경기', '이마트진접점'],\n",
       " ['탑세일마트', '부산 북구 구포동 1086', '부산', '세일마트'],\n",
       " ['청양시장', '충남 청양군 청양읍 읍내리 178-4', '충남', '청양시장'],\n",
       " ['하나로쇼핑타운', '강원특별자치도 영월군 영월읍 영흥리 924-7', '강원', '하나로쇼핑타운'],\n",
       " ['우리동네야채과일', '부산 금정구 부곡동 866-37', '부산', '우리동네야채과일'],\n",
       " ['길동복조리시장', '서울 강동구 길동 360-4', '서울', '길동복조리시장'],\n",
       " ['홈플러스익스프레스 수내점', '경기 성남시 분당구 수내동 29', '경기', '홈플러스익스프레스수내점'],\n",
       " ['형제상회', '서울 마포구 서교동 400-13', '서울', '형제상회'],\n",
       " ['석이네과일야채', '서울 양천구 신월동 534-25', '서울', '석이네야채'],\n",
       " ['우성식자재마트', '인천 계양구 계산동 300-13', '인천', '우성식자재마트'],\n",
       " ['이마트 파주운정점', '경기 파주시 동패동 1763', '경기', '이마트파주운정점'],\n",
       " ['이천우리마트', '경기 이천시 증포동 210-5', '경기', '이천우리마트주식회사'],\n",
       " ['자연과사람들밀면', '제주특별자치도 제주시 조천읍 와흘리 165-8', '제주', '자연과야'],\n",
       " ['이마트 평촌점', '경기 안양시 동안구 관양동 1608', '경기', '이마트평촌점'],\n",
       " ['제이원마트', '경남 사천시 사천읍 평화리 70', '경남', '제이원마트'],\n",
       " ['롯데슈퍼 공릉점', '서울 노원구 공릉동 238-53', '서울', '롯데슈퍼공릉점'],\n",
       " ['갈현굿모닝마트', '서울 은평구 갈현동 508-7', '서울', '갈현굿모닝마트'],\n",
       " ['트레이더스 홀세일 클럽 하남점', '경기 하남시 신장동 616', '경기', '스타필드하남이마트트레이더스스타필드하남점'],\n",
       " ['안양농수산물도매시장 수산동', '경기 안양시 동안구 평촌동 934-1', '경기', '평촌농수산시장'],\n",
       " ['털보청과', '인천 미추홀구 용현동 617-62', '인천', '토지금고시장털보청과'],\n",
       " ['SK선경마트 구서점', '부산 금정구 구서동 414-18', '부산', 'SK마트'],\n",
       " ['GS25 마포LG점', '서울 마포구 공덕동 275', '서울', 'GS25마포LG점'],\n",
       " ['트레이더스 홀세일 클럽 하남점', '경기 하남시 신장동 616', '경기', '이마트트레이더스스타필드하남점'],\n",
       " ['능곡전통시장', '경기 고양시 덕양구 토당동 348-9', '경기', '능곡전통시장'],\n",
       " ['홈플러스 서수원점', '경기 수원시 권선구 금곡동 1116-2', '경기', '홈플러스서수원점'],\n",
       " ['2001아울렛 안양점', '경기 안양시 만안구 안양동 627-287', '경기', '2001아울렛_2001안양점'],\n",
       " ['더페이스샵 홈플러스 월드컵점', '서울 마포구 성산동 515', '서울', '홈플러스스토어즈월드컵점'],\n",
       " ['굿모닝마트 통진점', '경기 김포시 통진읍 마송리 522-4', '경기', '굿모닝마트굿모닝마트(통진점)'],\n",
       " ['GS리테일 본사', '서울 강남구 역삼동 679', '서울', 'GSFRESHMALL'],\n",
       " ['오렌지마트 망우2호점', '서울 중랑구 망우동 202-5', '서울', '(주)오렌지마트교문점'],\n",
       " ['야채네과일가게', '인천 연수구 청학동 503-4', '인천', '야채네과일가게'],\n",
       " ['롯데마트 경기양평점', '경기 양평군 양평읍 공흥리 468-33', '경기', '롯데마트경기양평점'],\n",
       " ['양서농협하나로마트 국수점', '경기 양평군 양서면 복포리 364-7', '경기', '양서농협하나로마트국수점'],\n",
       " ['콜마트 오산지점', '경기 오산시 오산동 109-1', '경기', '콜마트주식회사'],\n",
       " ['GS더프레시 관악점', '서울 관악구 봉천동 878-6', '서울', 'GS프레쉬'],\n",
       " ['달콤한거짓말', '서울 마포구 상수동 317-11', '서울', '달콤'],\n",
       " ['정방폭포한라봉농장', '제주특별자치도 서귀포시 하효동 1297', '제주', '정방폭포한라봉'],\n",
       " ['총각네 방배점', '서울 서초구 방배동 758-2', '서울', '구반포과일가게'],\n",
       " ['이마트 영등포점', '서울 영등포구 영등포동4가 442', '서울', '이마트이마트영등포점'],\n",
       " ['동양식자재마트', '경기 포천시 선단동 503', '경기', '(주)동양식자재마트'],\n",
       " ['롯데프레시&델리 교문점', '경기 구리시 교문동 808', '경기', '롯데슈퍼교문점'],\n",
       " ['이마트에브리데이 목동중앙점', '서울 양천구 목동 908-34', '서울', '이마트에브리데이이마트에브리데이목동중앙점'],\n",
       " ['뉴코아팩토리아울렛 광명점', '경기 광명시 하안동 38', '경기', '뉴코아뉴코아광명점'],\n",
       " ['코스트코 상봉점', '서울 중랑구 상봉동 81', '서울', '(주)코스트코코리아상봉점'],\n",
       " ['느티나무마트 수지상현점', '경기 용인시 수지구 상현동 166-8', '경기', '느티나무마트'],\n",
       " ['홈플러스익스프레스 구의2점', '서울 광진구 구의동 212-2', '서울', '홈플러스익스프레스서울구의2점'],\n",
       " ['365세일마트', '경남 김해시 주촌면 선지리 601-3', '경남', '365세일마트'],\n",
       " ['킴스클럽 2001구로점', '서울 구로구 고척동 76-41', '서울', '킴스클럽구로점'],\n",
       " ['산애들 과일가게 화랑대점', '서울 노원구 공릉동 89-1', '서울', '산애들화랑대점'],\n",
       " ['세이브마트 논현점', '인천 남동구 논현동 747-1', '인천', '세이브마트(논현)'],\n",
       " ['이마트 여의도점', '서울 영등포구 여의도동 47', '서울', '이마트여의도점'],\n",
       " ['송탄농수산물도매시장', '경기 평택시 신장동 503', '경기', '남촌농산물시장'],\n",
       " ['이마트 천호점', '서울 강동구 천호동 454-1', '서울', '이마트천호점'],\n",
       " ['농협하나로유통 풍기인삼하나로마트 서대문점', '서울 종로구 홍파동 199', '서울', '농협하나로마트농협하나로마트서대문점'],\n",
       " ['흥부네', '충남 천안시 서북구 성환읍 성환리 153-7', '충남', '흥부네'],\n",
       " ['복지마트', '전북특별자치도 부안군 주산면 돈계리 51-2', '전북', '복지마트'],\n",
       " ['자연드림 수원이의점', '경기 수원시 영통구 이의동 1369-3', '경기', '자연드림자연드림이의점'],\n",
       " ['롯데마트 제타플렉스 잠실점', '서울 송파구 잠실동 40-1', '서울', '롯데마트롯데쇼핑(주)롯데마트제타플렉스'],\n",
       " ['홈플러스 면목점', '서울 중랑구 면목동 168-2', '서울', '홈플러스면목점'],\n",
       " ['코스트코 광명점', '경기 광명시 일직동 163-3', '경기', '코스트코(주)코스트코코리아'],\n",
       " ['큐엔씨24', '경기 안산시 단원구 초지동 727', '경기', '(주)큐엔씨24'],\n",
       " ['올스타푸드마켓 송파점', '서울 송파구 송파동 122-5', '서울', '올스타마트방이점'],\n",
       " ['하나로마트 수원점', '경기 수원시 권선구 구운동 218-1', '경기', '농협하나로농협수원유통센터'],\n",
       " ['안성축협하나로마트 당왕동지점', '경기 안성시 당왕동 544', '경기', '안성축협당왕동마트'],\n",
       " ['진로마트 마들점', '서울 노원구 상계동 1021-1', '서울', '진로마트(상계동)'],\n",
       " ['수진역할인마트', '경기 성남시 중원구 성남동 2126', '경기', '수진역할인마트'],\n",
       " ['이마트 자양점', '서울 광진구 자양동 227-7', '서울', '이마트자양점'],\n",
       " ['일원유통', '전북특별자치도 전주시 덕진구 우아동2가 894-5', '전북', '(주)일원유통'],\n",
       " ['이마트에브리데이 가락동점', '서울 송파구 가락동 88-2', '서울', '이마트에브리데이가락동점'],\n",
       " ['현대백화점 신촌점', '서울 서대문구 창천동 30-33', '서울', '(주)현대백화점신촌점'],\n",
       " ['하나로마트 용인점', '경기 용인시 기흥구 상하동 351', '경기', '하나로마트용인점'],\n",
       " ['송탄농수산물도매시장', '경기 평택시 신장동 503', '경기', '남촌농수산도매시장'],\n",
       " ['5층온누리약국', '경기 남양주시 화도읍 마석우리 383-1', '경기', '온누리5층'],\n",
       " ['노브랜드 평택비전점', '경기 평택시 비전동 1003-2', '경기', '노브랜드평택비전점'],\n",
       " ['대인농산', '인천 남동구 남촌동 652', '인천', '대인농산'],\n",
       " ['동양할인마트', '경기 남양주시 진건읍 용정리 745-1', '경기', '동양할인마트'],\n",
       " ['하나로마트 삼송점', '경기 고양시 덕양구 동산동 373', '경기', '농협하나로마트삼송점(식자재)'],\n",
       " ['이마트 동탄점', '경기 화성시 석우동 44', '경기', '이마트동탄점'],\n",
       " ['산본시장', '경기 군포시 산본동 251-4', '경기', '산본시장'],\n",
       " ['홈플러스 합정점', '서울 마포구 서교동 490', '서울', '홈플러스합정점'],\n",
       " ['경기마트', '인천 부평구 산곡동 311-139', '인천', '경기마트'],\n",
       " ['월드할인마트 춘의지점', '경기 부천시 원미구 춘의동 127', '경기', '월드마트춘의점'],\n",
       " ['포천5일장', '경기 포천시 신읍동 31', '경기', '동두천5일장'],\n",
       " ['박달시장', '경기 안양시 만안구 박달동 52-1', '경기', '박달시장'],\n",
       " ['가락청과', '서울 동작구 사당동 267-8', '서울', '가락청과'],\n",
       " ['총각네 상일역점', '서울 강동구 상일동 521', '서울', '총각네상일역점'],\n",
       " ['KB국민은행 이마트트레이더스월계점 ATM', '서울 노원구 월계동 333-1', '서울', '이마트트레이더스이마트트레이더스월계점'],\n",
       " ['싸다구과일야채', '서울 관악구 봉천동 972-40', '서울', '싸다구야채'],\n",
       " ['야채오빠과일언니', '서울 영등포구 당산동5가 11-33', '서울', '오빠야채'],\n",
       " ['주영할인마트', '경남 통영시 태평동 10', '경남', '주영할인마트'],\n",
       " ['미래마켓24', '경기 화성시 반송동 103-7', '경기', '미래마켓24'],\n",
       " ['베테랑야채과일', '서울 강서구 방화동 567-4', '서울', '베테랑야채과일'],\n",
       " ['천지농산물', '인천 서구 심곡동 256-9', '인천', '천지농산물'],\n",
       " ['역곡상상시장', '경기 부천시 원미구 역곡동 268', '경기', '상상시장'],\n",
       " ['안양중앙시장', '경기 안양시 만안구 안양동 676-45', '경기', '안양중앙시장'],\n",
       " ['농가', '경기 파주시 광탄면 방축리 204-1', '경기', '농가'],\n",
       " ['일산농협 로컬푸드직매장 일산점', '경기 고양시 일산서구 일산동 594-28', '경기', '로컬푸드직매장일산농협'],\n",
       " ['미소그린약국', '경기 시흥시 장곡동 385-8', '경기', '(주)진보유통(거모)'],\n",
       " ['하이웨이클럽', '인천 부평구 청천동 191-10', '인천', '하이웨이클럽'],\n",
       " ['싸게파는집', '서울 성북구 삼선동1가 129', '서울', '싸게파는집'],\n",
       " ['강동농협하나로마트', '서울 강동구 암사동 487-33', '서울', '강동농협하나로마트'],\n",
       " ['이마트 풍산점', '경기 고양시 일산동구 중산동 1809', '경기', '이마트이마트풍산점'],\n",
       " ['맘스아이스아이스크림할인마트', '강원특별자치도 강릉시 교동 1805-7', '강원', '맘스할인마트'],\n",
       " ['세계로식자재마트', '인천 미추홀구 학익동 489-14', '인천', '세계로식자재마트'],\n",
       " ['시흥식자재마트', '경기 시흥시 은행동 105-14', '경기', '시흥식자재마트'],\n",
       " ['한마켓', '서울 광진구 중곡동 113-21', '서울', '한마켓'],\n",
       " ['GS더프레시 동탄아이비파크점', '경기 화성시 오산동 973', '경기', 'GSTHEFRESH동탄아이비파크점'],\n",
       " ['새서울청과', '서울 성북구 상월곡동 57-5', '서울', '새서울청과'],\n",
       " ['인천석바위시장', '인천 미추홀구 주안동 922-7', '인천', '인천석바위시장'],\n",
       " ['이마트 창동점', '서울 도봉구 창동 135-26', '서울', '이마트창동점'],\n",
       " ['에이스유통', '경기 하남시 천현동 392-3', '경기', '에이스유통'],\n",
       " ['이마트 김포한강점', '경기 김포시 구래동 6880-9', '경기', '이마트김포한강점'],\n",
       " ['봉천제일종합시장', '서울 관악구 봉천동 921-1', '서울', '영림시장'],\n",
       " ['싱싱텃밭', '경기 광명시 광명동 158-1332', '경기', '싱싱텃밭'],\n",
       " ['홈플러스익스프레스 목동2점', '서울 양천구 목동 657-21', '서울', '홈플러스익스프레스홈플러스익스프레스목동2점'],\n",
       " ['하나로마트 창동점', '서울 도봉구 창동 1-15', '서울', '하나로마트창동점'],\n",
       " ['오아시스마켓 광장점', '서울 광진구 광장동 463-3', '서울', '우리생협OASIS광장점'],\n",
       " ['한국농산', '서울 성동구 옥수동 365-22', '서울', '한국농산'],\n",
       " ['홈플러스 메가푸드마켓 방학점', '서울 도봉구 방학동 707-7', '서울', '홈플러스방학점'],\n",
       " ['충북상회', '경기 수원시 팔달구 영동 6-14', '경기', '수원농수산물시장충북상회'],\n",
       " ['이마트 신도림점', '서울 구로구 구로동 3-25', '서울', '이마트신도림점'],\n",
       " ['안양관양시장', '경기 안양시 동안구 관양동 1407-8', '경기', '안양관양시장'],\n",
       " ['홈플러스 김포풍무점', '경기 김포시 풍무동 38-1', '경기', '홈플러스풍무점'],\n",
       " ['안양농수산물도매시장 수산동', '경기 안양시 동안구 평촌동 934-1', '경기', '안양농수산물'],\n",
       " ['하나로마트 수원점', '경기 수원시 권선구 구운동 218-1', '경기', '농협하나로마트농협수원유통센터'],\n",
       " ['화성태안농협하나로마트 병점역점', '경기 화성시 진안동 526-3', '경기', '태안농협하나로마트능동점'],\n",
       " ['하나로마트 광주점', '광주 광산구 신가동 1052', '광주', '식자재마트'],\n",
       " ['오일장', '광주 북구 문흥동 1003-10', '광주', '오일장'],\n",
       " ['길동복조리시장', '서울 강동구 길동 360-4', '서울', '길동시장'],\n",
       " ['다온팜', '광주 북구 중흥동 696-7', '광주', '다온팜'],\n",
       " ['목동팜마트', '서울 양천구 신정동 902-17', '서울', '목동팜마트'],\n",
       " ['오빠네 야채청과', '서울 영등포구 양평동4가 101-3', '서울', '오빠네야채'],\n",
       " ['총각네과일야채', '대구 달서구 본리동 145-2', '대구', '총각네야채'],\n",
       " ['우리상회', '충남 천안시 서북구 차암동 463', '충남', '우리상회'],\n",
       " ['우성청과', '경기 광주시 경안동 433-14', '경기', '우성청과'],\n",
       " ['가락공판장', '서울 금천구 독산동 1041-45', '서울', '(주)가락공판장'],\n",
       " ['동북식자재마트', '서울 강북구 미아동 701-3', '서울', '동북식자재마트'],\n",
       " ['공항할인마트', '서울 강서구 방화동 614-52', '서울', '공항할인마트'],\n",
       " ['노브랜드 고양행신중앙점', '경기 고양시 덕양구 행신동 998-1', '경기', '노브랜드노브랜드고양행신중앙점'],\n",
       " ['수원농협하나로마트 세류점', '경기 수원시 권선구 세류동 356', '경기', '하나로수원농협하나로마트세류점'],\n",
       " ['코스트코 하남점', '경기 하남시 풍산동 609-1', '경기', '코스트코하남점(주)코스트코코리아하남점'],\n",
       " ['이마트에브리데이 서초내곡점', '서울 서초구 내곡동 391', '서울', '이마트에브리데이서초내곡점'],\n",
       " ['코스트코 양재점', '서울 서초구 양재동 217-6', '서울', '코스트코양재점'],\n",
       " ['야채오빠과일언니', '서울 영등포구 당산동5가 11-33', '서울', '야채오빠과일언니'],\n",
       " ['하나로마트 흑석점', '서울 동작구 흑석동 332', '서울', '하나로마트흑석점'],\n",
       " ['아현시장', '서울 마포구 아현동 327-7', '서울', '아현시장'],\n",
       " ['재래시장 망원점', '서울 마포구 망원동 400-14', '서울', '재래시장망원점'],\n",
       " ['노브랜드 동대문장안점', '서울 동대문구 장안동 580', '서울', '슈퍼마켓'],\n",
       " ['자유로마트 중산점', '경기 고양시 일산동구 중산동 72-4', '경기', '자유로마트중산점'],\n",
       " ['대림슈퍼', '경기 안양시 만안구 안양동 833-18', '경기', '대림슈퍼'],\n",
       " ['하이웨이디씨클럽 수원정자점', '경기 수원시 장안구 정자동 16-2', '경기', '하이웨이디씨클럽하이웨이디씨클럽수원정자점'],\n",
       " ['모닝식자재마트', '경기 고양시 일산동구 백석동 1240', '경기', '모닝식자재마트'],\n",
       " ['친환경농산물', '서울 강남구 개포동 186-11', '서울', '친환경농산물'],\n",
       " ['로즈할인마트', '서울 강남구 역삼동 741-12', '서울', '로즈할인마트'],\n",
       " ['우리청과', '경기 안양시 만안구 안양동 711-87', '경기', '우리청과'],\n",
       " ['두배로마트', '경기 파주시 월롱면 위전리 296-1', '경기', '두배로마트'],\n",
       " ['청솔식품', '충북 괴산군 사리면 방축리 93', '충북', '청솔식품'],\n",
       " ['세일유통', '인천 부평구 일신동 102-1', '인천', '세일유통'],\n",
       " ['도화할인마트', '인천 미추홀구 도화동 16-32', '인천', '도화할인마트'],\n",
       " ['이마트 하월곡점', '서울 성북구 하월곡동 230', '서울', '이마트하월곡점'],\n",
       " ['다다플러스마트', '경기 오산시 누읍동 528', '경기', '(주)다다플러스마트동탄점'],\n",
       " ['올레길 18코스(제주원도심-조천 올레)', '제주특별자치도 제주시 삼양이동', '제주', '삼양'],\n",
       " ['수정유통', '경기 양주시 삼숭동 452-2', '경기', '수정유통용인지점'],\n",
       " ['홈플러스마트 방어점', '울산 동구 방어동 346', '울산', '홈플러스마트'],\n",
       " ['롯데마트 천천점', '경기 수원시 장안구 천천동 525', '경기', '롯데쇼핑(주)롯데마트천천점'],\n",
       " ['들빛농원', '강원특별자치도 원주시 호저면 고산리 149-1', '강원', '들빛농원'],\n",
       " ['고객사랑마트', '서울 강남구 개포동 1197-2', '서울', '(주)고객사랑마트'],\n",
       " ['대림할인마트', '서울 동대문구 이문동 220-3', '서울', '대림할인마트'],\n",
       " ['트레이더스 홀세일 클럽 고양점', '경기 고양시 덕양구 동산동 370', '경기', '이마트트레이더스스타필드고양점'],\n",
       " ['한국애플 원당지점', '경기 고양시 덕양구 성사동 726', '경기', '(주)한국애플원당지점'],\n",
       " ['홈플러스 메가푸드마켓 가좌점', '인천 서구 가좌동 118', '인천', '홈플러스가좌점'],\n",
       " ['남수원할인마트', '경기 화성시 봉담읍 와우리 74-1', '경기', '남수원할인마트'],\n",
       " ['GS더프레시 고덕그라시움점', '서울 강동구 고덕동 693', '서울', 'GSTHEFRESH고덕그라시움점'],\n",
       " ['코끼리마트 광장점', '서울 광진구 광장동 582', '서울', '코끼리마트광장점'],\n",
       " ['홈플러스 동수원점', '경기 수원시 팔달구 인계동 1045', '경기', '홈플러스동수원점'],\n",
       " ['가락농수산', '서울 중구 오장동 145-32', '서울', '가락농수산'],\n",
       " ['대영마트', '경기 의정부시 의정부동 605', '경기', '대영마트'],\n",
       " ['유성유통', '제주특별자치도 서귀포시 서귀동 702-1', '제주', '유성유통'],\n",
       " ['래미안홈마트', '경기 성남시 중원구 금광동 2500', '경기', '래미안홈마트'],\n",
       " ['이마트 가든파이브점', '서울 송파구 문정동 628', '서울', '이마트가든5점'],\n",
       " ['롯데쇼핑', '인천 부평구 부평동 738-21', '인천', '롯데쇼핑(주)롯데마트부평점'],\n",
       " ['웰빙홈마트', '인천 연수구 동춘동 938', '인천', '웰빙홈마트'],\n",
       " ['롯데프레시&델리 창동2점', '서울 도봉구 창동 274-5', '서울', '롯데슈퍼창동2점'],\n",
       " ['과일직판장', '강원특별자치도 홍천군 홍천읍 신장대리 71-9', '강원', '과일직판장'],\n",
       " ['이마트 목동점', '서울 양천구 목동 962', '서울', '이마트이마트목동점'],\n",
       " ['이마트 광명소하점', '경기 광명시 소하동 1339-3', '경기', '이마트메트로광명점'],\n",
       " ['이마트 별내점', '경기 남양주시 별내동 989', '경기', '이마트별내점'],\n",
       " ['농민유통', '경기 의왕시 삼동 208-18', '경기', '농민유통'],\n",
       " ['이마트 묵동점', '서울 중랑구 묵동 170-1', '서울', '이마트이마트묵동점'],\n",
       " ['트레이더스 홀세일 클럽 김포점', '경기 김포시 풍무동 884', '경기', '이마트트레이더스김포'],\n",
       " ['맛나청과', '서울 강동구 암사동 500-27', '서울', '맛나청과'],\n",
       " ['홈플러스익스프레스 금호점', '서울 성동구 금호동1가 515', '서울', '홈플러스익스프레스금호점'],\n",
       " ['딸부자네야채과일', '인천 미추홀구 용현동 556-55', '인천', '딸부자네야채과일'],\n",
       " ['창고형농산물왕도매', '경기 광명시 광명동 158', '경기', '창고형농산물왕도매'],\n",
       " ['이름없는과일야채 범계역점', '경기 안양시 동안구 비산동 1107', '경기', '이름없는과일야채안양메가트리아점'],\n",
       " ['GS더프레시 강북미아점', '서울 강북구 미아동 1357-6', '서울', 'GS슈퍼마켓강북미아점'],\n",
       " ['푸른누리', '경기 광주시 문형동 54-13', '경기', '푸른누리'],\n",
       " ['뉴코아아울렛 산본점', '경기 군포시 산본동 1231', '경기', '뉴코아아울렛뉴코아산본점'],\n",
       " ['엘마트 의정부점', '경기 의정부시 의정부동 157-7', '경기', '엘마트주식회사엘마트'],\n",
       " ['자매과일야채', '인천 계양구 계산동 973-9', '인천', '자매과일야채'],\n",
       " ['이마트24 중랑상봉점', '서울 중랑구 상봉동 276-88', '서울', '이마트이마트상봉점'],\n",
       " ['현대백화점 판교점', '경기 성남시 분당구 백현동 541', '경기', '현대백화점현대백화점판교점'],\n",
       " ['농산물할인매장', '서울 양천구 신정동 1183-13', '서울', '농산물할인매장'],\n",
       " ['하나로마트 양재점', '서울 서초구 양재동 230', '서울', '농협하나로마트양재점'],\n",
       " ['아크테릭스 현대백화점 더현대 서울점', '서울 영등포구 여의도동 22', '서울', '현대백화점더현대서울'],\n",
       " ['프라임마트 방화점', '서울 강서구 방화동 580-120', '서울', '프라임마트(방화점)'],\n",
       " ['홈플러스익스프레스 길음점', '서울 성북구 길음동 1285', '서울', '홈플러스홈플러스익스프레스길음점'],\n",
       " ['이마트에브리데이 목동역점', '서울 양천구 신정동 995-2', '서울', '(주)이마트에브리데이목동역점'],\n",
       " ['이마트24 R일산킨텍스점', '경기 고양시 일산서구 대화동 2701', '경기', '이마트킨텍스점'],\n",
       " ['이마트 마포점', '서울 마포구 신공덕동 173', '서울', '이마트공덕점'],\n",
       " ['팜스마트 산내점', '경기 파주시 목동동 1116', '경기', '(주)팜스마트(산내점)'],\n",
       " ['트레이더스홀세일클럽 킨텍스점', '경기 고양시 일산서구 대화동 2703', '경기', '이마트트레이더스이마트트레이더스킨텍스점'],\n",
       " ['홈플러스익스프레스 발산점', '서울 강서구 내발산동 750-10', '서울', '홈플러스익스프레스발산점'],\n",
       " ['연남공판장', '서울 마포구 연남동 369-17', '서울', '연남공판장'],\n",
       " ['베스트청과', '경기 부천시 소사구 옥길동 726-3', '경기', '베스트청과'],\n",
       " ['그린마트 호매실점', '경기 수원시 권선구 호매실동 1368', '경기', '진로마트(호매실)'],\n",
       " ['마트킹 서수원점', '경기 수원시 권선구 고색동 492', '경기', '(주)마트킹서수원점'],\n",
       " ['와식자재마트', '인천 남동구 서창동 690-1', '인천', '(주)와식자재마트'],\n",
       " ['GS더프레시 서초점', '서울 서초구 반포동 30-25', '서울', 'GS더프레시서초점'],\n",
       " ['1004마트 홍제점', '서울 서대문구 홍제동 253-3', '서울', '1004마트(홍제점)'],\n",
       " ['노브랜드 안산이동점', '경기 안산시 상록구 이동 718-4', '경기', '노브랜드안산이동점'],\n",
       " ['강남지인병원', '서울 강남구 논현동 218-11', '서울', '지인'],\n",
       " ['동두천농협하나로마트', '경기 동두천시 생연동 699-1', '경기', '동두천농협하나로마트'],\n",
       " ['트레이더스홀세일클럽 안산점', '경기 안산시 단원구 신길동 1687', '경기', '이마트트레이더스이마트트레이더스안산점'],\n",
       " ['안심할인마트 송죽점', '경기 수원시 장안구 송죽동 389-43', '경기', '안심할인마트(송죽)'],\n",
       " ['한국유통', '경기 군포시 당동 919', '경기', '(주)한국유통'],\n",
       " ['이마트에브리데이 대방동점', '서울 동작구 대방동 335-17', '서울', '이마트에브리데이대방동점'],\n",
       " ['부곡진로마트', '경기 군포시 부곡동 1132-1', '경기', '부곡진로마트'],\n",
       " ['럭키마트', '경기 용인시 처인구 고림동 792-2', '경기', '럭키마트고림점'],\n",
       " ['정자과일나라', '경기 수원시 장안구 정자동 75-20', '경기', '정자과일나라'],\n",
       " ['롯데프레시&델리 수서역점', '서울 강남구 수서동 713', '서울', 'LOTTESUPER수서역점롯데슈퍼수서역점'],\n",
       " ['장터과일야채도소매', '인천 서구 검암동 508-1', '인천', '장터야채과일'],\n",
       " ['착한수산', '강원특별자치도 원주시 일산동 358-38', '강원', '착한수산'],\n",
       " ['가락공판장 문정점', '서울 송파구 문정동 84-1', '서울', '가락공판장문정점'],\n",
       " ['BS마트', '충남 아산시 모종동 666', '충남', 'BS마트'],\n",
       " ['지마트', '경기 동두천시 지행동 345', '경기', '(주)지마트'],\n",
       " ['과일이야기', '광주 서구 화정동 919-9', '광주', '과일이야기'],\n",
       " ['세계로할인마트 야탑점', '경기 성남시 분당구 야탑동 273-3', '경기', '(주)세계로마트야탑점'],\n",
       " ['양양상회', '서울 성북구 정릉동 400-10', '서울', '정릉시장양양상회'],\n",
       " ['경기마트 길음점', '서울 성북구 길음동 1286', '서울', '(주)경기마트길음'],\n",
       " ['하나로마트 방이역점', '서울 송파구 오금동 615', '서울', '하나로마트방이역점'],\n",
       " ['킴스클럽 뉴코아평촌점', '경기 안양시 동안구 호계동 1039-3', '경기', '뉴코아아울렛뉴코아아울렛_뉴코아평촌2점_킴스클럽'],\n",
       " ['NC백화점 송파점', '서울 송파구 문정동 634', '서울', 'NC백화점송파점'],\n",
       " ['해돋이청과', '서울 동작구 사당동 92-2', '서울', '남성시장해돋이청과'],\n",
       " ['하나로마트 부산점', '부산 북구 금곡동 1874-3', '부산', '하나로클럽'],\n",
       " ['롯데프레시&델리 하남감일점', '경기 하남시 감일동 528-1', '경기', '롯데슈퍼하남감일점'],\n",
       " ['NC백화점 송파점', '서울 송파구 문정동 634', '서울', '엔씨송파점'],\n",
       " ['홈플러스 메가푸드마켓 야탑점', '경기 성남시 분당구 야탑동 341', '경기', '홈플러스야탑점'],\n",
       " ['이마트 미아점', '서울 성북구 길음동 25-2', '서울', '이마트이마트미아점'],\n",
       " ['이마트 하월곡점', '서울 성북구 하월곡동 230', '서울', '이마트이마트하월곡점'],\n",
       " ['이마트에브리데이 개봉동점', '서울 구로구 개봉동 324-1', '서울', '(주)이마트에브리데이개봉동점'],\n",
       " ['일산농협 로컬푸드직매장 장항점', '경기 고양시 일산동구 장항동 594', '경기', '로컬푸드고양일산_로컬푸드직매장'],\n",
       " ['노브랜드 용인죽전점', '경기 용인시 수지구 죽전동 1206-1', '경기', '노브랜드용인죽전점'],\n",
       " ['포시즌식자재마트 발산점', '서울 강서구 내발산동 689-2', '서울', '포시즌식자재마트(발산)'],\n",
       " ['CU 삼송신원7단지점', '경기 고양시 덕양구 신원동 595', '경기', 'CU삼송신원7단지점'],\n",
       " ['하나로마트 고양점', '경기 고양시 일산서구 대화동 2324', '경기', '농협하나로마트농협하나로마트고양점'],\n",
       " ['백암농협하나로마트', '경기 용인시 처인구 백암면 백암리 459-2', '경기', '백암농협하나로마트'],\n",
       " ['홈플러스익스프레스 중곡점', '서울 광진구 중곡동 157-1', '서울', '홈플러스익스프레스중곡점'],\n",
       " ['코스트코 광명점', '경기 광명시 일직동 163-3', '경기', '코스트코코리아광명점'],\n",
       " ['대청상회', '서울 은평구 응암동 602-1', '서울', '대청상회'],\n",
       " ['이마트 마포점', '서울 마포구 신공덕동 173', '서울', '이마트마포점'],\n",
       " ['코스트코 양평점', '서울 영등포구 양평동3가 65', '서울', '(주)코스트코코리아'],\n",
       " ['화영유통', '서울 노원구 중계동 364-17', '서울', '(주)화영유통'],\n",
       " ['N마트 용인점', '경기 용인시 기흥구 공세동 395-1', '경기', '엔마트용인점'],\n",
       " ['싱싱채소과일', '대구 동구 신암동 634-7', '대구', '채소과일가게'],\n",
       " ['롯데프레시&델리 용인동천점', '경기 용인시 수지구 동천동 387-6', '경기', '롯데슈퍼용인동천점'],\n",
       " ['창고형농산물왕도매', '경기 광명시 광명동 158', '경기', '광명시장농산물왕도매'],\n",
       " ['하나로마트 수원점', '경기 수원시 권선구 구운동 218-1', '경기', '하나로마트농협수원유통센터'],\n",
       " ['대하식자재마트', '충남 천안시 서북구 쌍용동 1367', '충남', '(주)대하식자재마트'],\n",
       " ['대하식자재마트', '충남 천안시 서북구 쌍용동 1367', '충남', '주식회사대하식자재마트'],\n",
       " ['자연나라', '경기 이천시 마장면 오천리 185', '경기', '자연나라'],\n",
       " ['보령축협하나로마트', '충남 보령시 명천동 414-6', '충남', '보령축협하나로마트'],\n",
       " ['롯데마트 맥스 금천점', '서울 금천구 독산동 295-10', '서울', '롯데마트롯데쇼핑(주)롯데마트금천점'],\n",
       " ['홈플러스익스프레스 목동점', '서울 양천구 목동 908-28', '서울', '홈플러스목동점'],\n",
       " ['이마트에브리데이 능동점', '경기 화성시 능동 508-4', '경기', '이마트에브리데이능동점'],\n",
       " ['노브랜드 화성향남행정점', '경기 화성시 향남읍 행정리 508-1', '경기', '노브랜드화성향남행정점'],\n",
       " ['트레이더스홀세일클럽 스타필드시티부천점', '경기 부천시 소사구 옥길동 768', '경기', '이마트트레이더스스타필드부천점'],\n",
       " ['이마트 이천점', '경기 이천시 증포동 47-4', '경기', '이마트이마트이천점'],\n",
       " ['애슐리퀸즈 NC야탑점', '경기 성남시 분당구 야탑동 357-1', '경기', '뉴코아NC뉴코아야탑점'],\n",
       " ['스마일유통', '서울 강서구 화곡동 853-11', '서울', '스마일유통(주)'],\n",
       " ['에브리데이 홈마트', '경기 안산시 상록구 월피동 493-16', '경기', '홈마트에브리데이'],\n",
       " ['엘마트', '서울 노원구 공릉동 711', '서울', '엘마트'],\n",
       " ['과일야채대박집', '서울 강서구 공항동 53-41', '서울', '과일야채대박집'],\n",
       " ['독립문 영천시장', '서울 서대문구 영천동 341-10', '서울', '영천시장'],\n",
       " ['홈플러스 송탄점', '경기 평택시 장당동 390-1', '경기', '홈플러스송탄점'],\n",
       " ['이쁜물곰과일&후레쉬마켓', '경기 용인시 기흥구 신갈동 38-6', '경기', '이쁜물곰과일&후레쉬륫'],\n",
       " ['홈플러스 메가푸드마켓 2.0 김포점', '경기 김포시 감정동 692', '경기', '홈플러스(주)_홈플러스김포점'],\n",
       " ['메가할인마트', '경기 광주시 경안동 126', '경기', '메가할인마트'],\n",
       " ['AK플라자 수원', '경기 수원시 팔달구 매산로1가 18', '경기', 'AK플라자'],\n",
       " ['슈퍼킹익스프레스', '대구 달서구 용산동 997', '대구', '슈퍼킹'],\n",
       " ['대성유통과일', '경기 광주시 장지동 692-61', '경기', '대성유통과일'],\n",
       " ['맘마마트 풍동식사점', '경기 고양시 일산동구 식사동 1066', '경기', '맘마농가식자재마트'],\n",
       " ['홈플러스 고양터미널점', '경기 고양시 일산동구 백석동 1242', '경기', '홈플러스홈플러스고양터미널점'],\n",
       " ['대박과일야채 중앙시장점', '서울 관악구 신림동 541', '서울', '신림야채'],\n",
       " ['드림홈마트 신천점', '경기 시흥시 신천동 860-16', '경기', '드림홈마트(신천점)'],\n",
       " ['나예착한과일', '경기 평택시 비전동 990-1', '경기', '과일전문점'],\n",
       " ['GS SHOP', '서울 강남구 역삼동 679', '서울', 'GS숍'],\n",
       " ['공원과일가게', '서울 마포구 대흥동 241-6', '서울', '공원과일'],\n",
       " ['엘마트 의정부점', '경기 의정부시 의정부동 157-7', '경기', '주식회사케이엘마트의정부지점'],\n",
       " ['일산시장', '경기 고양시 일산서구 일산동 617-22', '경기', '일산장'],\n",
       " ['청과상회', '경기 광명시 철산동 440', '경기', '청과상회'],\n",
       " ['롯데백화점 분당점', '경기 성남시 분당구 수내동 14', '경기', '롯데쇼핑(주)롯데마트판교점'],\n",
       " ['공덕할인마트', '서울 마포구 신공덕동 13-11', '서울', '공덕할인마트'],\n",
       " ['해돋이청과', '서울 동작구 사당동 92-2', '서울', '해돋이청과'],\n",
       " ['만리시장', '서울 용산구 서계동 260-1', '서울', '만리시장'],\n",
       " ['꿈을주는과일재단', '서울 강남구 율현동 71-1', '서울', '꿈의과일'],\n",
       " ['청년시장', '경기 화성시 진안동 914-7', '경기', '청년시장'],\n",
       " ['고흥백향과농장', '전남 고흥군 도덕면 신양리 585', '전남', '백향과'],\n",
       " ['태안농협 로컬푸드직매장', '경기 화성시 기안동 457-22', '경기', '태안농협로컬푸드직매장'],\n",
       " ['철원예원블루베리', '강원특별자치도 철원군 갈말읍 문혜리 1018-2', '강원', '철원예원블루베리'],\n",
       " ['현대마트', '서울 성동구 성수동1가 102-2', '서울', '현대마트'],\n",
       " ['부부과일', '충남 천안시 동남구 원성동 493-1', '충남', '부부과일'],\n",
       " ['이플러스주유소', '경기 포천시 신읍동 67-5', '경기', '주식회사이플러스'],\n",
       " ['맛없고아주싼국시집', '경북 경산시 압량읍 부적리 415-4', '경북', '아주싼집'],\n",
       " ['코스트코 광명점', '경기 광명시 일직동 163-3', '경기', '코스트코(주)코스트코코리아광명점'],\n",
       " ['가평군농협하나로마트 본점', '경기 가평군 가평읍 읍내리 473-7', '경기', '가평군농협하나로마트'],\n",
       " ['주식회사푸르네마트 갈현동지점', '서울 은평구 갈현동 469-1', '서울', '주식회사푸르네마트갈현동지점'],\n",
       " ['안중농협하나로마트 본점', '경기 평택시 안중읍 송담리 857-2', '경기', '안중농협하나로마트본점'],\n",
       " ['이마트 의왕점', '경기 의왕시 오전동 892', '경기', '이마트의왕점'],\n",
       " ['이마트 평택점', '경기 평택시 지제동 50', '경기', '이마트평택점'],\n",
       " ['강남홈식자재마트', '서울 강남구 논현동 158', '서울', '강남마트'],\n",
       " ['뉴코아아울렛 강남점', '서울 서초구 잠원동 70-2', '서울', '뉴코아아울렛_뉴코아강남점'],\n",
       " ['일등킹식자재마트', '인천 중구 중산동 865', '인천', '(주)일등킹식자재마트'],\n",
       " ['돈암제일시장', '서울 성북구 동소문동5가 118-1', '서울', '돈암시장'],\n",
       " ['성원식자재마트 용인점', '경기 용인시 수지구 동천동 969', '경기', '(주)성원식자재마트'],\n",
       " ['프리마트', '인천 남동구 간석동 395-2', '인천', '프리마트'],\n",
       " ['노브랜드 시흥정왕점', '경기 시흥시 정왕동 1882-1', '경기', '노브랜드시흥정왕점'],\n",
       " ['코스트코 일산점', '경기 고양시 일산동구 백석동 1312', '경기', '코스트코(주)코스트코코리아일산점'],\n",
       " ['야채가게', '서울 종로구 창신동 559', '서울', '종로야채과일가게'],\n",
       " ['이마트 일산점', '경기 고양시 일산동구 백석동 1194', '경기', '이마트이마트일산점'],\n",
       " ['동서울농협하나로마트 신내점', '서울 중랑구 신내동 562', '서울', '하나로마트신내점'],\n",
       " ['인화수산', '울산 남구 삼산동 904-10', '울산', '삼산농산물센타'],\n",
       " ['조은청과유통', '서울 강서구 외발산동 427', '서울', '송화시장조은청과'],\n",
       " ['SK할인마트', '서울 강북구 미아동 1353-5', '서울', 'SK할인마트'],\n",
       " ['롯데마트 화정점', '경기 고양시 덕양구 화정동 982', '경기', '롯데쇼핑(주)롯데마트화정점'],\n",
       " ['NS홈쇼핑', '경기 성남시 분당구 삼평동 625', '경기', '농수산홈쇼핑'],\n",
       " ['킹마트', '경기 양주시 삼숭동 338-13', '경기', '킹마트'],\n",
       " ['노브랜드 고양행신점', '경기 고양시 덕양구 행신동 765', '경기', '노브랜드노브랜드고양행신점'],\n",
       " ['홈플러스 메가푸드마켓 유성점', '대전 유성구 봉명동 669', '대전', '홈플러스유성점'],\n",
       " ['GS SHOP', '서울 강남구 역삼동 679', '서울', 'GS샵'],\n",
       " ['케이쇼핑', '서울 동작구 신대방동 395-62', '서울', 'K홈쇼핑'],\n",
       " ['영등포중앙시장', '서울 영등포구 영등포동5가 48-19', '서울', '영등포시장'],\n",
       " ['짱구과일', '서울 구로구 고척동 257-13', '서울', '짱구과일'],\n",
       " ['파파주스 본점', '경기 성남시 중원구 은행동 663-1', '경기', '파파주스'],\n",
       " ['근이네 야채', '서울 강북구 미아동 301-62', '서울', '근이네야채'],\n",
       " ['농민식자재마트 동백점', '경기 용인시 기흥구 중동 608-4', '경기', '농민식자재마트(용인점)'],\n",
       " ['미향복숭아농원', '충북 옥천군 이원면 지탄리 763', '충북', '영동복숭아'],\n",
       " ['이전유통', '경기 고양시 덕양구 행신동 915', '경기', '이전유통'],\n",
       " ['이마트 성남점', '경기 성남시 수정구 태평동 7336', '경기', '이마트성남점'],\n",
       " ['문수산', '경기 김포시 월곶면 조강리 산 33-1', '경기', '김포'],\n",
       " ['대인농산216', '인천 남동구 구월동 1446', '인천', '대인농산216'],\n",
       " ['과일창고', '경기 남양주시 화도읍 창현리 1-4', '경기', '과일창고'],\n",
       " ['장수청과', '충북 충주시 목행동 608-19', '충북', '장수청과'],\n",
       " ['신탄진농협하나로마트 본점', '대전 대덕구 덕암동 60-6', '대전', '대덕농협하나로마트본점'],\n",
       " ['세계로할인마트 연수점', '인천 연수구 연수동 633', '인천', '세계로할인마트'],\n",
       " ['하나로마트 수원금곡점', '경기 수원시 권선구 금곡동 530', '경기', '하나로마트수원금곡점'],\n",
       " ['지마켓', '서울 강남구 역삼동 737', '서울', 'G마켓'],\n",
       " ['위메프', '서울 강남구 삼성동 168-6', '서울', '위메프'],\n",
       " ['자유로마트 덕이점', '경기 고양시 일산서구 덕이동 373-16', '경기', '자유로마트'],\n",
       " ['청양농협하나로마트 대치점', '충남 청양군 대치면 주정리 506-5', '충남', '농협하나로마트대치점'],\n",
       " ['북항합동노점상회센타', '전남 목포시 죽교동 620-174', '전남', '노점상'],\n",
       " ['2284. CJ오쇼핑앞', '서울 서초구 방배동 2782-2', '서울', 'CJ홈쇼핑'],\n",
       " ['A마트', '강원특별자치도 원주시 문막읍 문막리 547-1', '강원', 'A마트'],\n",
       " ['넘버원과일', '대구 서구 비산동 506-9', '대구', '넘버원과일가게'],\n",
       " ['홈플러스 부천상동점', '경기 부천시 원미구 상동 540-1', '경기', '홈플러스부천상동점'],\n",
       " ['삼부개발', '경북 칠곡군 북삼읍 보손리 823-24', '경북', '삼부개발'],\n",
       " ['세이브존 성남점', '경기 성남시 수정구 신흥동 2463-5', '경기', '세이브존'],\n",
       " ['노브랜드 성남여수점', '경기 성남시 중원구 여수동 617', '경기', '노브랜드노브랜드성남여수점'],\n",
       " ['그랜드백화점 일산점', '경기 고양시 일산서구 주엽동 22', '경기', '그랜드백화점'],\n",
       " ['올가홀푸드', '서울 송파구 가락동 99-5', '서울', '올가홀푸드'],\n",
       " ['오빠네과일가게 오빠네야채가게', '경기 부천시 원미구 원미동 126-11', '경기', '과일가게_야채가게'],\n",
       " ['현대백화점 중동점', '경기 부천시 원미구 중동 1164', '경기', '현대백화점중동점'],\n",
       " ['파리바게뜨 제주공항점', '제주특별자치도 제주시 용담이동 2002', '제주', '파리바게트'],\n",
       " ['홈플러스 서울상봉점', '서울 중랑구 상봉동 500', '서울', '홈플러스상봉점'],\n",
       " ['오색시장', '경기 오산시 오산동 862', '경기', '동탄전통시장'],\n",
       " ['데레사과일', '서울 강동구 명일동 270', '서울', '명일과일'],\n",
       " ['GS25 진접중앙점', '경기 남양주시 진접읍 금곡리 1081-1', '경기', 'GS25진접중앙점'],\n",
       " ['홈플러스익스프레스 상계장암점', '서울 노원구 상계동 1195-1', '서울', '홈플러스익스프레스상계장암점'],\n",
       " ['신세계 사우스시티', '경기 용인시 수지구 죽전동 1285', '경기', '신세계'],\n",
       " ['롯데마트 시화점', '경기 시흥시 정왕동 1366-4', '경기', '롯데마트_롯데쇼핑(주)롯데마트시화점'],\n",
       " ['싱싱과일나라', '경기 용인시 처인구 김량장동 133-198', '경기', '싱싱나라과일'],\n",
       " ['국민마트 수유점', '서울 강북구 수유동 332-34', '서울', '국민마트'],\n",
       " ['KB국민은행 이마트트레이더스군포점 ATM', '경기 군포시 부곡동 1227-1', '경기', '이마트트레이더스이마트트레이더스군포점'],\n",
       " ['이마트 서수원점', '경기 수원시 권선구 구운동 925', '경기', '이마트이마트서수원점'],\n",
       " ['푸른농산', '경남 거창군 가조면 석강리 1404', '경남', '푸른농산'],\n",
       " ['오아시스마켓 수원매탄점', '경기 수원시 영통구 매탄동 1156-4', '경기', '우리생협오아시스수원매탄점'],\n",
       " ['에브리데이진로식자재마트 거북섬점', '경기 시흥시 정왕동 2709', '경기', '에브리데이진로'],\n",
       " ['대박과일', '경기 수원시 장안구 조원동 883', '경기', '대박과일'],\n",
       " ['현아네양철구이', '부산 북구 화명동 2286-3', '부산', '현아네'],\n",
       " ['홈플러스 메가푸드마켓 금천점', '서울 금천구 독산동 291-7', '서울', '홈플러스금천점'],\n",
       " ['총각네 광교점', '경기 수원시 영통구 이의동 1353', '경기', '총각네'],\n",
       " ['CU 홍대상상점', '서울 마포구 서교동 395-91', '서울', 'CU'],\n",
       " ['케이옥션', '서울 강남구 신사동 640-6', '서울', '옥션'],\n",
       " ['막퍼주는반찬가게', '부산 해운대구 송정동 310-8', '부산', '막퍼주는가게'],\n",
       " ['하나마트 양지점', '경기 남양주시 오남읍 양지리 470-11', '경기', '하나마트양지점'],\n",
       " ['용가리마트 수원점', '경기 수원시 권선구 서둔동 243-6', '경기', '용가리마트수원점'],\n",
       " ['롯데마트 평택점', '경기 평택시 합정동 968-1', '경기', '롯데쇼핑(주)롯데마트평택점'],\n",
       " ['홈플러스익스프레스 면목점', '서울 중랑구 면목동 499-4', '서울', '홈플러스익스프레스홈플러스익스프레스면목점'],\n",
       " ['에스할인마트', '경기 수원시 권선구 구운동 462', '경기', '(주)에스할인마트(구운점)'],\n",
       " ['농수산물유통센타', '경기 안양시 동안구 관양동 1379', '경기', '안양농수산물센터'],\n",
       " ['동광상회', '서울 강서구 등촌동 849', '서울', '동광상회'],\n",
       " ['필내음', '제주특별자치도 제주시 아라이동 1161-2', '제주', '필내음'],\n",
       " ['이마트 광교점', '경기 수원시 영통구 이의동 1240', '경기', '이마트이마트광교점'],\n",
       " ['인화수산', '울산 남구 삼산동 904-10', '울산', '삼산농수산물센타'],\n",
       " ['왕창의류상회', '강원특별자치도 원주시 중앙동 50', '강원', '왕창상회'],\n",
       " ['고리울동굴시장', '경기 부천시 오정구 고강동 407', '경기', '고리울시장'],\n",
       " ['코스트코 양평점', '서울 영등포구 양평동3가 65', '서울', '코스트코양평점'],\n",
       " ['롯데마트 상당점', '충북 청주시 상당구 용암동 2634', '충북', 'GS쇼핑'],\n",
       " ['롯데마트 천천점', '경기 수원시 장안구 천천동 525', '경기', '천천점롯데마트_롯데쇼핑(주)롯데마트천천점'],\n",
       " ['덕풍전통시장', '경기 하남시 덕풍동 326-9', '경기', '덕풍5일장'],\n",
       " ['오빠네야채가게', '인천 미추홀구 주안동 939-38', '인천', '석바위시장오빠네야채'],\n",
       " ['안양관양시장', '경기 안양시 동안구 관양동 1407-8', '경기', '관양시장'],\n",
       " ['CU 궐동성운점', '경기 오산시 궐동 677-2', '경기', 'CU궐동성운점'],\n",
       " ['전곡농협 로컬푸드직매장', '경기 연천군 전곡읍 전곡리 276', '경기', '전곡농협하나로마트로컬푸드직매장'],\n",
       " ['동서로마트', '전북특별자치도 전주시 덕진구 호성동1가 732-1', '전북', '동서로마트'],\n",
       " ['작전시장야채과일', '인천 계양구 작전동 856-119', '인천', '원미시장과일'],\n",
       " ['희망청과', '서울 마포구 망원동 412-54', '서울', '희망청과'],\n",
       " ['홈플러스 평택안중점', '경기 평택시 안중읍 현화리 637-19', '경기', '홈플러스평택안중점'],\n",
       " ['무화과식당', '경기 부천시 원미구 중동 1065-3', '경기', '무화과'],\n",
       " ['흑염소농장', '전남 순천시 해룡면 대안리 101', '전남', '순천농장'],\n",
       " ['이마트 김포한강점', '경기 김포시 구래동 6880-9', '경기', 'EMART이마트김포한강점'],\n",
       " ['상동할인마트', '전남 목포시 상동 743-1', '전남', '상동할인마트'],\n",
       " ['서림농원', '제주특별자치도 서귀포시 상예동 1719-5', '제주', '서림농원'],\n",
       " ['엘마트 양주본점', '경기 양주시 삼숭동 452-2', '경기', '양주엘마트'],\n",
       " ['이마트 용인점', '경기 용인시 처인구 역북동 586-6', '경기', '이마트이마트용인점'],\n",
       " ['노마진마트', '인천 서구 가좌동 359-6', '인천', '노마진마트'],\n",
       " ['떳다우리농산물', '경기 용인시 수지구 신봉동 83-5', '경기', '수지농산물'],\n",
       " ['남문과일야채', '전북특별자치도 전주시 완산구 전동 302-23', '전북', '남문야채'],\n",
       " ['올스타마트 위례점', '경기 성남시 수정구 창곡동 559', '경기', '올스타마트위례점'],\n",
       " ['달성농수산물유통센타', '대구 달성군 유가읍 봉리 620', '대구', '농수산물센타'],\n",
       " ['이마트 파주운정점', '경기 파주시 동패동 1763', '경기', '이마트파주운정'],\n",
       " ['소흘농협하나로마트', '경기 포천시 소흘읍 송우리 157', '경기', '농협하나로마트소흘농협하나로마트'],\n",
       " ['풍년과일', '부산 금정구 서동 495-17', '부산', '풍년과일'],\n",
       " ['동백과일트럭', '경기 용인시 기흥구 동백동 632-5', '경기', '과일트럭'],\n",
       " ['봉화군로컬푸드직매장', '경북 봉화군 봉성면 금봉리 916', '경북', '봉화군로컬푸드직매장'],\n",
       " ['과일상자', '경북 안동시 태화동 55-30', '경북', '과일상자'],\n",
       " ['이쁜물곰과일&후레쉬마켓', '경기 용인시 기흥구 신갈동 38-6', '경기', '이쁜물곰과일&후레쉬'],\n",
       " ['착한건강농산', '대전 서구 복수동 964', '대전', '착한농산'],\n",
       " ['롯데프레시&델리 중계역점', '서울 노원구 중계동 515-2', '서울', '롯데쇼핑(주)롯데마트중계점'],\n",
       " ['와싸다싱싱과일채소', '대구 수성구 지산동 1205', '대구', '싱싱과일채소'],\n",
       " ['불광시장', '서울 은평구 대조동 14-62', '서울', '불광시장'],\n",
       " ['초당마트 주차장', '경기 안산시 상록구 사동 1423-5', '경기', '초당마트(주)'],\n",
       " ['AK마트', '인천 미추홀구 주안동 79-9', '인천', '에이케이마트'],\n",
       " ['당동야채', '경기 군포시 당동 903', '경기', '당동야채'],\n",
       " ['아이스크림 사랑', '경기 성남시 분당구 삼평동 728', '경기', '아이스크림사랑'],\n",
       " ['새마을청과', '인천 미추홀구 주안동 918-14', '인천', '새마을청과'],\n",
       " ['인천석바위시장', '인천 미추홀구 주안동 922-7', '인천', '석바위시장'],\n",
       " ['농수산시장사거리', '경기 수원시 권선구 권선동', '경기', '권선농수산'],\n",
       " ['싱싱청과', '서울 동작구 사당동 128-7', '서울', '남성사계시장싱싱청과'],\n",
       " ['롯데마트 의왕점', '경기 의왕시 내손동 743', '경기', '롯데마트의왕'],\n",
       " ['남대문시장', '서울 중구 남창동 49-1', '서울', '남대문시장'],\n",
       " ['화순농협하나로마트', '전남 화순군 화순읍 삼천리 613', '전남', '화순농협하나로마트'],\n",
       " ['가락공판장 광명점', '경기 광명시 철산동 240-1', '경기', '가락공판장광명점'],\n",
       " ['자연농원 항동럭키점', '서울 구로구 항동 242-5', '서울', '자연농원구로'],\n",
       " ['곡산마트', '서울 강동구 명일동 257', '서울', '곡산마트'],\n",
       " ['이마트 중동점', '경기 부천시 원미구 중동 1157', '경기', '이마트중동점'],\n",
       " ['롯데프레시&델리 분당이매점', '경기 성남시 분당구 이매동 120-4', '경기', '롯데슈퍼분당이매점'],\n",
       " ['엘마트 시흥점', '경기 시흥시 은행동 105-14', '경기', '엘마트소래산점'],\n",
       " ['구월농수산물도매시장 정문', '인천 남동구 구월동 849-10', '인천', '구월농산물시장'],\n",
       " ['엄궁농산물도매시장', '부산 사상구 엄궁동 649', '부산', '농수산물도매시장'],\n",
       " ['홈플러스익스프레스 세곡점', '서울 강남구 세곡동 511', '서울', '홈플러스익스프레스서울세곡점'],\n",
       " ['뉴코아팩토리아울렛 광명점', '경기 광명시 하안동 38', '경기', '뉴코아광명점'],\n",
       " ['롯데마트 삼산점', '인천 부평구 삼산동 465-1', '인천', '롯데쇼핑(주)롯데마트삼산점'],\n",
       " ['현대백화점 디큐브시티점', '서울 구로구 신도림동 692', '서울', '현대백화점신도림'],\n",
       " ['노브랜드 광명소하점', '경기 광명시 소하동 1279', '경기', '노브랜드광명소하점'],\n",
       " ['강서농협하나로마트 마곡점 민영 주차장', '서울 강서구 마곡동 361-1', '서울', '강서농협하나로마트강서농협하나로마트마곡점'],\n",
       " ['한국야쿠르트 신갈물류소', '경기 용인시 기흥구 신갈동 324-1', '경기', '한국야쿠르트'],\n",
       " ['안양농협하나로마트', '경기 안양시 동안구 관양동 1588-9', '경기', '안양농협하나로마트'],\n",
       " ['두현상회', '경기 안성시 죽산면 두현리 358-5', '경기', '두현상회'],\n",
       " ['남부골목시장', '서울 강서구 화곡동 830-1', '서울', '화곡남부시장'],\n",
       " ['우리동네과일야채', '서울 광진구 중곡동 341-29', '서울', '동네야채'],\n",
       " ['연서시장', '서울 은평구 불광동 310-11', '서울', '연서시장'],\n",
       " ['중앙상회', '서울 광진구 중곡동 72-16', '서울', '중앙상회'],\n",
       " ['웰빙마당', '서울 구로구 개봉동 492', '서울', '웰빙마당'],\n",
       " ['개봉농산물', '서울 구로구 개봉동 403-107', '서울', '개봉농산물'],\n",
       " ['코스트코 일산점', '경기 고양시 일산동구 백석동 1312', '경기', 'COSTCO(주)코스트코코리아일산점'],\n",
       " ['세계로마트 양곡점', '경기 김포시 양촌읍 양곡리 1306-3', '경기', '(주)세계로더블유스토어양곡점'],\n",
       " ['홈플러스 분당오리점', '경기 성남시 분당구 구미동 161', '경기', '홈플러스분당오리점'],\n",
       " ['오케이농산', '서울 송파구 거여동 565-4', '서울', '오케이농산'],\n",
       " ['상철상회', '전남 목포시 광동1가 4-6', '전남', '상철상회'],\n",
       " ['OK식자재마트', '전북특별자치도 진안군 진안읍 군하리 309-4', '전북', '(주)오케이식자재마트'],\n",
       " ['코스트코 송도점', '인천 연수구 송도동 98', '인천', '코스트코송도점(주)코스트코코리아송도점'],\n",
       " ['GS더프레시 안양석수점', '경기 안양시 만안구 석수동 425-28', '경기', 'GS슈퍼마켓안양석수점'],\n",
       " ['푸른할인마트', '서울 종로구 통인동 35-16', '서울', '푸른할인마트'],\n",
       " ['멋쟁이총각네', '인천 서구 석남동 540-15', '인천', '멋쟁이총각네'],\n",
       " ['뉴코아팩토리아울렛 광명점', '경기 광명시 하안동 38', '경기', '뉴코아아울렛광명점'],\n",
       " ['이마트 동백점', '경기 용인시 기흥구 중동 833', '경기', '이마트이마트동백점'],\n",
       " ['KB국민은행 이마트트레이더스수원점 ATM', '경기 수원시 영통구 신동 941', '경기', '트레이더스이마트트레이더스수원점'],\n",
       " ['모현농협하나로마트 능원점', '경기 용인시 처인구 모현읍 능원리 14', '경기', '모현농협하나로마트능원점'],\n",
       " ['하이웨이클럽 오목천점', '경기 수원시 권선구 오목천동 293-4', '경기', '하이웨이클럽오목천점'],\n",
       " ['코스트코 공세점', '경기 용인시 기흥구 공세동 734-1', '경기', '코스트코공세점'],\n",
       " ['홈플러스 화성향남점', '경기 화성시 향남읍 행정리 487-1', '경기', '홈플러스홈플러스화성향남점'],\n",
       " ['코사할인마트', '서울 구로구 구로동 705-16', '서울', '코사할인마트'],\n",
       " ['노브랜드 수원호매실점', '경기 수원시 권선구 금곡동 1082-1', '경기', '노브랜드노브랜드수원호매실점'],\n",
       " ['농민식자재마트', '경기 화성시 반월동 66-2', '경기', '농민식자재마트'],\n",
       " ['하나로마트 고양점', '경기 고양시 일산서구 대화동 2324', '경기', '농협하나로마트고양점_농협하나로마트고양점'],\n",
       " ['GS더프레시 용인점', '경기 용인시 처인구 김량장동 254-1', '경기', 'GSTHEFRESH용인점'],\n",
       " ['파주농협하나로마트', '경기 파주시 파주읍 파주리 484-18', '경기', '파주농협하나로마트'],\n",
       " ['노브랜드 화성향남점', '경기 화성시 향남읍 하길리 1466', '경기', '노브랜드노브랜드화성향남점'],\n",
       " ['신세계백화점 경기점 주차장', '경기 용인시 수지구 죽전동 1285', '경기', '(주)신세계경기점'],\n",
       " ['서림마트', '경기 화성시 기안동 333-1', '경기', '주식회사서림마트'],\n",
       " ['빕스 수원역사점', '경기 수원시 팔달구 매산로1가 18', '경기', '수원애경역사(주)수원점'],\n",
       " ['이마트에브리데이 분당정자점', '경기 성남시 분당구 정자동 8-2', '경기', '이마트에브리데이분당정자점'],\n",
       " ['마트킹 구성점', '경기 용인시 기흥구 마북동 553', '경기', '(주)마트킹구성점'],\n",
       " ['KB국민은행 이마트트레이더스수원점 ATM', '경기 수원시 영통구 신동 941', '경기', '이마트트레이더스이마트트레이더스수원점'],\n",
       " ['이글루아이스', '경북 안동시 송현동 517-1', '경북', '이글루아이스'],\n",
       " ['하모니마트 여수성남시청점', '경기 성남시 중원구 여수동 194', '경기', '하모니마트하모니마트(성남시청)'],\n",
       " ['프로포즈365과일야채', '서울 양천구 목동 506-1', '서울', '프로포즈야채과일'],\n",
       " ['노브랜드 스타필드 안성점', '경기 안성시 공도읍 진사리 354', '경기', '노브랜드스타필드안성점'],\n",
       " ['태안농협 본점', '경기 화성시 능동 445-1', '경기', '농협태안농협하나로마트능동점'],\n",
       " ['매송마트', '경기 화성시 매송면 원평리 62', '경기', '매송마트'],\n",
       " ['코스트코 광명점', '경기 광명시 일직동 163-3', '경기', '코스트코광명점(주)코스트코코리아광명점'],\n",
       " ['과일의전당', '경기 시흥시 은행동 644', '경기', '과일의전당'],\n",
       " ['농민마트 남동탄점', '경기 화성시 산척동 709', '경기', '농민마트남동탄점'],\n",
       " ['이동농협하나로마트', '경기 용인시 처인구 이동읍 천리 231-5', '경기', '하나로마트이동농협하나로마트'],\n",
       " ['엠케이유통 홈마트', '경기 광주시 곤지암읍 삼리 103-2', '경기', '(주)하모니식자재마트'],\n",
       " ['이마트 동백점', '경기 용인시 기흥구 중동 833', '경기', '이마트동백점'],\n",
       " ['쿨마트', '경기 하남시 망월동 1014', '경기', '쿨마트'],\n",
       " ['롯데프레시&델리 안산점', '경기 안산시 단원구 고잔동 671-2', '경기', '롯데슈퍼안산점'],\n",
       " ['홈플러스익스프레스 분당서현점', '경기 성남시 분당구 서현동 306-1', '경기', '홈플러스홈플러스익스프레스서현점'],\n",
       " ['다다플러스', '경기 오산시 부산동 163-1', '경기', '(주)다다플러스'],\n",
       " ['GS더프레시 동탄아이비파크점', '경기 화성시 오산동 973', '경기', 'GS수퍼마켓동탄아이비파크점'],\n",
       " ['가락공판장 해나온식자재마트 동탄점', '경기 화성시 장지동 806-3', '경기', '가락공판장(해나온)'],\n",
       " ['롯데백화점 분당점', '경기 성남시 분당구 수내동 14', '경기', '롯데쇼핑(주)잠실점'],\n",
       " ['알찬마트', '경기 안양시 동안구 관양동 1406-17', '경기', '관양시장알찬농산'],\n",
       " ['이레식자재마트', '인천 중구 도원동 26-34', '인천', '이레식자재마트'],\n",
       " ['이마트에브리데이 안양관양점', '경기 안양시 동안구 관양동 1677', '경기', '(주)이마트에브리데이안양관양점'],\n",
       " ['대박집 호계점', '경기 안양시 동안구 호계동 996-9', '경기', '대박집호계점'],\n",
       " ['대박난반찬가게', '서울 서대문구 남가좌동 206', '서울', '대박가게'],\n",
       " ['홈플러스 메가푸드마켓 시화점', '경기 시흥시 정왕동 2166-4', '경기', '홈마켓'],\n",
       " ['제이엘마켓탑', '서울 성북구 하월곡동 227', '서울', '제이엘마켓탑'],\n",
       " ['롯데마트 의왕점', '경기 의왕시 내손동 743', '경기', '롯데마트롯데쇼핑(주)롯데마트의왕점'],\n",
       " ['탑텐 리치마트양주점', '경기 양주시 덕계동 694-6', '경기', '리치마트리치마트양주점'],\n",
       " ['이마트에브리데이 장현점', '경기 시흥시 장현동 543-1', '경기', '(주)이마트에브리데이장현점'],\n",
       " ['홈플러스 메가푸드마켓 북수원점', '경기 수원시 장안구 조원동 896', '경기', '홈플러스홈플러스북수원점'],\n",
       " ['CU 평택라페온점', '경기 평택시 평택동 66-4', '경기', 'CU평택라페온점'],\n",
       " ['뉴코아아울렛 동수원점', '경기 수원시 팔달구 인계동 1114-1', '경기', '뉴코아아울렛_뉴코아동수원점'],\n",
       " ['GS더프레시 수원매탄점', '경기 수원시 영통구 매탄동 1352', '경기', 'GS슈퍼마켓수원매탄점'],\n",
       " ['오롯 송산그린시티점', '경기 화성시 새솔동 18', '경기', '오롯오롯송산그린시티점'],\n",
       " ['노브랜드 대전죽동점', '대전 유성구 죽동 709-4', '대전', '노브랜드대전죽동점'],\n",
       " ['오산식자재마트', '경기 오산시 오산동 268', '경기', '주식회사오산식자재마트'],\n",
       " ['초록마을 광교웰빙타운점', '경기 수원시 영통구 이의동 1204-8', '경기', '초록마을광교웰빙타운점'],\n",
       " ['장터할인마트 문흥점', '광주 북구 문흥동 1001-2', '광주', '장터마트'],\n",
       " ['양서농협하나로마트 서종점', '경기 양평군 서종면 문호리 779-1', '경기', '양서농협하나로마트서종점'],\n",
       " ['트레이더스 홀세일 클럽 구성점', '경기 용인시 기흥구 보정동 1019-488', '경기', '이마트트레이더스이마트트레이더스구성점'],\n",
       " ['마트킹 안녕점', '경기 화성시 안녕동 10-86', '경기', '마트킹(주)마트킹안녕'],\n",
       " ['한샘할인마트 청북점 주차장', '경기 평택시 청북읍 옥길리 1157-2', '경기', '한샘할인마트청북점'],\n",
       " ['노브랜드 용인삼가점', '경기 용인시 처인구 삼가동 250-49', '경기', '노브랜드노브랜드용인삼가점'],\n",
       " ['야채과일싸게파는집', '서울 송파구 풍납동 476-15', '서울', '야채과일싸게파는집'],\n",
       " ['홈플러스익스프레스 매탄점', '경기 수원시 영통구 매탄동 1352', '경기', '홈플러스익스프레스매탄점'],\n",
       " ['와마트 화성점', '경기 화성시 남양읍 남양리 2256', '경기', '와마트와마트(화성점)'],\n",
       " ['아이스모아', '서울 마포구 동교동 201-52', '서울', '아이스모아'],\n",
       " ['하모니마트 병점점', '경기 화성시 병점동 317-3', '경기', '(주)하모니마트(병점)'],\n",
       " ['이마트 여주점', '경기 여주시 홍문동 401', '경기', '이마트이마트여주점'],\n",
       " ['케이마트', '세종특별자치시 소담동 597', '세종', '(주)케이마트'],\n",
       " ['이마트에브리데이 성대점', '경기 수원시 장안구 율전동 409-1', '경기', '(주)이마트에브리데이성대점'],\n",
       " ['에프엠농산', '경기 하남시 춘궁동 348-3', '경기', '에프엠농산'],\n",
       " ['쿨마트 감일점', '경기 하남시 감이동 81-2', '경기', '쿨마트감일'],\n",
       " ['화성태안농협하나로마트 안녕점', '경기 화성시 송산동 99-2', '경기', '태안농협하나로마트태안농협하나로마트안녕점'],\n",
       " ['이마트 안산고잔점', '경기 안산시 단원구 초지동 742-6', '경기', '이마트이마트안산고잔점'],\n",
       " ['마트킹 안녕점', '경기 화성시 안녕동 10-86', '경기', '(주)마트킹(주)마트킹안녕'],\n",
       " ['이마트에브리데이 신읍동점', '경기 포천시 신읍동 114-8', '경기', '(주)이마트에브리데이신읍동점'],\n",
       " ['GS25 운암타운점', '경기 오산시 부산동 778-8', '경기', 'GS25운암타운점'],\n",
       " ['홈플러스익스프레스 중동점', '경기 부천시 원미구 중동 1110', '경기', '홈플러스익스프레스중동점'],\n",
       " ['메트로티엔씨', '서울 송파구 문정동 644-2', '서울', '메트로수서점'],\n",
       " ['노브랜드 강남역삼점', '서울 강남구 역삼동 832-6', '서울', '노브랜드강남역삼점'],\n",
       " ...]"
      ]
     },
     "execution_count": 87,
     "metadata": {},
     "output_type": "execute_result"
    }
   ],
   "source": [
    "import time\n",
    "from tqdm import tqdm\n",
    "\n",
    "place_inform=[]\n",
    "for location in tqdm(locations):\n",
    "    try :\n",
    "        data_name=locations\n",
    "        data=ind_places(location)\n",
    "        place_inform.append(data)\n",
    "        time.sleep(0.5)\n",
    "    except:\n",
    "        pass\n",
    "place_inform"
   ]
  },
  {
   "cell_type": "code",
   "execution_count": 88,
   "id": "77bb9b1d",
   "metadata": {},
   "outputs": [],
   "source": [
    "import pandas as pd\n",
    "place_inform_df=pd.DataFrame(place_inform)\n",
    "place_inform_df.columns=['location_name','address','region','store']\n",
    "place_inform_df.to_excel('C:/Users/kuy20/Desktop/실습/sql/fruits_location.xlsx')"
   ]
  },
  {
   "cell_type": "markdown",
   "id": "02a72e40",
   "metadata": {},
   "source": [
    "### @ 여기까지 엑셀로 저장하기"
   ]
  },
  {
   "cell_type": "code",
   "execution_count": 65,
   "id": "73a8aa3a",
   "metadata": {},
   "outputs": [],
   "source": [
    "df.to_excel('C:/Users/kuy20/Desktop/실습/sql/fruits_after.xlsx')"
   ]
  },
  {
   "cell_type": "code",
   "execution_count": 7,
   "id": "ec769165",
   "metadata": {},
   "outputs": [],
   "source": [
    "import pandas as pd\n",
    "df=pd.read_excel('C:/Users/kuy20/Desktop/실습/sql/fruits_after.xlsx')"
   ]
  },
  {
   "cell_type": "markdown",
   "id": "27215793",
   "metadata": {},
   "source": [
    "## (3) 변수 분석"
   ]
  },
  {
   "cell_type": "code",
   "execution_count": 3,
   "id": "813305ed",
   "metadata": {},
   "outputs": [],
   "source": [
    "import matplotlib.pyplot as plt\n",
    "import seaborn as sns\n",
    "from matplotlib import font_manager, rc\n",
    "import platform\n",
    "\n",
    "if platform.system()=='Windows':\n",
    "    path='c:/Windows/Fonts/malgun.ttf'\n",
    "    font_name=font_manager.FontProperties(fname=path).get_name()\n",
    "    rc('font',family=font_name)\n",
    "elif platform.system()=='Darwin':\n",
    "    rc('font',family='AppleGothic')\n",
    "else:\n",
    "    print('Check your OS system')"
   ]
  },
  {
   "cell_type": "markdown",
   "id": "2473a534",
   "metadata": {},
   "source": [
    "### @ Year(연도) "
   ]
  },
  {
   "cell_type": "markdown",
   "id": "1efb11cf",
   "metadata": {},
   "source": [
    "#### 결측값&이상값 없음"
   ]
  },
  {
   "cell_type": "code",
   "execution_count": 67,
   "id": "41312485",
   "metadata": {},
   "outputs": [
    {
     "data": {
      "text/plain": [
       "2022    47602\n",
       "2023    46727\n",
       "2015    43023\n",
       "2016    42110\n",
       "2010    41974\n",
       "2017    40275\n",
       "2011    38508\n",
       "2012    36797\n",
       "2014    36107\n",
       "2018    35216\n",
       "2013    34095\n",
       "2019    31080\n",
       "2020    29166\n",
       "2021    25942\n",
       "Name: year, dtype: int64"
      ]
     },
     "execution_count": 67,
     "metadata": {},
     "output_type": "execute_result"
    }
   ],
   "source": [
    "# 항목별 개수\n",
    "df['year'].value_counts()"
   ]
  },
  {
   "cell_type": "code",
   "execution_count": 68,
   "id": "e88c0ff8",
   "metadata": {},
   "outputs": [
    {
     "data": {
      "text/plain": [
       "<Axes: xlabel='year', ylabel='count'>"
      ]
     },
     "execution_count": 68,
     "metadata": {},
     "output_type": "execute_result"
    },
    {
     "data": {
      "image/png": "[encoded data removed]",
      "text/plain": [
       "<Figure size 640x480 with 1 Axes>"
      ]
     },
     "metadata": {},
     "output_type": "display_data"
    }
   ],
   "source": [
    "sns.countplot(x=\"year\",data=df)"
   ]
  },
  {
   "cell_type": "markdown",
   "id": "4d09b15c",
   "metadata": {},
   "source": [
    "### @ Month (월)"
   ]
  },
  {
   "cell_type": "markdown",
   "id": "7fd8da75",
   "metadata": {},
   "source": [
    "#### 결측값&이상값 없음"
   ]
  },
  {
   "cell_type": "code",
   "execution_count": 69,
   "id": "fa596d7f",
   "metadata": {},
   "outputs": [
    {
     "data": {
      "text/plain": [
       "8     55224\n",
       "10    52841\n",
       "9     50164\n",
       "11    47052\n",
       "1     46080\n",
       "7     45240\n",
       "12    43631\n",
       "3     42330\n",
       "4     41176\n",
       "2     36361\n",
       "5     35781\n",
       "6     32742\n",
       "Name: month, dtype: int64"
      ]
     },
     "execution_count": 69,
     "metadata": {},
     "output_type": "execute_result"
    }
   ],
   "source": [
    "# 항목별 개수\n",
    "df['month'].value_counts()"
   ]
  },
  {
   "cell_type": "code",
   "execution_count": 70,
   "id": "1936cd86",
   "metadata": {},
   "outputs": [
    {
     "data": {
      "text/plain": [
       "<Axes: xlabel='month', ylabel='count'>"
      ]
     },
     "execution_count": 70,
     "metadata": {},
     "output_type": "execute_result"
    },
    {
     "data": {
      "image/png": "[encoded data removed]",
      "text/plain": [
       "<Figure size 640x480 with 1 Axes>"
      ]
     },
     "metadata": {},
     "output_type": "display_data"
    }
   ],
   "source": [
    "sns.countplot(x=\"month\",data=df)"
   ]
  },
  {
   "cell_type": "markdown",
   "id": "f947d7fc",
   "metadata": {},
   "source": [
    "### @ Pannel_code(고객코드)"
   ]
  },
  {
   "cell_type": "markdown",
   "id": "19184c89",
   "metadata": {},
   "source": [
    "#### 결측값&이상값 없음"
   ]
  },
  {
   "cell_type": "code",
   "execution_count": 72,
   "id": "3f96b22f",
   "metadata": {
    "scrolled": true
   },
   "outputs": [
    {
     "data": {
      "text/plain": [
       "PN00000701    2557\n",
       "PN00000147    2445\n",
       "PN00000965    2022\n",
       "PN00000813    1894\n",
       "PN00000485    1739\n",
       "              ... \n",
       "PN20210615       1\n",
       "PN20210978       1\n",
       "PN20210997       1\n",
       "PN00001344       1\n",
       "PN20210178       1\n",
       "Name: panel_code, Length: 1961, dtype: int64"
      ]
     },
     "execution_count": 72,
     "metadata": {},
     "output_type": "execute_result"
    }
   ],
   "source": [
    "df['panel_code'].value_counts()"
   ]
  },
  {
   "cell_type": "code",
   "execution_count": 73,
   "id": "3f1515d6",
   "metadata": {},
   "outputs": [
    {
     "data": {
      "text/plain": [
       "panel_code\n",
       "PN00000001     2982176.0\n",
       "PN00000002     5275940.0\n",
       "PN00000003    10550140.0\n",
       "PN00000004      397570.0\n",
       "PN00000005     7565558.0\n",
       "                 ...    \n",
       "PN20211054      818100.0\n",
       "PN20211056      766338.0\n",
       "PN20211057      211270.0\n",
       "PN20211058       16160.0\n",
       "PN20211059      745108.0\n",
       "Name: purchase, Length: 1961, dtype: float64"
      ]
     },
     "execution_count": 73,
     "metadata": {},
     "output_type": "execute_result"
    }
   ],
   "source": [
    "df.groupby('panel_code')['purchase'].sum()"
   ]
  },
  {
   "cell_type": "markdown",
   "id": "482a4d51",
   "metadata": {},
   "source": [
    "### @ Type_channel_new (구매장소)"
   ]
  },
  {
   "cell_type": "markdown",
   "id": "c95d944d",
   "metadata": {},
   "source": [
    "#### 결측값&이상값 없음"
   ]
  },
  {
   "cell_type": "code",
   "execution_count": 74,
   "id": "7d4e4b06",
   "metadata": {},
   "outputs": [
    {
     "data": {
      "text/plain": [
       "슈퍼마켓     243877\n",
       "대형마트      96693\n",
       "전통시장      83058\n",
       "전문점       37061\n",
       "무점포       28589\n",
       "온라인몰      25961\n",
       "백화점        7640\n",
       "농가직거래      7459\n",
       "편의점        3672\n",
       "기타         3469\n",
       "홈쇼핑         407\n",
       "정육점         299\n",
       "외식업체        197\n",
       "Name: type_channel_new, dtype: int64"
      ]
     },
     "execution_count": 74,
     "metadata": {},
     "output_type": "execute_result"
    }
   ],
   "source": [
    "data['type_channel_new'].value_counts()"
   ]
  },
  {
   "cell_type": "code",
   "execution_count": 80,
   "id": "ae72fb90",
   "metadata": {},
   "outputs": [
    {
     "data": {
      "text/plain": [
       "type_channel_new\n",
       "기타       4.564204e+07\n",
       "농가직거래    2.476371e+08\n",
       "대형마트     7.026903e+08\n",
       "무점포      2.576752e+08\n",
       "백화점      6.870348e+07\n",
       "슈퍼마켓     1.641292e+09\n",
       "온라인몰     3.503641e+08\n",
       "외식업체     1.168900e+06\n",
       "전문점      3.312234e+08\n",
       "전통시장     6.559004e+08\n",
       "정육점      3.327530e+06\n",
       "편의점      1.339915e+07\n",
       "홈쇼핑      1.370674e+07\n",
       "Name: purchase, dtype: float64"
      ]
     },
     "execution_count": 80,
     "metadata": {},
     "output_type": "execute_result"
    }
   ],
   "source": [
    "df.groupby('type_channel_new')['purchase'].sum()"
   ]
  },
  {
   "cell_type": "markdown",
   "id": "d75687da",
   "metadata": {},
   "source": [
    "### @ shop_day (구매날짜)"
   ]
  },
  {
   "cell_type": "markdown",
   "id": "f12c1195",
   "metadata": {},
   "source": [
    "#### 결측값&이상값 없음"
   ]
  },
  {
   "cell_type": "code",
   "execution_count": 81,
   "id": "f82c2d12",
   "metadata": {},
   "outputs": [
    {
     "data": {
      "text/plain": [
       "5113"
      ]
     },
     "execution_count": 81,
     "metadata": {},
     "output_type": "execute_result"
    }
   ],
   "source": [
    "data['shop_day'].nunique()"
   ]
  },
  {
   "cell_type": "code",
   "execution_count": 82,
   "id": "97e467ef",
   "metadata": {},
   "outputs": [
    {
     "data": {
      "text/plain": [
       "2022-09-09    328\n",
       "2022-08-27    283\n",
       "2018-09-22    272\n",
       "2015-09-26    270\n",
       "2022-09-08    260\n",
       "             ... \n",
       "2020-01-26     26\n",
       "2021-09-22     25\n",
       "2021-02-12     25\n",
       "2018-02-16     22\n",
       "2018-05-01      2\n",
       "Name: shop_day, Length: 5113, dtype: int64"
      ]
     },
     "execution_count": 82,
     "metadata": {},
     "output_type": "execute_result"
    }
   ],
   "source": [
    "data['shop_day'].value_counts()"
   ]
  },
  {
   "cell_type": "code",
   "execution_count": 83,
   "id": "a645eda1",
   "metadata": {},
   "outputs": [
    {
     "data": {
      "text/plain": [
       "[<matplotlib.lines.Line2D at 0x29ae5c66250>]"
      ]
     },
     "execution_count": 83,
     "metadata": {},
     "output_type": "execute_result"
    },
    {
     "data": {
      "image/png": "[encoded data removed]",
      "text/plain": [
       "<Figure size 640x480 with 1 Axes>"
      ]
     },
     "metadata": {},
     "output_type": "display_data"
    }
   ],
   "source": [
    "plt.plot(df['shop_day'],df['purchase'])"
   ]
  },
  {
   "cell_type": "code",
   "execution_count": 91,
   "id": "8819e0a6",
   "metadata": {},
   "outputs": [
    {
     "data": {
      "text/plain": [
       "shop_day\n",
       "2010-01-01     651170.0\n",
       "2010-01-02     663224.0\n",
       "2010-01-03     579075.0\n",
       "2010-01-04     439883.0\n",
       "2010-01-05     561987.0\n",
       "                ...    \n",
       "2023-12-27    1123380.0\n",
       "2023-12-28    1437050.0\n",
       "2023-12-29    1043269.0\n",
       "2023-12-30    1406658.0\n",
       "2023-12-31    1212846.0\n",
       "Name: purchase, Length: 5113, dtype: float64"
      ]
     },
     "execution_count": 91,
     "metadata": {},
     "output_type": "execute_result"
    }
   ],
   "source": [
    "df.groupby('shop_day')['purchase'].sum()"
   ]
  },
  {
   "cell_type": "markdown",
   "id": "9aee1a6f",
   "metadata": {},
   "source": [
    "### @ Shop_week (구매요일)"
   ]
  },
  {
   "cell_type": "markdown",
   "id": "06a2f47b",
   "metadata": {},
   "source": [
    "####  ',' 1개 존재 (토요일로 바꿈) / 나머지 숫자형으로 되어있는 부분 요일 명으로 바꿈"
   ]
  },
  {
   "cell_type": "code",
   "execution_count": 82,
   "id": "65b7c03b",
   "metadata": {},
   "outputs": [],
   "source": [
    "# 문자형으로 바꾸기\n",
    "# 2019-11-23은 토요일 이므로 바꾸기\n",
    "df[df['shop_week']== '.']\n",
    "df.loc[df['shop_week']== '.','shop_week']='7'\n",
    "df['shop_week'] = df['shop_week'].astype(int)"
   ]
  },
  {
   "cell_type": "code",
   "execution_count": 61,
   "id": "c395c8e5",
   "metadata": {},
   "outputs": [
    {
     "data": {
      "text/plain": [
       "7      77367\n",
       "6      66477\n",
       "2      62799\n",
       "5      62329\n",
       "4      61821\n",
       "1      61482\n",
       "3      60933\n",
       "온라인    21995\n",
       "7       7307\n",
       "6       5771\n",
       "5       5288\n",
       "1       5174\n",
       "4       5153\n",
       "2       5134\n",
       "3       5098\n",
       "Name: shop_week, dtype: int64"
      ]
     },
     "execution_count": 61,
     "metadata": {},
     "output_type": "execute_result"
    }
   ],
   "source": [
    "df['shop_week'].value_counts()"
   ]
  },
  {
   "cell_type": "code",
   "execution_count": 83,
   "id": "dd462e85",
   "metadata": {},
   "outputs": [],
   "source": [
    "df.loc[df['shop_week']== 1,'shop_week']='일'\n",
    "df.loc[df['shop_week']== 2,'shop_week']='월'\n",
    "df.loc[df['shop_week']== 3,'shop_week']='화'\n",
    "df.loc[df['shop_week']== 4,'shop_week']='수'\n",
    "df.loc[df['shop_week']== 5,'shop_week']='목'\n",
    "df.loc[df['shop_week']== 6,'shop_week']='금'\n",
    "df.loc[df['shop_week']== 7,'shop_week']='토'"
   ]
  },
  {
   "cell_type": "code",
   "execution_count": 116,
   "id": "b73a6930",
   "metadata": {},
   "outputs": [
    {
     "data": {
      "text/plain": [
       "토    89687\n",
       "금    77790\n",
       "월    73296\n",
       "목    73015\n",
       "수    72511\n",
       "화    71493\n",
       "일    70830\n",
       "Name: shop_week, dtype: int64"
      ]
     },
     "execution_count": 116,
     "metadata": {},
     "output_type": "execute_result"
    }
   ],
   "source": [
    "df['shop_week'].value_counts()"
   ]
  },
  {
   "cell_type": "code",
   "execution_count": 117,
   "id": "9514cf70",
   "metadata": {},
   "outputs": [
    {
     "data": {
      "text/plain": [
       "<Axes: xlabel='shop_week', ylabel='count'>"
      ]
     },
     "execution_count": 117,
     "metadata": {},
     "output_type": "execute_result"
    },
    {
     "data": {
      "image/png": "[encoded data removed]",
      "text/plain": [
       "<Figure size 640x480 with 1 Axes>"
      ]
     },
     "metadata": {},
     "output_type": "display_data"
    }
   ],
   "source": [
    "sns.countplot(x=\"shop_week\",data=df)"
   ]
  },
  {
   "cell_type": "markdown",
   "id": "2bbb6c57",
   "metadata": {},
   "source": [
    "### @ store_region(구매지역)"
   ]
  },
  {
   "cell_type": "code",
   "execution_count": 7,
   "id": "3245154e",
   "metadata": {},
   "outputs": [
    {
     "data": {
      "text/plain": [
       "경기    50403\n",
       "서울    32804\n",
       "인천     9281\n",
       "없음      903\n",
       "충남      207\n",
       "강원      170\n",
       "부산       84\n",
       "전남       75\n",
       "제주       72\n",
       "충북       69\n",
       "대전       65\n",
       "전북       57\n",
       "경북       55\n",
       "광주       28\n",
       "경남       27\n",
       "울산       25\n",
       "세종       18\n",
       "대구       18\n",
       "기타        2\n",
       "Name: store_region, dtype: int64"
      ]
     },
     "execution_count": 7,
     "metadata": {},
     "output_type": "execute_result"
    }
   ],
   "source": []
  },
  {
   "cell_type": "markdown",
   "id": "2a10fd2e",
   "metadata": {},
   "source": [
    "### @ product (제품)"
   ]
  },
  {
   "cell_type": "markdown",
   "id": "2d4c3792",
   "metadata": {},
   "source": [
    "#### 제품 종류가 너무 다양하여 사용할지 의문"
   ]
  },
  {
   "cell_type": "code",
   "execution_count": 127,
   "id": "2d54d359",
   "metadata": {},
   "outputs": [
    {
     "data": {
      "text/plain": [
       "43674"
      ]
     },
     "execution_count": 127,
     "metadata": {},
     "output_type": "execute_result"
    }
   ],
   "source": [
    "df['product'].nunique()"
   ]
  },
  {
   "cell_type": "code",
   "execution_count": 128,
   "id": "3c9b680c",
   "metadata": {},
   "outputs": [
    {
     "data": {
      "text/plain": [
       "바나나          41482\n",
       "사과           36136\n",
       "귤            19269\n",
       "단감           14363\n",
       "복숭아          11224\n",
       "             ...  \n",
       "켐벨얼리             1\n",
       "배_바나나            1\n",
       "해찬사과_부사          1\n",
       "사과벌크_홍로_대        1\n",
       "스위트마운틴_수입        1\n",
       "Name: product, Length: 43674, dtype: int64"
      ]
     },
     "execution_count": 128,
     "metadata": {},
     "output_type": "execute_result"
    }
   ],
   "source": [
    "df['product'].value_counts()"
   ]
  },
  {
   "cell_type": "markdown",
   "id": "4c15ce64",
   "metadata": {},
   "source": [
    "### @ wide (제품(상단)))"
   ]
  },
  {
   "cell_type": "markdown",
   "id": "1829e288",
   "metadata": {},
   "source": [
    "#### 하나의 값만 존재/ 삭제 대상"
   ]
  },
  {
   "cell_type": "code",
   "execution_count": 129,
   "id": "b8c418cd",
   "metadata": {},
   "outputs": [
    {
     "data": {
      "text/plain": [
       "1"
      ]
     },
     "execution_count": 129,
     "metadata": {},
     "output_type": "execute_result"
    }
   ],
   "source": [
    "df['wide'].nunique()"
   ]
  },
  {
   "cell_type": "code",
   "execution_count": 130,
   "id": "c5d13edc",
   "metadata": {},
   "outputs": [
    {
     "data": {
      "text/plain": [
       "과일류    528622\n",
       "Name: wide, dtype: int64"
      ]
     },
     "execution_count": 130,
     "metadata": {},
     "output_type": "execute_result"
    }
   ],
   "source": [
    "df['wide'].value_counts()"
   ]
  },
  {
   "cell_type": "markdown",
   "id": "ab7bce79",
   "metadata": {},
   "source": [
    "### @ middle ( 제품 (중단))"
   ]
  },
  {
   "cell_type": "markdown",
   "id": "a08b76fa",
   "metadata": {},
   "source": [
    "#### 19종류로 사용하기 좋아보임"
   ]
  },
  {
   "cell_type": "code",
   "execution_count": 131,
   "id": "75aaa9fc",
   "metadata": {},
   "outputs": [
    {
     "data": {
      "text/plain": [
       "19"
      ]
     },
     "execution_count": 131,
     "metadata": {},
     "output_type": "execute_result"
    }
   ],
   "source": [
    "df['middle'].nunique()"
   ]
  },
  {
   "cell_type": "code",
   "execution_count": 132,
   "id": "d01ce245",
   "metadata": {},
   "outputs": [
    {
     "data": {
      "text/plain": [
       "바나나     112887\n",
       "사과       91884\n",
       "감귤       69556\n",
       "포도       49415\n",
       "복숭아      36588\n",
       "오렌지      23970\n",
       "배        22438\n",
       "단감       22361\n",
       "참다래      17161\n",
       "떫은감      14710\n",
       "자두       13550\n",
       "열대과일     12718\n",
       "기타과일     12362\n",
       "파인애플      8940\n",
       "체리        8024\n",
       "베리        6448\n",
       "레몬        3795\n",
       "매실        1618\n",
       "묶음과일       197\n",
       "Name: middle, dtype: int64"
      ]
     },
     "execution_count": 132,
     "metadata": {},
     "output_type": "execute_result"
    }
   ],
   "source": [
    "df['middle'].value_counts()"
   ]
  },
  {
   "cell_type": "code",
   "execution_count": 135,
   "id": "58d87dfc",
   "metadata": {},
   "outputs": [
    {
     "data": {
      "text/plain": [
       "<Axes: xlabel='middle', ylabel='count'>"
      ]
     },
     "execution_count": 135,
     "metadata": {},
     "output_type": "execute_result"
    },
    {
     "data": {
      "image/png": "[encoded data removed]",
      "text/plain": [
       "<Figure size 1200x400 with 1 Axes>"
      ]
     },
     "metadata": {},
     "output_type": "display_data"
    }
   ],
   "source": [
    "plt.figure(figsize=(12,4))\n",
    "sns.countplot(x=\"middle\",data=df)"
   ]
  },
  {
   "cell_type": "markdown",
   "id": "f54abdc4",
   "metadata": {},
   "source": [
    "### @ detail(제품(하단))"
   ]
  },
  {
   "cell_type": "markdown",
   "id": "e2bfa608",
   "metadata": {},
   "source": [
    "#### 총 59개로 고려해볼만함"
   ]
  },
  {
   "cell_type": "code",
   "execution_count": 137,
   "id": "b18c40b6",
   "metadata": {},
   "outputs": [
    {
     "data": {
      "text/plain": [
       "19"
      ]
     },
     "execution_count": 137,
     "metadata": {},
     "output_type": "execute_result"
    }
   ],
   "source": [
    "df['detail'].nunique()"
   ]
  },
  {
   "cell_type": "code",
   "execution_count": 139,
   "id": "576c00bb",
   "metadata": {},
   "outputs": [
    {
     "data": {
      "text/plain": [
       "일반바나나        112117\n",
       "기타사과          71732\n",
       "밀감            59518\n",
       "오렌지           23970\n",
       "단감            22361\n",
       "일반복숭아         20912\n",
       "기타배           17024\n",
       "기타포도          14135\n",
       "청포도           13824\n",
       "자두            13550\n",
       "후지            11430\n",
       "천도            11151\n",
       "파인애플           8940\n",
       "기타과일           8809\n",
       "체리             8024\n",
       "골드키위           8001\n",
       "홍시             7533\n",
       "거봉             6747\n",
       "캠벨얼리           6508\n",
       "블루베리           5640\n",
       "신고배            5414\n",
       "적포도            5309\n",
       "아오리            5020\n",
       "그린키위           4769\n",
       "기타감귤           4699\n",
       "한라봉            4462\n",
       "기타키위           4391\n",
       "기타열대과일         4223\n",
       "레몬             3795\n",
       "망고             3547\n",
       "홍로             3288\n",
       "황도             2974\n",
       "대봉             2945\n",
       "무화과            2497\n",
       "자몽             2485\n",
       "석류             2433\n",
       "머루포도_MBA_      2377\n",
       "일반떫은감          2020\n",
       "매실             1618\n",
       "백도             1486\n",
       "대봉시            1302\n",
       "반시              894\n",
       "기타바나나           770\n",
       "금귤              643\n",
       "기타베리            586\n",
       "델라웨어            414\n",
       "홍옥              414\n",
       "혼합과일            348\n",
       "오디              271\n",
       "유자              245\n",
       "청견              234\n",
       "복분자             222\n",
       "묶음과일            197\n",
       "모과              192\n",
       "세리단              98\n",
       "기타복숭아            65\n",
       "올리브              30\n",
       "기타감              16\n",
       "킹델라웨어             3\n",
       "Name: detail, dtype: int64"
      ]
     },
     "execution_count": 139,
     "metadata": {},
     "output_type": "execute_result"
    }
   ],
   "source": [
    "df['detail'].value_counts()"
   ]
  },
  {
   "cell_type": "code",
   "execution_count": 143,
   "id": "73edcc64",
   "metadata": {},
   "outputs": [
    {
     "data": {
      "text/plain": [
       "<Axes: xlabel='detail', ylabel='count'>"
      ]
     },
     "execution_count": 143,
     "metadata": {},
     "output_type": "execute_result"
    },
    {
     "data": {
      "image/png": "[encoded data removed]",
      "text/plain": [
       "<Figure size 1200x400 with 1 Axes>"
      ]
     },
     "metadata": {},
     "output_type": "display_data"
    }
   ],
   "source": [
    "plt.figure(figsize=(12,4))\n",
    "sns.countplot(x=\"detail\",data=df)"
   ]
  },
  {
   "cell_type": "markdown",
   "id": "e8ff4855",
   "metadata": {},
   "source": [
    "### @ purchase (구매액)"
   ]
  },
  {
   "cell_type": "markdown",
   "id": "2c3baf20",
   "metadata": {},
   "source": [
    "#### 종속변수로 사용"
   ]
  },
  {
   "cell_type": "code",
   "execution_count": 9,
   "id": "a74d9d40",
   "metadata": {},
   "outputs": [
    {
     "data": {
      "text/plain": [
       "count     528622.0\n",
       "mean        8196.3\n",
       "std        10325.4\n",
       "min            2.0\n",
       "25%         3500.0\n",
       "50%         5000.0\n",
       "75%        10000.0\n",
       "max      1200000.0\n",
       "Name: purchase, dtype: float64"
      ]
     },
     "execution_count": 9,
     "metadata": {},
     "output_type": "execute_result"
    }
   ],
   "source": [
    "round(df['purchase'].describe(),1)"
   ]
  },
  {
   "cell_type": "code",
   "execution_count": 10,
   "id": "e9b879ac",
   "metadata": {},
   "outputs": [
    {
     "data": {
      "text/plain": [
       "{'whiskers': [<matplotlib.lines.Line2D at 0x221fd8bdc50>,\n",
       "  <matplotlib.lines.Line2D at 0x221fd846a50>],\n",
       " 'caps': [<matplotlib.lines.Line2D at 0x221fd8bc250>,\n",
       "  <matplotlib.lines.Line2D at 0x221fd8bc350>],\n",
       " 'boxes': [<matplotlib.lines.Line2D at 0x221fd8bc190>],\n",
       " 'medians': [<matplotlib.lines.Line2D at 0x221fd971f90>],\n",
       " 'fliers': [<matplotlib.lines.Line2D at 0x221fd7e16d0>],\n",
       " 'means': []}"
      ]
     },
     "execution_count": 10,
     "metadata": {},
     "output_type": "execute_result"
    },
    {
     "data": {
      "image/png": "[encoded data removed]",
      "text/plain": [
       "<Figure size 400x1500 with 1 Axes>"
      ]
     },
     "metadata": {},
     "output_type": "display_data"
    }
   ],
   "source": [
    "plt.figure(figsize=(4,15))\n",
    "plt.boxplot(df['purchase'])"
   ]
  },
  {
   "cell_type": "code",
   "execution_count": 37,
   "id": "2a25b6a9",
   "metadata": {},
   "outputs": [
    {
     "data": {
      "text/html": [
       "<div>\n",
       "<style scoped>\n",
       "    .dataframe tbody tr th:only-of-type {\n",
       "        vertical-align: middle;\n",
       "    }\n",
       "\n",
       "    .dataframe tbody tr th {\n",
       "        vertical-align: top;\n",
       "    }\n",
       "\n",
       "    .dataframe thead th {\n",
       "        text-align: right;\n",
       "    }\n",
       "</style>\n",
       "<table border=\"1\" class=\"dataframe\">\n",
       "  <thead>\n",
       "    <tr style=\"text-align: right;\">\n",
       "      <th></th>\n",
       "      <th>panel_code</th>\n",
       "      <th>type_channel_new</th>\n",
       "      <th>store_region</th>\n",
       "      <th>middle</th>\n",
       "      <th>shop_day</th>\n",
       "      <th>family_num_level</th>\n",
       "      <th>income_v2</th>\n",
       "      <th>purchase</th>\n",
       "    </tr>\n",
       "  </thead>\n",
       "  <tbody>\n",
       "    <tr>\n",
       "      <th>119016</th>\n",
       "      <td>PN00000779</td>\n",
       "      <td>기타</td>\n",
       "      <td>없음</td>\n",
       "      <td>베리</td>\n",
       "      <td>2013-01-07</td>\n",
       "      <td>6</td>\n",
       "      <td>700만원 이상</td>\n",
       "      <td>1200000.0</td>\n",
       "    </tr>\n",
       "    <tr>\n",
       "      <th>349014</th>\n",
       "      <td>PN00000574</td>\n",
       "      <td>농가직거래</td>\n",
       "      <td>없음</td>\n",
       "      <td>감귤</td>\n",
       "      <td>2019-01-30</td>\n",
       "      <td>2</td>\n",
       "      <td>600~699만원</td>\n",
       "      <td>1000000.0</td>\n",
       "    </tr>\n",
       "    <tr>\n",
       "      <th>379915</th>\n",
       "      <td>PN00000574</td>\n",
       "      <td>농가직거래</td>\n",
       "      <td>없음</td>\n",
       "      <td>감귤</td>\n",
       "      <td>2020-01-20</td>\n",
       "      <td>2</td>\n",
       "      <td>700만원 이상</td>\n",
       "      <td>1000000.0</td>\n",
       "    </tr>\n",
       "    <tr>\n",
       "      <th>425475</th>\n",
       "      <td>PN00000379</td>\n",
       "      <td>농가직거래</td>\n",
       "      <td>없음</td>\n",
       "      <td>복숭아</td>\n",
       "      <td>2021-09-16</td>\n",
       "      <td>2</td>\n",
       "      <td>600~699만원</td>\n",
       "      <td>800000.0</td>\n",
       "    </tr>\n",
       "    <tr>\n",
       "      <th>124025</th>\n",
       "      <td>PN00000559</td>\n",
       "      <td>농가직거래</td>\n",
       "      <td>없음</td>\n",
       "      <td>베리</td>\n",
       "      <td>2013-03-26</td>\n",
       "      <td>3</td>\n",
       "      <td>500~599만원</td>\n",
       "      <td>792000.0</td>\n",
       "    </tr>\n",
       "    <tr>\n",
       "      <th>405319</th>\n",
       "      <td>PN20150399</td>\n",
       "      <td>슈퍼마켓</td>\n",
       "      <td>경기</td>\n",
       "      <td>떫은감</td>\n",
       "      <td>2020-11-14</td>\n",
       "      <td>3</td>\n",
       "      <td>700만원 이상</td>\n",
       "      <td>780000.0</td>\n",
       "    </tr>\n",
       "    <tr>\n",
       "      <th>425890</th>\n",
       "      <td>PN00000672</td>\n",
       "      <td>농가직거래</td>\n",
       "      <td>경북</td>\n",
       "      <td>사과</td>\n",
       "      <td>2021-09-15</td>\n",
       "      <td>3</td>\n",
       "      <td>700만원 이상</td>\n",
       "      <td>770000.0</td>\n",
       "    </tr>\n",
       "    <tr>\n",
       "      <th>435032</th>\n",
       "      <td>PN00000672</td>\n",
       "      <td>농가직거래</td>\n",
       "      <td>경북</td>\n",
       "      <td>사과</td>\n",
       "      <td>2022-01-26</td>\n",
       "      <td>3</td>\n",
       "      <td>700만원 이상</td>\n",
       "      <td>700000.0</td>\n",
       "    </tr>\n",
       "    <tr>\n",
       "      <th>399479</th>\n",
       "      <td>PN00001125</td>\n",
       "      <td>온라인몰</td>\n",
       "      <td>온라인</td>\n",
       "      <td>기타과일</td>\n",
       "      <td>2020-09-17</td>\n",
       "      <td>2</td>\n",
       "      <td>700만원 이상</td>\n",
       "      <td>695000.0</td>\n",
       "    </tr>\n",
       "    <tr>\n",
       "      <th>379987</th>\n",
       "      <td>PN00000672</td>\n",
       "      <td>농가직거래</td>\n",
       "      <td>경북</td>\n",
       "      <td>사과</td>\n",
       "      <td>2020-01-21</td>\n",
       "      <td>3</td>\n",
       "      <td>200~299만원</td>\n",
       "      <td>630000.0</td>\n",
       "    </tr>\n",
       "    <tr>\n",
       "      <th>425648</th>\n",
       "      <td>PN00000465</td>\n",
       "      <td>농가직거래</td>\n",
       "      <td>없음</td>\n",
       "      <td>사과</td>\n",
       "      <td>2021-09-01</td>\n",
       "      <td>2</td>\n",
       "      <td>700만원 이상</td>\n",
       "      <td>600000.0</td>\n",
       "    </tr>\n",
       "    <tr>\n",
       "      <th>351720</th>\n",
       "      <td>PN00000672</td>\n",
       "      <td>농가직거래</td>\n",
       "      <td>부산</td>\n",
       "      <td>사과</td>\n",
       "      <td>2019-02-02</td>\n",
       "      <td>3</td>\n",
       "      <td>700만원 이상</td>\n",
       "      <td>600000.0</td>\n",
       "    </tr>\n",
       "    <tr>\n",
       "      <th>411255</th>\n",
       "      <td>PN00000672</td>\n",
       "      <td>농가직거래</td>\n",
       "      <td>경북</td>\n",
       "      <td>사과</td>\n",
       "      <td>2021-02-02</td>\n",
       "      <td>3</td>\n",
       "      <td>700만원 이상</td>\n",
       "      <td>595000.0</td>\n",
       "    </tr>\n",
       "    <tr>\n",
       "      <th>434864</th>\n",
       "      <td>PN00000465</td>\n",
       "      <td>농가직거래</td>\n",
       "      <td>없음</td>\n",
       "      <td>사과</td>\n",
       "      <td>2022-01-23</td>\n",
       "      <td>2</td>\n",
       "      <td>600~699만원</td>\n",
       "      <td>550000.0</td>\n",
       "    </tr>\n",
       "    <tr>\n",
       "      <th>409741</th>\n",
       "      <td>PN00001125</td>\n",
       "      <td>온라인몰</td>\n",
       "      <td>온라인</td>\n",
       "      <td>감귤</td>\n",
       "      <td>2021-01-21</td>\n",
       "      <td>2</td>\n",
       "      <td>700만원 이상</td>\n",
       "      <td>549000.0</td>\n",
       "    </tr>\n",
       "    <tr>\n",
       "      <th>399585</th>\n",
       "      <td>PN00001181</td>\n",
       "      <td>농가직거래</td>\n",
       "      <td>없음</td>\n",
       "      <td>포도</td>\n",
       "      <td>2020-09-24</td>\n",
       "      <td>4</td>\n",
       "      <td>700만원 이상</td>\n",
       "      <td>520000.0</td>\n",
       "    </tr>\n",
       "    <tr>\n",
       "      <th>370021</th>\n",
       "      <td>PN00001181</td>\n",
       "      <td>농가직거래</td>\n",
       "      <td>없음</td>\n",
       "      <td>포도</td>\n",
       "      <td>2019-09-09</td>\n",
       "      <td>4</td>\n",
       "      <td>700만원 이상</td>\n",
       "      <td>520000.0</td>\n",
       "    </tr>\n",
       "    <tr>\n",
       "      <th>351913</th>\n",
       "      <td>PN00000847</td>\n",
       "      <td>전통시장</td>\n",
       "      <td>부산</td>\n",
       "      <td>배</td>\n",
       "      <td>2019-02-01</td>\n",
       "      <td>4</td>\n",
       "      <td>200~299만원</td>\n",
       "      <td>496000.0</td>\n",
       "    </tr>\n",
       "    <tr>\n",
       "      <th>512131</th>\n",
       "      <td>PN20210916</td>\n",
       "      <td>대형마트</td>\n",
       "      <td>경기</td>\n",
       "      <td>사과</td>\n",
       "      <td>2023-09-18</td>\n",
       "      <td>3</td>\n",
       "      <td>700만원 이상</td>\n",
       "      <td>495200.0</td>\n",
       "    </tr>\n",
       "    <tr>\n",
       "      <th>426247</th>\n",
       "      <td>PN00000957</td>\n",
       "      <td>농가직거래</td>\n",
       "      <td>없음</td>\n",
       "      <td>배</td>\n",
       "      <td>2021-09-13</td>\n",
       "      <td>2</td>\n",
       "      <td>400~499만원</td>\n",
       "      <td>490000.0</td>\n",
       "    </tr>\n",
       "  </tbody>\n",
       "</table>\n",
       "</div>"
      ],
      "text/plain": [
       "        panel_code type_channel_new store_region middle   shop_day  \\\n",
       "119016  PN00000779               기타           없음     베리 2013-01-07   \n",
       "349014  PN00000574            농가직거래           없음     감귤 2019-01-30   \n",
       "379915  PN00000574            농가직거래           없음     감귤 2020-01-20   \n",
       "425475  PN00000379            농가직거래           없음    복숭아 2021-09-16   \n",
       "124025  PN00000559            농가직거래           없음     베리 2013-03-26   \n",
       "405319  PN20150399             슈퍼마켓           경기    떫은감 2020-11-14   \n",
       "425890  PN00000672            농가직거래           경북     사과 2021-09-15   \n",
       "435032  PN00000672            농가직거래           경북     사과 2022-01-26   \n",
       "399479  PN00001125             온라인몰          온라인   기타과일 2020-09-17   \n",
       "379987  PN00000672            농가직거래           경북     사과 2020-01-21   \n",
       "425648  PN00000465            농가직거래           없음     사과 2021-09-01   \n",
       "351720  PN00000672            농가직거래           부산     사과 2019-02-02   \n",
       "411255  PN00000672            농가직거래           경북     사과 2021-02-02   \n",
       "434864  PN00000465            농가직거래           없음     사과 2022-01-23   \n",
       "409741  PN00001125             온라인몰          온라인     감귤 2021-01-21   \n",
       "399585  PN00001181            농가직거래           없음     포도 2020-09-24   \n",
       "370021  PN00001181            농가직거래           없음     포도 2019-09-09   \n",
       "351913  PN00000847             전통시장           부산      배 2019-02-01   \n",
       "512131  PN20210916             대형마트           경기     사과 2023-09-18   \n",
       "426247  PN00000957            농가직거래           없음      배 2021-09-13   \n",
       "\n",
       "        family_num_level  income_v2   purchase  \n",
       "119016                 6   700만원 이상  1200000.0  \n",
       "349014                 2  600~699만원  1000000.0  \n",
       "379915                 2   700만원 이상  1000000.0  \n",
       "425475                 2  600~699만원   800000.0  \n",
       "124025                 3  500~599만원   792000.0  \n",
       "405319                 3   700만원 이상   780000.0  \n",
       "425890                 3   700만원 이상   770000.0  \n",
       "435032                 3   700만원 이상   700000.0  \n",
       "399479                 2   700만원 이상   695000.0  \n",
       "379987                 3  200~299만원   630000.0  \n",
       "425648                 2   700만원 이상   600000.0  \n",
       "351720                 3   700만원 이상   600000.0  \n",
       "411255                 3   700만원 이상   595000.0  \n",
       "434864                 2  600~699만원   550000.0  \n",
       "409741                 2   700만원 이상   549000.0  \n",
       "399585                 4   700만원 이상   520000.0  \n",
       "370021                 4   700만원 이상   520000.0  \n",
       "351913                 4  200~299만원   496000.0  \n",
       "512131                 3   700만원 이상   495200.0  \n",
       "426247                 2  400~499만원   490000.0  "
      ]
     },
     "execution_count": 37,
     "metadata": {},
     "output_type": "execute_result"
    }
   ],
   "source": [
    "# 구매액이 큰 순서\n",
    "df_purc=df[['panel_code','type_channel_new','store_region','middle','shop_day','family_num_level','income_v2','purchase']]\n",
    "df_purc.sort_values('purchase',ascending=False).head(20)"
   ]
  },
  {
   "cell_type": "code",
   "execution_count": 38,
   "id": "88b13dd2",
   "metadata": {},
   "outputs": [
    {
     "data": {
      "text/html": [
       "<div>\n",
       "<style scoped>\n",
       "    .dataframe tbody tr th:only-of-type {\n",
       "        vertical-align: middle;\n",
       "    }\n",
       "\n",
       "    .dataframe tbody tr th {\n",
       "        vertical-align: top;\n",
       "    }\n",
       "\n",
       "    .dataframe thead th {\n",
       "        text-align: right;\n",
       "    }\n",
       "</style>\n",
       "<table border=\"1\" class=\"dataframe\">\n",
       "  <thead>\n",
       "    <tr style=\"text-align: right;\">\n",
       "      <th></th>\n",
       "      <th>panel_code</th>\n",
       "      <th>type_channel_new</th>\n",
       "      <th>store_region</th>\n",
       "      <th>middle</th>\n",
       "      <th>shop_day</th>\n",
       "      <th>family_num_level</th>\n",
       "      <th>income_v2</th>\n",
       "      <th>purchase</th>\n",
       "    </tr>\n",
       "  </thead>\n",
       "  <tbody>\n",
       "    <tr>\n",
       "      <th>190634</th>\n",
       "      <td>PN20150422</td>\n",
       "      <td>슈퍼마켓</td>\n",
       "      <td>경기</td>\n",
       "      <td>단감</td>\n",
       "      <td>2015-01-12</td>\n",
       "      <td>1</td>\n",
       "      <td>200만원 미만</td>\n",
       "      <td>2.0</td>\n",
       "    </tr>\n",
       "    <tr>\n",
       "      <th>308026</th>\n",
       "      <td>PN00000952</td>\n",
       "      <td>슈퍼마켓</td>\n",
       "      <td>서울</td>\n",
       "      <td>열대과일</td>\n",
       "      <td>2017-11-02</td>\n",
       "      <td>5</td>\n",
       "      <td>400~499만원</td>\n",
       "      <td>10.0</td>\n",
       "    </tr>\n",
       "    <tr>\n",
       "      <th>207190</th>\n",
       "      <td>PN00000172</td>\n",
       "      <td>전문점</td>\n",
       "      <td>경기</td>\n",
       "      <td>포도</td>\n",
       "      <td>2015-07-18</td>\n",
       "      <td>4</td>\n",
       "      <td>400~499만원</td>\n",
       "      <td>12.0</td>\n",
       "    </tr>\n",
       "    <tr>\n",
       "      <th>390647</th>\n",
       "      <td>PN00000370</td>\n",
       "      <td>슈퍼마켓</td>\n",
       "      <td>경기</td>\n",
       "      <td>복숭아</td>\n",
       "      <td>2020-06-12</td>\n",
       "      <td>7</td>\n",
       "      <td>600~699만원</td>\n",
       "      <td>20.0</td>\n",
       "    </tr>\n",
       "    <tr>\n",
       "      <th>459512</th>\n",
       "      <td>PN00001180</td>\n",
       "      <td>농가직거래</td>\n",
       "      <td>인천</td>\n",
       "      <td>복숭아</td>\n",
       "      <td>2022-08-07</td>\n",
       "      <td>3</td>\n",
       "      <td>700만원 이상</td>\n",
       "      <td>50.0</td>\n",
       "    </tr>\n",
       "    <tr>\n",
       "      <th>441573</th>\n",
       "      <td>PN20210904</td>\n",
       "      <td>온라인몰</td>\n",
       "      <td>온라인</td>\n",
       "      <td>체리</td>\n",
       "      <td>2022-02-09</td>\n",
       "      <td>1</td>\n",
       "      <td>300~399만원</td>\n",
       "      <td>100.0</td>\n",
       "    </tr>\n",
       "    <tr>\n",
       "      <th>448398</th>\n",
       "      <td>PN20210703</td>\n",
       "      <td>슈퍼마켓</td>\n",
       "      <td>서울</td>\n",
       "      <td>바나나</td>\n",
       "      <td>2022-04-20</td>\n",
       "      <td>1</td>\n",
       "      <td>300~399만원</td>\n",
       "      <td>100.0</td>\n",
       "    </tr>\n",
       "    <tr>\n",
       "      <th>346344</th>\n",
       "      <td>PN00000694</td>\n",
       "      <td>온라인몰</td>\n",
       "      <td>온라인</td>\n",
       "      <td>감귤</td>\n",
       "      <td>2018-12-18</td>\n",
       "      <td>4</td>\n",
       "      <td>400~499만원</td>\n",
       "      <td>100.0</td>\n",
       "    </tr>\n",
       "    <tr>\n",
       "      <th>519008</th>\n",
       "      <td>PN00001418</td>\n",
       "      <td>편의점</td>\n",
       "      <td>서울</td>\n",
       "      <td>바나나</td>\n",
       "      <td>2023-11-24</td>\n",
       "      <td>1</td>\n",
       "      <td>400~499만원</td>\n",
       "      <td>100.0</td>\n",
       "    </tr>\n",
       "    <tr>\n",
       "      <th>370908</th>\n",
       "      <td>PN20150776</td>\n",
       "      <td>슈퍼마켓</td>\n",
       "      <td>서울</td>\n",
       "      <td>사과</td>\n",
       "      <td>2019-09-06</td>\n",
       "      <td>2</td>\n",
       "      <td>300~399만원</td>\n",
       "      <td>100.0</td>\n",
       "    </tr>\n",
       "  </tbody>\n",
       "</table>\n",
       "</div>"
      ],
      "text/plain": [
       "        panel_code type_channel_new store_region middle   shop_day  \\\n",
       "190634  PN20150422             슈퍼마켓           경기     단감 2015-01-12   \n",
       "308026  PN00000952             슈퍼마켓           서울   열대과일 2017-11-02   \n",
       "207190  PN00000172              전문점           경기     포도 2015-07-18   \n",
       "390647  PN00000370             슈퍼마켓           경기    복숭아 2020-06-12   \n",
       "459512  PN00001180            농가직거래           인천    복숭아 2022-08-07   \n",
       "441573  PN20210904             온라인몰          온라인     체리 2022-02-09   \n",
       "448398  PN20210703             슈퍼마켓           서울    바나나 2022-04-20   \n",
       "346344  PN00000694             온라인몰          온라인     감귤 2018-12-18   \n",
       "519008  PN00001418              편의점           서울    바나나 2023-11-24   \n",
       "370908  PN20150776             슈퍼마켓           서울     사과 2019-09-06   \n",
       "\n",
       "        family_num_level  income_v2  purchase  \n",
       "190634                 1   200만원 미만       2.0  \n",
       "308026                 5  400~499만원      10.0  \n",
       "207190                 4  400~499만원      12.0  \n",
       "390647                 7  600~699만원      20.0  \n",
       "459512                 3   700만원 이상      50.0  \n",
       "441573                 1  300~399만원     100.0  \n",
       "448398                 1  300~399만원     100.0  \n",
       "346344                 4  400~499만원     100.0  \n",
       "519008                 1  400~499만원     100.0  \n",
       "370908                 2  300~399만원     100.0  "
      ]
     },
     "execution_count": 38,
     "metadata": {},
     "output_type": "execute_result"
    }
   ],
   "source": [
    "# 구매액이 작은 순서\n",
    "df_purc.sort_values('purchase',ascending=True).head(10)"
   ]
  },
  {
   "cell_type": "code",
   "execution_count": 39,
   "id": "845150a2",
   "metadata": {},
   "outputs": [
    {
     "data": {
      "text/plain": [
       "panel_code          132416\n",
       "type_channel_new    132416\n",
       "store_region        132416\n",
       "middle              132416\n",
       "shop_day            132416\n",
       "family_num_level    132416\n",
       "income_v2           132416\n",
       "purchase            132416\n",
       "dtype: int64"
      ]
     },
     "execution_count": 39,
     "metadata": {},
     "output_type": "execute_result"
    }
   ],
   "source": [
    "# 10000원 이상의 행수\n",
    "df_purc[df_purc['purchase']>=10000].count()"
   ]
  },
  {
   "cell_type": "code",
   "execution_count": 35,
   "id": "717cc737",
   "metadata": {},
   "outputs": [
    {
     "data": {
      "text/plain": [
       "panel_code          15175\n",
       "type_channel_new    15175\n",
       "store_region        15175\n",
       "middle              15175\n",
       "shop_day            15175\n",
       "family_num_level    15175\n",
       "purchase            15175\n",
       "dtype: int64"
      ]
     },
     "execution_count": 35,
     "metadata": {},
     "output_type": "execute_result"
    }
   ],
   "source": [
    "# 1500원 이하의 행수\n",
    "df_purc[df_purc['purchase']<=1500].count()"
   ]
  },
  {
   "cell_type": "markdown",
   "id": "f7e0a884",
   "metadata": {},
   "source": [
    "### @ family_num_level (가족구성원 수)"
   ]
  },
  {
   "cell_type": "code",
   "execution_count": 155,
   "id": "0da14232",
   "metadata": {},
   "outputs": [
    {
     "data": {
      "text/plain": [
       "7"
      ]
     },
     "execution_count": 155,
     "metadata": {},
     "output_type": "execute_result"
    }
   ],
   "source": [
    "df['family_num_level'].nunique()"
   ]
  },
  {
   "cell_type": "code",
   "execution_count": 84,
   "id": "a09d792b",
   "metadata": {},
   "outputs": [],
   "source": [
    "df.loc[df['family_num_level']== 1,'family_num_level']='1인'\n",
    "df.loc[df['family_num_level']== 2,'family_num_level']='2인'\n",
    "df.loc[df['family_num_level']== 3,'family_num_level']='3인'\n",
    "df.loc[df['family_num_level']== 4,'family_num_level']='4인'\n",
    "df.loc[df['family_num_level']== 5,'family_num_level']='5인'\n",
    "df.loc[df['family_num_level']== 6,'family_num_level']='6인'\n",
    "df.loc[df['family_num_level']== 7,'family_num_level']='7인이상'"
   ]
  },
  {
   "cell_type": "code",
   "execution_count": null,
   "id": "07bb9629",
   "metadata": {},
   "outputs": [],
   "source": [
    "# family_num_level 변환 함수\n",
    "# df['family_num_level'] = df['family_num_level'].map(lambda x : f\"{x}인 이상\" if x == 7 else f\"{x}인\")\n",
    "\n",
    "# 확인\n",
    "# df['family_num_level'].unique()"
   ]
  },
  {
   "cell_type": "code",
   "execution_count": 75,
   "id": "34684c4d",
   "metadata": {},
   "outputs": [
    {
     "data": {
      "text/plain": [
       "4인      202831\n",
       "3인      138082\n",
       "2인       83653\n",
       "5인       39590\n",
       "1인       34711\n",
       "6인       13004\n",
       "7인이상        38\n",
       "Name: family_num_level, dtype: int64"
      ]
     },
     "execution_count": 75,
     "metadata": {},
     "output_type": "execute_result"
    }
   ],
   "source": [
    "df['family_num_level'].value_counts()"
   ]
  },
  {
   "cell_type": "code",
   "execution_count": 157,
   "id": "43fd14b9",
   "metadata": {},
   "outputs": [
    {
     "data": {
      "text/plain": [
       "<Axes: xlabel='family_num_level', ylabel='count'>"
      ]
     },
     "execution_count": 157,
     "metadata": {},
     "output_type": "execute_result"
    },
    {
     "data": {
      "image/png": "[encoded data removed]",
      "text/plain": [
       "<Figure size 640x480 with 1 Axes>"
      ]
     },
     "metadata": {},
     "output_type": "display_data"
    }
   ],
   "source": [
    "sns.countplot(x=\"family_num_level\",data=df)"
   ]
  },
  {
   "cell_type": "markdown",
   "id": "e5a38f66",
   "metadata": {},
   "source": [
    "### @ age_group (나이 그룹)"
   ]
  },
  {
   "cell_type": "code",
   "execution_count": 159,
   "id": "d779f1f4",
   "metadata": {},
   "outputs": [
    {
     "data": {
      "text/plain": [
       "7"
      ]
     },
     "execution_count": 159,
     "metadata": {},
     "output_type": "execute_result"
    }
   ],
   "source": [
    "df['age1_group'].nunique()"
   ]
  },
  {
   "cell_type": "code",
   "execution_count": 85,
   "id": "24410494",
   "metadata": {},
   "outputs": [],
   "source": [
    "df.loc[df['age1_group']== 80,'age1_group']='80대 이상'\n",
    "df.loc[df['age1_group']== 20,'age1_group']='20대 이하'\n",
    "df.loc[df['age1_group']== 30,'age1_group']='30대'\n",
    "df.loc[df['age1_group']== 40,'age1_group']='40대'\n",
    "df.loc[df['age1_group']== 50,'age1_group']='50대'\n",
    "df.loc[df['age1_group']== 60,'age1_group']='60대'\n",
    "df.loc[df['age1_group']== 70,'age1_group']='70대'"
   ]
  },
  {
   "cell_type": "code",
   "execution_count": 77,
   "id": "a3e52505",
   "metadata": {},
   "outputs": [
    {
     "data": {
      "text/plain": [
       "50대       169580\n",
       "40대       168341\n",
       "60대        99689\n",
       "30대        66541\n",
       "70대         6293\n",
       "20대 이하      1359\n",
       "80대 이상       106\n",
       "Name: age1_group, dtype: int64"
      ]
     },
     "execution_count": 77,
     "metadata": {},
     "output_type": "execute_result"
    }
   ],
   "source": [
    "df['age1_group'].value_counts()"
   ]
  },
  {
   "cell_type": "code",
   "execution_count": 162,
   "id": "0213d4ea",
   "metadata": {},
   "outputs": [
    {
     "data": {
      "text/plain": [
       "<Axes: xlabel='age1_group', ylabel='count'>"
      ]
     },
     "execution_count": 162,
     "metadata": {},
     "output_type": "execute_result"
    },
    {
     "data": {
      "image/png": "[encoded data removed]",
      "text/plain": [
       "<Figure size 640x480 with 1 Axes>"
      ]
     },
     "metadata": {},
     "output_type": "display_data"
    }
   ],
   "source": [
    "sns.countplot(x=\"age1_group\",data=df)"
   ]
  },
  {
   "cell_type": "markdown",
   "id": "c381f33f",
   "metadata": {},
   "source": [
    "### @ income (가계 수입)"
   ]
  },
  {
   "cell_type": "code",
   "execution_count": 165,
   "id": "d72f7bc9",
   "metadata": {},
   "outputs": [
    {
     "data": {
      "text/plain": [
       "7"
      ]
     },
     "execution_count": 165,
     "metadata": {},
     "output_type": "execute_result"
    }
   ],
   "source": [
    "df['income_v2'].nunique()"
   ]
  },
  {
   "cell_type": "code",
   "execution_count": 86,
   "id": "d6a2233c",
   "metadata": {},
   "outputs": [],
   "source": [
    "# income_v2 변환 함수\n",
    "def change_income(x) :\n",
    "    if x == '200만원 미만' :\n",
    "        return '200만원 미만'\n",
    "    elif x == '200~299만원' :\n",
    "        return '200만원대'\n",
    "    elif x == '300~399만원' :\n",
    "        return '300만원대'\n",
    "    elif x == '400~499만원' :\n",
    "        return '400만원대'\n",
    "    elif x == '500~599만원' :\n",
    "        return '500만원대'\n",
    "    elif x == '600~699만원' :\n",
    "        return '600만원대'\n",
    "    else :\n",
    "        return '700만원 이상'"
   ]
  },
  {
   "cell_type": "code",
   "execution_count": 185,
   "id": "9106f990",
   "metadata": {},
   "outputs": [],
   "source": [
    "df['income_v2'] = df['income_v2'].apply(change_income)"
   ]
  },
  {
   "cell_type": "code",
   "execution_count": 80,
   "id": "f54ba884",
   "metadata": {},
   "outputs": [
    {
     "data": {
      "text/plain": [
       "300만원대      97433\n",
       "700만원 이상    91051\n",
       "400만원대      87458\n",
       "200만원대      72379\n",
       "500만원대      64081\n",
       "200만원 미만    56683\n",
       "600만원대      42824\n",
       "Name: income_v2, dtype: int64"
      ]
     },
     "execution_count": 80,
     "metadata": {},
     "output_type": "execute_result"
    }
   ],
   "source": [
    "df['income_v2'].value_counts()"
   ]
  },
  {
   "cell_type": "code",
   "execution_count": 168,
   "id": "70f35df5",
   "metadata": {},
   "outputs": [
    {
     "data": {
      "text/plain": [
       "<Axes: xlabel='income_v2', ylabel='count'>"
      ]
     },
     "execution_count": 168,
     "metadata": {},
     "output_type": "execute_result"
    },
    {
     "data": {
      "image/png": "[encoded data removed]",
      "text/plain": [
       "<Figure size 1200x400 with 1 Axes>"
      ]
     },
     "metadata": {},
     "output_type": "display_data"
    }
   ],
   "source": [
    "plt.figure(figsize=(12,4))\n",
    "sns.countplot(x=\"income_v2\",data=df)"
   ]
  },
  {
   "cell_type": "code",
   "execution_count": 89,
   "id": "8d45aef0",
   "metadata": {},
   "outputs": [],
   "source": [
    "df.to_excel('C:/Users/kuy20/Desktop/실습/sql/fruits_after.xlsx',index=False)"
   ]
  },
  {
   "cell_type": "code",
   "execution_count": 5,
   "id": "5ca845c0",
   "metadata": {},
   "outputs": [
    {
     "data": {
      "text/plain": [
       "경기     231214\n",
       "서울     174470\n",
       "인천      47653\n",
       "온라인     25878\n",
       "강원        968\n",
       "충남        691\n",
       "부산        666\n",
       "제주        638\n",
       "경북        540\n",
       "충북        349\n",
       "전남        321\n",
       "전북        240\n",
       "경남        199\n",
       "대전        147\n",
       "광주        134\n",
       "울산        132\n",
       "대구         88\n",
       "세종         29\n",
       "Name: store_region, dtype: int64"
      ]
     },
     "execution_count": 5,
     "metadata": {},
     "output_type": "execute_result"
    }
   ],
   "source": [
    "import pandas as pd\n",
    "import numpy as np\n",
    "df.loc[df['store_region']== '','store_region']=np.nan\n",
    "df['store_region'].value_counts()"
   ]
  },
  {
   "cell_type": "code",
   "execution_count": null,
   "id": "edbd63b0",
   "metadata": {},
   "outputs": [],
   "source": []
  }
 ],
 "metadata": {
  "kernelspec": {
   "display_name": "Python 3 (ipykernel)",
   "language": "python",
   "name": "python3"
  },
  "language_info": {
   "codemirror_mode": {
    "name": "ipython",
    "version": 3
   },
   "file_extension": ".py",
   "mimetype": "text/x-python",
   "name": "python",
   "nbconvert_exporter": "python",
   "pygments_lexer": "ipython3",
   "version": "3.11.3"
  }
 },
 "nbformat": 4,
 "nbformat_minor": 5
}
